{
 "cells": [
  {
   "cell_type": "markdown",
   "id": "41da7c0a",
   "metadata": {},
   "source": [
    "### Kaggle Score : RMSE : 20"
   ]
  },
  {
   "cell_type": "code",
   "execution_count": 1,
   "id": "489698f1",
   "metadata": {
    "_cell_guid": "b1076dfc-b9ad-4769-8c92-a6c4dae69d19",
    "_uuid": "8f2839f25d086af736a60e9eeb907d3b93b6e0e5",
    "execution": {
     "iopub.execute_input": "2021-10-31T00:03:52.099146Z",
     "iopub.status.busy": "2021-10-31T00:03:52.098487Z",
     "iopub.status.idle": "2021-10-31T00:03:58.807975Z",
     "shell.execute_reply": "2021-10-31T00:03:58.807150Z",
     "shell.execute_reply.started": "2021-10-30T15:31:08.18221Z"
    },
    "papermill": {
     "duration": 6.738055,
     "end_time": "2021-10-31T00:03:58.808149",
     "exception": false,
     "start_time": "2021-10-31T00:03:52.070094",
     "status": "completed"
    },
    "tags": []
   },
   "outputs": [],
   "source": [
    "import tensorflow as tf\n",
    "# tf.logging.set_verbosity(tf.logging.ERROR)\n",
    "\n",
    "import numpy as np\n",
    "import keras\n",
    "from PIL import Image\n",
    "# from IPython.display import display, HTML\n",
    "import numpy as np\n",
    "import pandas as pd\n",
    "\n",
    "from keras.models import Sequential\n",
    "from keras.layers import Conv2D, MaxPooling2D,GlobalAveragePooling2D,Dropout, Flatten, Dense\n",
    "from keras import regularizers\n",
    "# from keras.optimizers import SGD\n",
    "from keras.preprocessing.image import ImageDataGenerator\n",
    "from sklearn.metrics import roc_auc_score\n",
    "from sklearn.preprocessing import LabelEncoder # one-hot encoding for age\n",
    "from keras.utils.np_utils import to_categorical\n",
    "from tensorflow.keras.optimizers import SGD\n",
    "\n",
    "import matplotlib.image as mpimg\n",
    "import matplotlib.pyplot as plt\n",
    "from PIL import Image\n",
    "from sklearn.model_selection import train_test_split\n",
    "import cv2\n",
    "import os"
   ]
  },
  {
   "cell_type": "code",
   "execution_count": 2,
   "id": "e6803e79",
   "metadata": {
    "execution": {
     "iopub.execute_input": "2021-10-31T00:03:58.846518Z",
     "iopub.status.busy": "2021-10-31T00:03:58.845810Z",
     "iopub.status.idle": "2021-10-31T00:03:58.902629Z",
     "shell.execute_reply": "2021-10-31T00:03:58.903274Z",
     "shell.execute_reply.started": "2021-10-30T15:31:59.670697Z"
    },
    "papermill": {
     "duration": 0.078639,
     "end_time": "2021-10-31T00:03:58.903446",
     "exception": false,
     "start_time": "2021-10-31T00:03:58.824807",
     "status": "completed"
    },
    "tags": []
   },
   "outputs": [
    {
     "data": {
      "text/html": [
       "<div>\n",
       "<style scoped>\n",
       "    .dataframe tbody tr th:only-of-type {\n",
       "        vertical-align: middle;\n",
       "    }\n",
       "\n",
       "    .dataframe tbody tr th {\n",
       "        vertical-align: top;\n",
       "    }\n",
       "\n",
       "    .dataframe thead th {\n",
       "        text-align: right;\n",
       "    }\n",
       "</style>\n",
       "<table border=\"1\" class=\"dataframe\">\n",
       "  <thead>\n",
       "    <tr style=\"text-align: right;\">\n",
       "      <th></th>\n",
       "      <th>Id</th>\n",
       "      <th>Subject Focus</th>\n",
       "      <th>Eyes</th>\n",
       "      <th>Face</th>\n",
       "      <th>Near</th>\n",
       "      <th>Action</th>\n",
       "      <th>Accessory</th>\n",
       "      <th>Group</th>\n",
       "      <th>Collage</th>\n",
       "      <th>Human</th>\n",
       "      <th>Occlusion</th>\n",
       "      <th>Info</th>\n",
       "      <th>Blur</th>\n",
       "      <th>Pawpularity</th>\n",
       "    </tr>\n",
       "  </thead>\n",
       "  <tbody>\n",
       "    <tr>\n",
       "      <th>0</th>\n",
       "      <td>0007de18844b0dbbb5e1f607da0606e0</td>\n",
       "      <td>0</td>\n",
       "      <td>1</td>\n",
       "      <td>1</td>\n",
       "      <td>1</td>\n",
       "      <td>0</td>\n",
       "      <td>0</td>\n",
       "      <td>1</td>\n",
       "      <td>0</td>\n",
       "      <td>0</td>\n",
       "      <td>0</td>\n",
       "      <td>0</td>\n",
       "      <td>0</td>\n",
       "      <td>63</td>\n",
       "    </tr>\n",
       "    <tr>\n",
       "      <th>1</th>\n",
       "      <td>0009c66b9439883ba2750fb825e1d7db</td>\n",
       "      <td>0</td>\n",
       "      <td>1</td>\n",
       "      <td>1</td>\n",
       "      <td>0</td>\n",
       "      <td>0</td>\n",
       "      <td>0</td>\n",
       "      <td>0</td>\n",
       "      <td>0</td>\n",
       "      <td>0</td>\n",
       "      <td>0</td>\n",
       "      <td>0</td>\n",
       "      <td>0</td>\n",
       "      <td>42</td>\n",
       "    </tr>\n",
       "    <tr>\n",
       "      <th>2</th>\n",
       "      <td>0013fd999caf9a3efe1352ca1b0d937e</td>\n",
       "      <td>0</td>\n",
       "      <td>1</td>\n",
       "      <td>1</td>\n",
       "      <td>1</td>\n",
       "      <td>0</td>\n",
       "      <td>0</td>\n",
       "      <td>0</td>\n",
       "      <td>0</td>\n",
       "      <td>1</td>\n",
       "      <td>1</td>\n",
       "      <td>0</td>\n",
       "      <td>0</td>\n",
       "      <td>28</td>\n",
       "    </tr>\n",
       "    <tr>\n",
       "      <th>3</th>\n",
       "      <td>0018df346ac9c1d8413cfcc888ca8246</td>\n",
       "      <td>0</td>\n",
       "      <td>1</td>\n",
       "      <td>1</td>\n",
       "      <td>1</td>\n",
       "      <td>0</td>\n",
       "      <td>0</td>\n",
       "      <td>0</td>\n",
       "      <td>0</td>\n",
       "      <td>0</td>\n",
       "      <td>0</td>\n",
       "      <td>0</td>\n",
       "      <td>0</td>\n",
       "      <td>15</td>\n",
       "    </tr>\n",
       "    <tr>\n",
       "      <th>4</th>\n",
       "      <td>001dc955e10590d3ca4673f034feeef2</td>\n",
       "      <td>0</td>\n",
       "      <td>0</td>\n",
       "      <td>0</td>\n",
       "      <td>1</td>\n",
       "      <td>0</td>\n",
       "      <td>0</td>\n",
       "      <td>1</td>\n",
       "      <td>0</td>\n",
       "      <td>0</td>\n",
       "      <td>0</td>\n",
       "      <td>0</td>\n",
       "      <td>0</td>\n",
       "      <td>72</td>\n",
       "    </tr>\n",
       "  </tbody>\n",
       "</table>\n",
       "</div>"
      ],
      "text/plain": [
       "                                 Id  Subject Focus  Eyes  Face  Near  Action  \\\n",
       "0  0007de18844b0dbbb5e1f607da0606e0              0     1     1     1       0   \n",
       "1  0009c66b9439883ba2750fb825e1d7db              0     1     1     0       0   \n",
       "2  0013fd999caf9a3efe1352ca1b0d937e              0     1     1     1       0   \n",
       "3  0018df346ac9c1d8413cfcc888ca8246              0     1     1     1       0   \n",
       "4  001dc955e10590d3ca4673f034feeef2              0     0     0     1       0   \n",
       "\n",
       "   Accessory  Group  Collage  Human  Occlusion  Info  Blur  Pawpularity  \n",
       "0          0      1        0      0          0     0     0           63  \n",
       "1          0      0        0      0          0     0     0           42  \n",
       "2          0      0        0      1          1     0     0           28  \n",
       "3          0      0        0      0          0     0     0           15  \n",
       "4          0      1        0      0          0     0     0           72  "
      ]
     },
     "execution_count": 2,
     "metadata": {},
     "output_type": "execute_result"
    }
   ],
   "source": [
    "pawpularity_path = '../input/petfinder-pawpularity-score';\n",
    "df = pd.read_csv(pawpularity_path+'/train.csv')\n",
    "df.head()"
   ]
  },
  {
   "cell_type": "code",
   "execution_count": 3,
   "id": "c38fa5ea",
   "metadata": {
    "execution": {
     "iopub.execute_input": "2021-10-31T00:03:58.940726Z",
     "iopub.status.busy": "2021-10-31T00:03:58.940070Z",
     "iopub.status.idle": "2021-10-31T00:03:58.952473Z",
     "shell.execute_reply": "2021-10-31T00:03:58.952924Z",
     "shell.execute_reply.started": "2021-10-30T15:32:06.214907Z"
    },
    "papermill": {
     "duration": 0.032469,
     "end_time": "2021-10-31T00:03:58.953093",
     "exception": false,
     "start_time": "2021-10-31T00:03:58.920624",
     "status": "completed"
    },
    "tags": []
   },
   "outputs": [
    {
     "data": {
      "text/plain": [
       "0       0007de18844b0dbbb5e1f607da0606e0.jpg\n",
       "1       0009c66b9439883ba2750fb825e1d7db.jpg\n",
       "2       0013fd999caf9a3efe1352ca1b0d937e.jpg\n",
       "3       0018df346ac9c1d8413cfcc888ca8246.jpg\n",
       "4       001dc955e10590d3ca4673f034feeef2.jpg\n",
       "                        ...                 \n",
       "9907    ffbfa0383c34dc513c95560d6e1fdb57.jpg\n",
       "9908    ffcc8532d76436fc79e50eb2e5238e45.jpg\n",
       "9909    ffdf2e8673a1da6fb80342fa3b119a20.jpg\n",
       "9910    fff19e2ce11718548fa1c5d039a5192a.jpg\n",
       "9911    fff8e47c766799c9e12f3cb3d66ad228.jpg\n",
       "Name: Id, Length: 9912, dtype: object"
      ]
     },
     "execution_count": 3,
     "metadata": {},
     "output_type": "execute_result"
    }
   ],
   "source": [
    "df['Id'] = df['Id'] + '.jpg';\n",
    "df['Id']"
   ]
  },
  {
   "cell_type": "code",
   "execution_count": 4,
   "id": "84fc3769",
   "metadata": {
    "execution": {
     "iopub.execute_input": "2021-10-31T00:03:58.996158Z",
     "iopub.status.busy": "2021-10-31T00:03:58.995223Z",
     "iopub.status.idle": "2021-10-31T00:03:59.000078Z",
     "shell.execute_reply": "2021-10-31T00:03:58.999456Z",
     "shell.execute_reply.started": "2021-10-30T15:32:13.921906Z"
    },
    "papermill": {
     "duration": 0.03007,
     "end_time": "2021-10-31T00:03:59.000217",
     "exception": false,
     "start_time": "2021-10-31T00:03:58.970147",
     "status": "completed"
    },
    "tags": []
   },
   "outputs": [],
   "source": [
    "df.drop([ 'Subject Focus', 'Eyes', 'Face', 'Near', 'Action', 'Accessory',\n",
    "       'Group', 'Collage', 'Human', 'Occlusion', 'Info', 'Blur'],axis = 1,inplace = True)"
   ]
  },
  {
   "cell_type": "code",
   "execution_count": 5,
   "id": "3a6179e6",
   "metadata": {
    "execution": {
     "iopub.execute_input": "2021-10-31T00:03:59.041185Z",
     "iopub.status.busy": "2021-10-31T00:03:59.040551Z",
     "iopub.status.idle": "2021-10-31T00:07:46.978487Z",
     "shell.execute_reply": "2021-10-31T00:07:46.977837Z",
     "shell.execute_reply.started": "2021-10-30T15:32:21.091105Z"
    },
    "papermill": {
     "duration": 227.961302,
     "end_time": "2021-10-31T00:07:46.978647",
     "exception": false,
     "start_time": "2021-10-31T00:03:59.017345",
     "status": "completed"
    },
    "tags": []
   },
   "outputs": [],
   "source": [
    "X = []\n",
    "Y = []\n",
    "width = 100\n",
    "height = 100\n",
    "\n",
    "for index, row in df.iterrows():\n",
    "    file_path = pawpularity_path+'/train/'+ row.Id\n",
    "    image = Image.open(file_path)\n",
    "    image = image.convert('RGB')\n",
    "    image = image.resize((width, height))\n",
    "    X.append(np.array(image))\n",
    "    Y.append(row.Pawpularity)"
   ]
  },
  {
   "cell_type": "code",
   "execution_count": 6,
   "id": "84cc2c01",
   "metadata": {
    "execution": {
     "iopub.execute_input": "2021-10-31T00:07:47.016944Z",
     "iopub.status.busy": "2021-10-31T00:07:47.016235Z",
     "iopub.status.idle": "2021-10-31T00:07:47.897147Z",
     "shell.execute_reply": "2021-10-31T00:07:47.896381Z",
     "shell.execute_reply.started": "2021-10-30T15:36:08.910725Z"
    },
    "papermill": {
     "duration": 0.900752,
     "end_time": "2021-10-31T00:07:47.897358",
     "exception": false,
     "start_time": "2021-10-31T00:07:46.996606",
     "status": "completed"
    },
    "tags": []
   },
   "outputs": [
    {
     "name": "stdout",
     "output_type": "stream",
     "text": [
      "Min: 0.000, Max: 1.000\n"
     ]
    }
   ],
   "source": [
    "# Normalise input data to range [0,1]\n",
    "X = np.array(X)\n",
    "X = X.astype('float32')\n",
    "X /= 255.0\n",
    "# confirm the normalization\n",
    "print('Min: %.3f, Max: %.3f' % (X.min(), X.max()))\n",
    "\n",
    "Y = np.array(Y)"
   ]
  },
  {
   "cell_type": "code",
   "execution_count": 7,
   "id": "a8a21023",
   "metadata": {
    "execution": {
     "iopub.execute_input": "2021-10-31T00:07:47.937360Z",
     "iopub.status.busy": "2021-10-31T00:07:47.936681Z",
     "iopub.status.idle": "2021-10-31T00:07:48.527677Z",
     "shell.execute_reply": "2021-10-31T00:07:48.526846Z",
     "shell.execute_reply.started": "2021-10-30T15:36:50.463637Z"
    },
    "papermill": {
     "duration": 0.611948,
     "end_time": "2021-10-31T00:07:48.527828",
     "exception": false,
     "start_time": "2021-10-31T00:07:47.915880",
     "status": "completed"
    },
    "tags": []
   },
   "outputs": [],
   "source": [
    "test_size = 0.3\n",
    "seed = 42\n",
    "X_train, X_test, Y_train, Y_test = train_test_split(X, \n",
    "                                                    Y,\n",
    "                                                    test_size=test_size, \n",
    "                                                    random_state=seed,\n",
    "                                                    shuffle=True,\n",
    "                                                    stratify=Y)\n",
    "\n",
    "X_test, X_val, Y_test, Y_val = train_test_split(X_test, Y_test, test_size=0.5)"
   ]
  },
  {
   "cell_type": "code",
   "execution_count": 8,
   "id": "a5120360",
   "metadata": {
    "execution": {
     "iopub.execute_input": "2021-10-31T00:07:48.569279Z",
     "iopub.status.busy": "2021-10-31T00:07:48.567960Z",
     "iopub.status.idle": "2021-10-31T00:07:48.569971Z",
     "shell.execute_reply": "2021-10-31T00:07:48.570463Z",
     "shell.execute_reply.started": "2021-10-30T15:36:57.699967Z"
    },
    "papermill": {
     "duration": 0.025332,
     "end_time": "2021-10-31T00:07:48.570626",
     "exception": false,
     "start_time": "2021-10-31T00:07:48.545294",
     "status": "completed"
    },
    "tags": []
   },
   "outputs": [],
   "source": [
    "# Apply Image Augmentation\n",
    "\n",
    "train_datagen = ImageDataGenerator(\n",
    "    shear_range = 0.2, # random application of shearing\n",
    "    zoom_range = 0.2,\n",
    "    horizontal_flip = True) # randomly flipping half of the images horizontally\n",
    "\n",
    "test_datagen = ImageDataGenerator(\n",
    ")"
   ]
  },
  {
   "cell_type": "code",
   "execution_count": 9,
   "id": "86c06221",
   "metadata": {
    "execution": {
     "iopub.execute_input": "2021-10-31T00:07:48.616464Z",
     "iopub.status.busy": "2021-10-31T00:07:48.615512Z",
     "iopub.status.idle": "2021-10-31T00:07:48.618035Z",
     "shell.execute_reply": "2021-10-31T00:07:48.617549Z",
     "shell.execute_reply.started": "2021-10-30T15:37:14.548239Z"
    },
    "papermill": {
     "duration": 0.030034,
     "end_time": "2021-10-31T00:07:48.618168",
     "exception": false,
     "start_time": "2021-10-31T00:07:48.588134",
     "status": "completed"
    },
    "tags": []
   },
   "outputs": [],
   "source": [
    "from keras.callbacks import Callback, ReduceLROnPlateau, EarlyStopping\n",
    "from timeit import default_timer as timer\n",
    "\n",
    "class TimingCallback(Callback):\n",
    "    def __init__(self, logs={}):\n",
    "        self.logs=[]\n",
    "    def on_epoch_begin(self, epoch, logs={}):\n",
    "        self.starttime = timer()\n",
    "    def on_epoch_end(self, epoch, logs={}):\n",
    "        self.logs.append(timer()-self.starttime)\n",
    "\n",
    "early_stopping = EarlyStopping(\n",
    "                                patience=5, # wait for 5 epochs\n",
    "                                min_delta = 0.01, # if in 5 epochs the loss function doesn't inrease (for accuracy) \n",
    "                                               # or decrease (for val_loss) by 1%, then stop\n",
    "                                verbose=1, # print the training epoch on which training was stopped\n",
    "                                mode = 'min',\n",
    "                                monitor='val_loss')\n",
    "\n",
    "reduce_learning_rate = ReduceLROnPlateau(\n",
    "                                    monitor=\"val_loss\",\n",
    "                                    patience=3, # if val_loss plateaus for 3 epochs such that it doesn't see \n",
    "                                                # an improvement of size = epsilon\n",
    "                                    episilon= 0.01,\n",
    "                                    factor=0.1,  # then we reduce the learning rate by a factor of 0.1\n",
    "                                    cooldown = 4, # and we wait for 4 epochs before we restart again\n",
    "                                    verbose=1)\n",
    "\n",
    "time_callback = TimingCallback()\n",
    "\n",
    "        \n",
    "# hyperparameters\n",
    "lr = 0.01\n",
    "epochs = 30 # setting it to a low number since this is for Kaggle, ideally you should set this to a higher number ~ 100 so that the model overfits training data, and then apply the elbow methods to select the best params on validaion data\n",
    "batch_size = 128\n",
    "results = {}\n",
    "input_shape =[width,height]\n",
    "num_of_ages = 100"
   ]
  },
  {
   "cell_type": "code",
   "execution_count": 10,
   "id": "28e6a988",
   "metadata": {
    "execution": {
     "iopub.execute_input": "2021-10-31T00:07:48.665234Z",
     "iopub.status.busy": "2021-10-31T00:07:48.664578Z",
     "iopub.status.idle": "2021-10-31T00:27:18.737817Z",
     "shell.execute_reply": "2021-10-31T00:27:18.738358Z",
     "shell.execute_reply.started": "2021-10-30T15:37:38.196655Z"
    },
    "papermill": {
     "duration": 1170.103054,
     "end_time": "2021-10-31T00:27:18.738657",
     "exception": false,
     "start_time": "2021-10-31T00:07:48.635603",
     "status": "completed"
    },
    "tags": []
   },
   "outputs": [
    {
     "name": "stderr",
     "output_type": "stream",
     "text": [
      "\n",
      "User settings:\n",
      "\n",
      "   KMP_AFFINITY=granularity=fine,verbose,compact,1,0\n",
      "   KMP_BLOCKTIME=0\n",
      "   KMP_DUPLICATE_LIB_OK=True\n",
      "   KMP_INIT_AT_FORK=FALSE\n",
      "   KMP_SETTINGS=1\n",
      "   KMP_WARNINGS=0\n",
      "\n",
      "Effective settings:\n",
      "\n",
      "   KMP_ABORT_DELAY=0\n",
      "   KMP_ADAPTIVE_LOCK_PROPS='1,1024'\n",
      "   KMP_ALIGN_ALLOC=64\n",
      "   KMP_ALL_THREADPRIVATE=128\n",
      "   KMP_ATOMIC_MODE=2\n",
      "   KMP_BLOCKTIME=0\n",
      "   KMP_CPUINFO_FILE: value is not defined\n",
      "   KMP_DETERMINISTIC_REDUCTION=false\n",
      "   KMP_DEVICE_THREAD_LIMIT=2147483647\n",
      "   KMP_DISP_NUM_BUFFERS=7\n",
      "   KMP_DUPLICATE_LIB_OK=true\n",
      "   KMP_ENABLE_TASK_THROTTLING=true\n",
      "   KMP_FORCE_REDUCTION: value is not defined\n",
      "   KMP_FOREIGN_THREADS_THREADPRIVATE=true\n",
      "   KMP_FORKJOIN_BARRIER='2,2'\n",
      "   KMP_FORKJOIN_BARRIER_PATTERN='hyper,hyper'\n",
      "   KMP_GTID_MODE=3\n",
      "   KMP_HANDLE_SIGNALS=false\n",
      "   KMP_HOT_TEAMS_MAX_LEVEL=1\n",
      "   KMP_HOT_TEAMS_MODE=0\n",
      "   KMP_INIT_AT_FORK=true\n",
      "   KMP_LIBRARY=throughput\n",
      "   KMP_LOCK_KIND=queuing\n",
      "   KMP_MALLOC_POOL_INCR=1M\n",
      "   KMP_NUM_LOCKS_IN_BLOCK=1\n",
      "   KMP_PLAIN_BARRIER='2,2'\n",
      "   KMP_PLAIN_BARRIER_PATTERN='hyper,hyper'\n",
      "   KMP_REDUCTION_BARRIER='1,1'\n",
      "   KMP_REDUCTION_BARRIER_PATTERN='hyper,hyper'\n",
      "   KMP_SCHEDULE='static,balanced;guided,iterative'\n",
      "   KMP_SETTINGS=true\n",
      "   KMP_SPIN_BACKOFF_PARAMS='4096,100'\n",
      "   KMP_STACKOFFSET=64\n",
      "   KMP_STACKPAD=0\n",
      "   KMP_STACKSIZE=8M\n",
      "   KMP_STORAGE_MAP=false\n",
      "   KMP_TASKING=2\n",
      "   KMP_TASKLOOP_MIN_TASKS=0\n",
      "   KMP_TASK_STEALING_CONSTRAINT=1\n",
      "   KMP_TEAMS_THREAD_LIMIT=4\n",
      "   KMP_TOPOLOGY_METHOD=all\n",
      "   KMP_USE_YIELD=1\n",
      "   KMP_VERSION=false\n",
      "   KMP_WARNINGS=false\n",
      "   OMP_AFFINITY_FORMAT='OMP: pid %P tid %i thread %n bound to OS proc set {%A}'\n",
      "   OMP_ALLOCATOR=omp_default_mem_alloc\n",
      "   OMP_CANCELLATION=false\n",
      "   OMP_DEFAULT_DEVICE=0\n",
      "   OMP_DISPLAY_AFFINITY=false\n",
      "   OMP_DISPLAY_ENV=false\n",
      "   OMP_DYNAMIC=false\n",
      "   OMP_MAX_ACTIVE_LEVELS=1\n",
      "   OMP_MAX_TASK_PRIORITY=0\n",
      "   OMP_NESTED: deprecated; max-active-levels-var=1\n",
      "   OMP_NUM_THREADS: value is not defined\n",
      "   OMP_PLACES: value is not defined\n",
      "   OMP_PROC_BIND='intel'\n",
      "   OMP_SCHEDULE='static'\n",
      "   OMP_STACKSIZE=8M\n",
      "   OMP_TARGET_OFFLOAD=DEFAULT\n",
      "   OMP_THREAD_LIMIT=2147483647\n",
      "   OMP_WAIT_POLICY=PASSIVE\n",
      "   KMP_AFFINITY='verbose,warnings,respect,granularity=fine,compact,1,0'\n",
      "\n",
      "2021-10-31 00:07:48.719101: I tensorflow/core/common_runtime/process_util.cc:146] Creating new thread pool with default inter op setting: 2. Tune using inter_op_parallelism_threads for best performance.\n",
      "/opt/conda/lib/python3.7/site-packages/keras/engine/training.py:1972: UserWarning: `Model.fit_generator` is deprecated and will be removed in a future version. Please use `Model.fit`, which supports generators.\n",
      "  warnings.warn('`Model.fit_generator` is deprecated and '\n",
      "2021-10-31 00:07:49.852561: I tensorflow/compiler/mlir/mlir_graph_optimization_pass.cc:185] None of the MLIR Optimization Passes are enabled (registered 2)\n"
     ]
    },
    {
     "name": "stdout",
     "output_type": "stream",
     "text": [
      "Epoch 1/30\n",
      "55/55 [==============================] - 109s 2s/step - loss: 36.6695 - mean_absolute_error: 36.6695 - val_loss: 34.7690 - val_mean_absolute_error: 34.7690\n",
      "Epoch 2/30\n",
      "55/55 [==============================] - 103s 2s/step - loss: 29.6512 - mean_absolute_error: 29.6512 - val_loss: 23.7338 - val_mean_absolute_error: 23.7338\n",
      "Epoch 3/30\n",
      "55/55 [==============================] - 104s 2s/step - loss: 17.8588 - mean_absolute_error: 17.8588 - val_loss: 15.3930 - val_mean_absolute_error: 15.3930\n",
      "Epoch 4/30\n",
      "55/55 [==============================] - 104s 2s/step - loss: 15.2002 - mean_absolute_error: 15.2002 - val_loss: 15.2779 - val_mean_absolute_error: 15.2779\n",
      "Epoch 5/30\n",
      "55/55 [==============================] - 103s 2s/step - loss: 15.1138 - mean_absolute_error: 15.1138 - val_loss: 15.3548 - val_mean_absolute_error: 15.3548\n",
      "Epoch 6/30\n",
      "55/55 [==============================] - 103s 2s/step - loss: 14.9955 - mean_absolute_error: 14.9955 - val_loss: 15.7237 - val_mean_absolute_error: 15.7237\n",
      "Epoch 7/30\n",
      "55/55 [==============================] - 103s 2s/step - loss: 14.9080 - mean_absolute_error: 14.9080 - val_loss: 15.5324 - val_mean_absolute_error: 15.5324\n",
      "\n",
      "Epoch 00007: ReduceLROnPlateau reducing learning rate to 0.00010000000474974513.\n",
      "Epoch 8/30\n",
      "55/55 [==============================] - 104s 2s/step - loss: 14.8482 - mean_absolute_error: 14.8482 - val_loss: 15.6172 - val_mean_absolute_error: 15.6172\n",
      "Epoch 9/30\n",
      "55/55 [==============================] - 105s 2s/step - loss: 14.8541 - mean_absolute_error: 14.8541 - val_loss: 15.8582 - val_mean_absolute_error: 15.8582\n",
      "Epoch 00009: early stopping\n"
     ]
    }
   ],
   "source": [
    "from keras.applications.mobilenet import MobileNet\n",
    "from keras.layers import GlobalAveragePooling2D, Dense, Dropout, Flatten, BatchNormalization\n",
    "from keras.models import Sequential\n",
    "base_mobilenet_model = MobileNet(input_shape =  (input_shape[0],input_shape[1], 3), \n",
    "                                 include_top = False, \n",
    "                                 weights = None)\n",
    "mobilenet_model = Sequential()\n",
    "mobilenet_model.add(BatchNormalization(input_shape = (input_shape[0],input_shape[1], 3)))\n",
    "mobilenet_model.add(base_mobilenet_model)\n",
    "mobilenet_model.add(BatchNormalization())\n",
    "mobilenet_model.add(GlobalAveragePooling2D())\n",
    "mobilenet_model.add(Dropout(0.5))\n",
    "mobilenet_model.add(Dense(1,activation='linear')) \n",
    "\n",
    "\n",
    "\n",
    "mobilenet_model.compile(optimizer = 'adam', loss = 'mean_absolute_error',\n",
    "                           metrics = [\"mean_absolute_error\"])\n",
    "\n",
    "# mobilenet_model.summary()\n",
    "\n",
    "# Fit model on training data\n",
    "mobilenet_model_history = mobilenet_model.fit_generator(\n",
    "            train_datagen.flow(X_train,Y_train,\n",
    "                         batch_size = batch_size), \n",
    "            validation_data = (X_val,Y_val),\n",
    "            epochs = epochs,\n",
    "            callbacks = [\n",
    "                         reduce_learning_rate,\n",
    "                         early_stopping,\n",
    "                         time_callback\n",
    "                        ],\n",
    "            verbose=True)"
   ]
  },
  {
   "cell_type": "code",
   "execution_count": 11,
   "id": "7bdf10ff",
   "metadata": {
    "execution": {
     "iopub.execute_input": "2021-10-31T00:27:19.092378Z",
     "iopub.status.busy": "2021-10-31T00:27:19.091687Z",
     "iopub.status.idle": "2021-10-31T00:27:59.711612Z",
     "shell.execute_reply": "2021-10-31T00:27:59.712089Z",
     "shell.execute_reply.started": "2021-10-30T16:04:23.425207Z"
    },
    "papermill": {
     "duration": 40.800501,
     "end_time": "2021-10-31T00:27:59.712333",
     "exception": false,
     "start_time": "2021-10-31T00:27:18.911832",
     "status": "completed"
    },
    "tags": []
   },
   "outputs": [
    {
     "name": "stdout",
     "output_type": "stream",
     "text": [
      "12/12 [==============================] - 4s 310ms/step - loss: 14.8141 - mean_absolute_error: 14.8141\n",
      "{'loss': 14.814105987548828, 'mean_absolute_error': 14.814105987548828}\n"
     ]
    }
   ],
   "source": [
    "# MobileNet\n",
    "\n",
    "mobilenet_model_test_results = mobilenet_model.evaluate(X_test, Y_test, batch_size=128)\n",
    "print(dict(zip(mobilenet_model.metrics_names, mobilenet_model_test_results)))"
   ]
  },
  {
   "cell_type": "code",
   "execution_count": 12,
   "id": "60e18218",
   "metadata": {
    "execution": {
     "iopub.execute_input": "2021-10-31T00:28:00.073966Z",
     "iopub.status.busy": "2021-10-31T00:28:00.071204Z",
     "iopub.status.idle": "2021-10-31T00:28:00.088109Z",
     "shell.execute_reply": "2021-10-31T00:28:00.088634Z",
     "shell.execute_reply.started": "2021-10-30T16:04:54.232797Z"
    },
    "papermill": {
     "duration": 0.198594,
     "end_time": "2021-10-31T00:28:00.088804",
     "exception": false,
     "start_time": "2021-10-31T00:27:59.890210",
     "status": "completed"
    },
    "tags": []
   },
   "outputs": [],
   "source": [
    "df_test = pd.read_csv(pawpularity_path+'/test.csv')\n",
    "Id = df_test[\"Id\"].copy()"
   ]
  },
  {
   "cell_type": "code",
   "execution_count": 13,
   "id": "245b09e9",
   "metadata": {
    "execution": {
     "iopub.execute_input": "2021-10-31T00:28:00.449262Z",
     "iopub.status.busy": "2021-10-31T00:28:00.448623Z",
     "iopub.status.idle": "2021-10-31T00:28:00.454858Z",
     "shell.execute_reply": "2021-10-31T00:28:00.454306Z",
     "shell.execute_reply.started": "2021-10-30T16:05:00.922309Z"
    },
    "papermill": {
     "duration": 0.186857,
     "end_time": "2021-10-31T00:28:00.455002",
     "exception": false,
     "start_time": "2021-10-31T00:28:00.268145",
     "status": "completed"
    },
    "tags": []
   },
   "outputs": [],
   "source": [
    "df_test[\"Id\"] = df_test[\"Id\"].apply(lambda x : x + \".jpg\")"
   ]
  },
  {
   "cell_type": "code",
   "execution_count": 14,
   "id": "204947cd",
   "metadata": {
    "execution": {
     "iopub.execute_input": "2021-10-31T00:28:00.815838Z",
     "iopub.status.busy": "2021-10-31T00:28:00.815189Z",
     "iopub.status.idle": "2021-10-31T00:28:00.906614Z",
     "shell.execute_reply": "2021-10-31T00:28:00.907138Z",
     "shell.execute_reply.started": "2021-10-30T16:05:09.320476Z"
    },
    "papermill": {
     "duration": 0.275339,
     "end_time": "2021-10-31T00:28:00.907377",
     "exception": false,
     "start_time": "2021-10-31T00:28:00.632038",
     "status": "completed"
    },
    "tags": []
   },
   "outputs": [],
   "source": [
    "X = []\n",
    "Y = []\n",
    "width = 100\n",
    "height = 100\n",
    "\n",
    "for index, row in df_test.iterrows():\n",
    "    file_path = pawpularity_path+'/test/'+ row.Id\n",
    "    image = Image.open(file_path)\n",
    "    image = image.convert('RGB')\n",
    "    image = image.resize((width, height))\n",
    "    X.append(np.array(image))\n",
    "#     Y.append(row.Pawpularity)"
   ]
  },
  {
   "cell_type": "code",
   "execution_count": 15,
   "id": "acd2c460",
   "metadata": {
    "execution": {
     "iopub.execute_input": "2021-10-31T00:28:01.268000Z",
     "iopub.status.busy": "2021-10-31T00:28:01.267367Z",
     "iopub.status.idle": "2021-10-31T00:28:01.274552Z",
     "shell.execute_reply": "2021-10-31T00:28:01.275155Z",
     "shell.execute_reply.started": "2021-10-30T16:05:17.351322Z"
    },
    "papermill": {
     "duration": 0.187958,
     "end_time": "2021-10-31T00:28:01.275339",
     "exception": false,
     "start_time": "2021-10-31T00:28:01.087381",
     "status": "completed"
    },
    "tags": []
   },
   "outputs": [
    {
     "name": "stdout",
     "output_type": "stream",
     "text": [
      "Min: 0.000, Max: 1.000\n"
     ]
    }
   ],
   "source": [
    "# Normalise input data to range [0,1]\n",
    "X = np.array(X)\n",
    "X = X.astype('float32')\n",
    "X /= 255.0\n",
    "# confirm the normalization\n",
    "print('Min: %.3f, Max: %.3f' % (X.min(), X.max()))\n",
    "\n",
    "# Y = np.array(Y)"
   ]
  },
  {
   "cell_type": "code",
   "execution_count": 16,
   "id": "440a6bf2",
   "metadata": {
    "execution": {
     "iopub.execute_input": "2021-10-31T00:28:01.633662Z",
     "iopub.status.busy": "2021-10-31T00:28:01.633036Z",
     "iopub.status.idle": "2021-10-31T00:28:02.374110Z",
     "shell.execute_reply": "2021-10-31T00:28:02.373424Z",
     "shell.execute_reply.started": "2021-10-30T16:05:35.811912Z"
    },
    "papermill": {
     "duration": 0.921235,
     "end_time": "2021-10-31T00:28:02.374276",
     "exception": false,
     "start_time": "2021-10-31T00:28:01.453041",
     "status": "completed"
    },
    "tags": []
   },
   "outputs": [],
   "source": [
    "predicted_ages = mobilenet_model.predict(X)"
   ]
  },
  {
   "cell_type": "code",
   "execution_count": 17,
   "id": "a89a7108",
   "metadata": {
    "execution": {
     "iopub.execute_input": "2021-10-31T00:28:02.739118Z",
     "iopub.status.busy": "2021-10-31T00:28:02.738319Z",
     "iopub.status.idle": "2021-10-31T00:28:02.741544Z",
     "shell.execute_reply": "2021-10-31T00:28:02.742025Z",
     "shell.execute_reply.started": "2021-10-30T16:05:42.74653Z"
    },
    "papermill": {
     "duration": 0.190016,
     "end_time": "2021-10-31T00:28:02.742188",
     "exception": false,
     "start_time": "2021-10-31T00:28:02.552172",
     "status": "completed"
    },
    "tags": []
   },
   "outputs": [
    {
     "data": {
      "text/plain": [
       "array([[28.85332 ],\n",
       "       [28.85919 ],\n",
       "       [28.862677],\n",
       "       [28.85764 ],\n",
       "       [28.862047],\n",
       "       [28.86506 ],\n",
       "       [28.853378],\n",
       "       [28.86103 ]], dtype=float32)"
      ]
     },
     "execution_count": 17,
     "metadata": {},
     "output_type": "execute_result"
    }
   ],
   "source": [
    "predicted_ages"
   ]
  },
  {
   "cell_type": "code",
   "execution_count": 18,
   "id": "8f21fd07",
   "metadata": {
    "execution": {
     "iopub.execute_input": "2021-10-31T00:28:03.103220Z",
     "iopub.status.busy": "2021-10-31T00:28:03.102211Z",
     "iopub.status.idle": "2021-10-31T00:28:03.118463Z",
     "shell.execute_reply": "2021-10-31T00:28:03.119099Z",
     "shell.execute_reply.started": "2021-10-30T16:06:21.88643Z"
    },
    "papermill": {
     "duration": 0.1993,
     "end_time": "2021-10-31T00:28:03.119311",
     "exception": false,
     "start_time": "2021-10-31T00:28:02.920011",
     "status": "completed"
    },
    "tags": []
   },
   "outputs": [],
   "source": [
    "submission_file = pd.read_csv('../input/petfinder-pawpularity-score/sample_submission.csv')\n",
    "\n",
    "submission_file['Pawpularity'] = predicted_ages\n",
    "\n",
    "submission_file.to_csv(\"submission.csv\", index=False)"
   ]
  },
  {
   "cell_type": "code",
   "execution_count": null,
   "id": "6fb16668",
   "metadata": {
    "papermill": {
     "duration": 0.178425,
     "end_time": "2021-10-31T00:28:03.476527",
     "exception": false,
     "start_time": "2021-10-31T00:28:03.298102",
     "status": "completed"
    },
    "tags": []
   },
   "outputs": [],
   "source": []
  }
 ],
 "metadata": {
  "kernelspec": {
   "display_name": "Python 3 (ipykernel)",
   "language": "python",
   "name": "python3"
  },
  "language_info": {
   "codemirror_mode": {
    "name": "ipython",
    "version": 3
   },
   "file_extension": ".py",
   "mimetype": "text/x-python",
   "name": "python",
   "nbconvert_exporter": "python",
   "pygments_lexer": "ipython3",
   "version": "3.9.7"
  },
  "papermill": {
   "default_parameters": {},
   "duration": 1463.501032,
   "end_time": "2021-10-31T00:28:06.710418",
   "environment_variables": {},
   "exception": null,
   "input_path": "__notebook__.ipynb",
   "output_path": "__notebook__.ipynb",
   "parameters": {},
   "start_time": "2021-10-31T00:03:43.209386",
   "version": "2.3.3"
  }
 },
 "nbformat": 4,
 "nbformat_minor": 5
}
