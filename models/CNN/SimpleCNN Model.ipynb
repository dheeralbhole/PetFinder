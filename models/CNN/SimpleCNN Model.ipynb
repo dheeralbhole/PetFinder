{
 "cells": [
  {
   "cell_type": "code",
   "execution_count": 1,
   "id": "8c6b9198",
   "metadata": {
    "_cell_guid": "b1076dfc-b9ad-4769-8c92-a6c4dae69d19",
    "_uuid": "8f2839f25d086af736a60e9eeb907d3b93b6e0e5",
    "execution": {
     "iopub.execute_input": "2021-10-30T01:04:35.642175Z",
     "iopub.status.busy": "2021-10-30T01:04:35.641529Z",
     "iopub.status.idle": "2021-10-30T01:04:41.707766Z",
     "shell.execute_reply": "2021-10-30T01:04:41.707083Z",
     "shell.execute_reply.started": "2021-10-30T00:40:33.079373Z"
    },
    "papermill": {
     "duration": 6.093233,
     "end_time": "2021-10-30T01:04:41.707941",
     "exception": false,
     "start_time": "2021-10-30T01:04:35.614708",
     "status": "completed"
    },
    "tags": []
   },
   "outputs": [],
   "source": [
    "import tensorflow as tf\n",
    "# tf.logging.set_verbosity(tf.logging.ERROR)\n",
    "\n",
    "import numpy as np\n",
    "import keras\n",
    "from PIL import Image\n",
    "# from IPython.display import display, HTML\n",
    "import numpy as np\n",
    "import pandas as pd\n",
    "\n",
    "from keras.models import Sequential\n",
    "from keras.layers import Conv2D, MaxPooling2D,GlobalAveragePooling2D,Dropout, Flatten, Dense\n",
    "from keras import regularizers\n",
    "# from keras.optimizers import SGD\n",
    "from keras.preprocessing.image import ImageDataGenerator\n",
    "from sklearn.metrics import roc_auc_score\n",
    "from sklearn.preprocessing import LabelEncoder # one-hot encoding for age\n",
    "from keras.utils.np_utils import to_categorical\n",
    "\n",
    "\n",
    "import matplotlib.image as mpimg\n",
    "import matplotlib.pyplot as plt\n",
    "from PIL import Image\n",
    "from sklearn.model_selection import train_test_split\n",
    "import cv2\n",
    "import os"
   ]
  },
  {
   "cell_type": "code",
   "execution_count": 2,
   "id": "e147d874",
   "metadata": {
    "execution": {
     "iopub.execute_input": "2021-10-30T01:04:41.743908Z",
     "iopub.status.busy": "2021-10-30T01:04:41.743257Z",
     "iopub.status.idle": "2021-10-30T01:04:41.797625Z",
     "shell.execute_reply": "2021-10-30T01:04:41.797032Z",
     "shell.execute_reply.started": "2021-10-30T00:40:33.106224Z"
    },
    "papermill": {
     "duration": 0.074283,
     "end_time": "2021-10-30T01:04:41.797757",
     "exception": false,
     "start_time": "2021-10-30T01:04:41.723474",
     "status": "completed"
    },
    "tags": []
   },
   "outputs": [
    {
     "data": {
      "text/html": [
       "<div>\n",
       "<style scoped>\n",
       "    .dataframe tbody tr th:only-of-type {\n",
       "        vertical-align: middle;\n",
       "    }\n",
       "\n",
       "    .dataframe tbody tr th {\n",
       "        vertical-align: top;\n",
       "    }\n",
       "\n",
       "    .dataframe thead th {\n",
       "        text-align: right;\n",
       "    }\n",
       "</style>\n",
       "<table border=\"1\" class=\"dataframe\">\n",
       "  <thead>\n",
       "    <tr style=\"text-align: right;\">\n",
       "      <th></th>\n",
       "      <th>Id</th>\n",
       "      <th>Subject Focus</th>\n",
       "      <th>Eyes</th>\n",
       "      <th>Face</th>\n",
       "      <th>Near</th>\n",
       "      <th>Action</th>\n",
       "      <th>Accessory</th>\n",
       "      <th>Group</th>\n",
       "      <th>Collage</th>\n",
       "      <th>Human</th>\n",
       "      <th>Occlusion</th>\n",
       "      <th>Info</th>\n",
       "      <th>Blur</th>\n",
       "      <th>Pawpularity</th>\n",
       "    </tr>\n",
       "  </thead>\n",
       "  <tbody>\n",
       "    <tr>\n",
       "      <th>0</th>\n",
       "      <td>0007de18844b0dbbb5e1f607da0606e0</td>\n",
       "      <td>0</td>\n",
       "      <td>1</td>\n",
       "      <td>1</td>\n",
       "      <td>1</td>\n",
       "      <td>0</td>\n",
       "      <td>0</td>\n",
       "      <td>1</td>\n",
       "      <td>0</td>\n",
       "      <td>0</td>\n",
       "      <td>0</td>\n",
       "      <td>0</td>\n",
       "      <td>0</td>\n",
       "      <td>63</td>\n",
       "    </tr>\n",
       "    <tr>\n",
       "      <th>1</th>\n",
       "      <td>0009c66b9439883ba2750fb825e1d7db</td>\n",
       "      <td>0</td>\n",
       "      <td>1</td>\n",
       "      <td>1</td>\n",
       "      <td>0</td>\n",
       "      <td>0</td>\n",
       "      <td>0</td>\n",
       "      <td>0</td>\n",
       "      <td>0</td>\n",
       "      <td>0</td>\n",
       "      <td>0</td>\n",
       "      <td>0</td>\n",
       "      <td>0</td>\n",
       "      <td>42</td>\n",
       "    </tr>\n",
       "    <tr>\n",
       "      <th>2</th>\n",
       "      <td>0013fd999caf9a3efe1352ca1b0d937e</td>\n",
       "      <td>0</td>\n",
       "      <td>1</td>\n",
       "      <td>1</td>\n",
       "      <td>1</td>\n",
       "      <td>0</td>\n",
       "      <td>0</td>\n",
       "      <td>0</td>\n",
       "      <td>0</td>\n",
       "      <td>1</td>\n",
       "      <td>1</td>\n",
       "      <td>0</td>\n",
       "      <td>0</td>\n",
       "      <td>28</td>\n",
       "    </tr>\n",
       "    <tr>\n",
       "      <th>3</th>\n",
       "      <td>0018df346ac9c1d8413cfcc888ca8246</td>\n",
       "      <td>0</td>\n",
       "      <td>1</td>\n",
       "      <td>1</td>\n",
       "      <td>1</td>\n",
       "      <td>0</td>\n",
       "      <td>0</td>\n",
       "      <td>0</td>\n",
       "      <td>0</td>\n",
       "      <td>0</td>\n",
       "      <td>0</td>\n",
       "      <td>0</td>\n",
       "      <td>0</td>\n",
       "      <td>15</td>\n",
       "    </tr>\n",
       "    <tr>\n",
       "      <th>4</th>\n",
       "      <td>001dc955e10590d3ca4673f034feeef2</td>\n",
       "      <td>0</td>\n",
       "      <td>0</td>\n",
       "      <td>0</td>\n",
       "      <td>1</td>\n",
       "      <td>0</td>\n",
       "      <td>0</td>\n",
       "      <td>1</td>\n",
       "      <td>0</td>\n",
       "      <td>0</td>\n",
       "      <td>0</td>\n",
       "      <td>0</td>\n",
       "      <td>0</td>\n",
       "      <td>72</td>\n",
       "    </tr>\n",
       "  </tbody>\n",
       "</table>\n",
       "</div>"
      ],
      "text/plain": [
       "                                 Id  Subject Focus  Eyes  Face  Near  Action  \\\n",
       "0  0007de18844b0dbbb5e1f607da0606e0              0     1     1     1       0   \n",
       "1  0009c66b9439883ba2750fb825e1d7db              0     1     1     0       0   \n",
       "2  0013fd999caf9a3efe1352ca1b0d937e              0     1     1     1       0   \n",
       "3  0018df346ac9c1d8413cfcc888ca8246              0     1     1     1       0   \n",
       "4  001dc955e10590d3ca4673f034feeef2              0     0     0     1       0   \n",
       "\n",
       "   Accessory  Group  Collage  Human  Occlusion  Info  Blur  Pawpularity  \n",
       "0          0      1        0      0          0     0     0           63  \n",
       "1          0      0        0      0          0     0     0           42  \n",
       "2          0      0        0      1          1     0     0           28  \n",
       "3          0      0        0      0          0     0     0           15  \n",
       "4          0      1        0      0          0     0     0           72  "
      ]
     },
     "execution_count": 2,
     "metadata": {},
     "output_type": "execute_result"
    }
   ],
   "source": [
    "pawpularity_path = '../input/petfinder-pawpularity-score';\n",
    "df = pd.read_csv(pawpularity_path+'/train.csv')\n",
    "df.head()"
   ]
  },
  {
   "cell_type": "code",
   "execution_count": 3,
   "id": "1b900828",
   "metadata": {
    "execution": {
     "iopub.execute_input": "2021-10-30T01:04:41.835178Z",
     "iopub.status.busy": "2021-10-30T01:04:41.834562Z",
     "iopub.status.idle": "2021-10-30T01:04:41.841945Z",
     "shell.execute_reply": "2021-10-30T01:04:41.842455Z",
     "shell.execute_reply.started": "2021-10-30T00:40:33.254147Z"
    },
    "papermill": {
     "duration": 0.029334,
     "end_time": "2021-10-30T01:04:41.842617",
     "exception": false,
     "start_time": "2021-10-30T01:04:41.813283",
     "status": "completed"
    },
    "tags": []
   },
   "outputs": [
    {
     "data": {
      "text/plain": [
       "0       0007de18844b0dbbb5e1f607da0606e0.jpg\n",
       "1       0009c66b9439883ba2750fb825e1d7db.jpg\n",
       "2       0013fd999caf9a3efe1352ca1b0d937e.jpg\n",
       "3       0018df346ac9c1d8413cfcc888ca8246.jpg\n",
       "4       001dc955e10590d3ca4673f034feeef2.jpg\n",
       "                        ...                 \n",
       "9907    ffbfa0383c34dc513c95560d6e1fdb57.jpg\n",
       "9908    ffcc8532d76436fc79e50eb2e5238e45.jpg\n",
       "9909    ffdf2e8673a1da6fb80342fa3b119a20.jpg\n",
       "9910    fff19e2ce11718548fa1c5d039a5192a.jpg\n",
       "9911    fff8e47c766799c9e12f3cb3d66ad228.jpg\n",
       "Name: Id, Length: 9912, dtype: object"
      ]
     },
     "execution_count": 3,
     "metadata": {},
     "output_type": "execute_result"
    }
   ],
   "source": [
    "df['Id'] = df['Id'] + '.jpg';\n",
    "df['Id']"
   ]
  },
  {
   "cell_type": "code",
   "execution_count": 4,
   "id": "f5d4e695",
   "metadata": {
    "execution": {
     "iopub.execute_input": "2021-10-30T01:04:41.877066Z",
     "iopub.status.busy": "2021-10-30T01:04:41.876485Z",
     "iopub.status.idle": "2021-10-30T01:04:41.885136Z",
     "shell.execute_reply": "2021-10-30T01:04:41.885559Z",
     "shell.execute_reply.started": "2021-10-30T00:40:33.284376Z"
    },
    "papermill": {
     "duration": 0.028104,
     "end_time": "2021-10-30T01:04:41.885727",
     "exception": false,
     "start_time": "2021-10-30T01:04:41.857623",
     "status": "completed"
    },
    "tags": []
   },
   "outputs": [],
   "source": [
    "df.drop([ 'Subject Focus', 'Eyes', 'Face', 'Near', 'Action', 'Accessory',\n",
    "       'Group', 'Collage', 'Human', 'Occlusion', 'Info', 'Blur'],axis = 1,inplace = True)"
   ]
  },
  {
   "cell_type": "code",
   "execution_count": 5,
   "id": "9272f6de",
   "metadata": {
    "execution": {
     "iopub.execute_input": "2021-10-30T01:04:41.922488Z",
     "iopub.status.busy": "2021-10-30T01:04:41.921738Z",
     "iopub.status.idle": "2021-10-30T01:08:25.269734Z",
     "shell.execute_reply": "2021-10-30T01:08:25.269016Z",
     "shell.execute_reply.started": "2021-10-30T00:40:33.335805Z"
    },
    "papermill": {
     "duration": 223.368944,
     "end_time": "2021-10-30T01:08:25.269911",
     "exception": false,
     "start_time": "2021-10-30T01:04:41.900967",
     "status": "completed"
    },
    "tags": []
   },
   "outputs": [],
   "source": [
    "X = []\n",
    "Y = []\n",
    "width = 100\n",
    "height = 100\n",
    "\n",
    "for index, row in df.iterrows():\n",
    "    file_path = pawpularity_path+'/train/'+ row.Id\n",
    "    image = Image.open(file_path)\n",
    "    image = image.convert('RGB')\n",
    "    image = image.resize((width, height))\n",
    "    X.append(np.array(image))\n",
    "    Y.append(row.Pawpularity)"
   ]
  },
  {
   "cell_type": "code",
   "execution_count": 6,
   "id": "7bfd16e4",
   "metadata": {
    "execution": {
     "iopub.execute_input": "2021-10-30T01:08:25.309582Z",
     "iopub.status.busy": "2021-10-30T01:08:25.308379Z",
     "iopub.status.idle": "2021-10-30T01:08:26.189412Z",
     "shell.execute_reply": "2021-10-30T01:08:26.188924Z",
     "shell.execute_reply.started": "2021-10-30T00:44:13.593364Z"
    },
    "papermill": {
     "duration": 0.903302,
     "end_time": "2021-10-30T01:08:26.189541",
     "exception": false,
     "start_time": "2021-10-30T01:08:25.286239",
     "status": "completed"
    },
    "tags": []
   },
   "outputs": [
    {
     "name": "stdout",
     "output_type": "stream",
     "text": [
      "Min: 0.000, Max: 1.000\n"
     ]
    }
   ],
   "source": [
    "# Normalise input data to range [0,1]\n",
    "X = np.array(X)\n",
    "X = X.astype('float32')\n",
    "X /= 255.0\n",
    "# confirm the normalization\n",
    "print('Min: %.3f, Max: %.3f' % (X.min(), X.max()))\n",
    "\n",
    "Y = np.array(Y)"
   ]
  },
  {
   "cell_type": "code",
   "execution_count": 7,
   "id": "80822610",
   "metadata": {
    "execution": {
     "iopub.execute_input": "2021-10-30T01:08:26.227034Z",
     "iopub.status.busy": "2021-10-30T01:08:26.223857Z",
     "iopub.status.idle": "2021-10-30T01:08:26.825513Z",
     "shell.execute_reply": "2021-10-30T01:08:26.824792Z",
     "shell.execute_reply.started": "2021-10-30T00:46:47.635125Z"
    },
    "papermill": {
     "duration": 0.620411,
     "end_time": "2021-10-30T01:08:26.825664",
     "exception": false,
     "start_time": "2021-10-30T01:08:26.205253",
     "status": "completed"
    },
    "tags": []
   },
   "outputs": [],
   "source": [
    "test_size = 0.3\n",
    "seed = 42\n",
    "X_train, X_test, Y_train, Y_test = train_test_split(X, \n",
    "                                                    Y,\n",
    "                                                    test_size=test_size, \n",
    "                                                    random_state=seed,\n",
    "                                                    shuffle=True,\n",
    "                                                    stratify=Y)\n",
    "\n",
    "X_test, X_val, Y_test, Y_val = train_test_split(X_test, Y_test, test_size=0.5)\n"
   ]
  },
  {
   "cell_type": "code",
   "execution_count": 8,
   "id": "8a4ebadb",
   "metadata": {
    "execution": {
     "iopub.execute_input": "2021-10-30T01:08:26.866064Z",
     "iopub.status.busy": "2021-10-30T01:08:26.865105Z",
     "iopub.status.idle": "2021-10-30T01:08:26.867228Z",
     "shell.execute_reply": "2021-10-30T01:08:26.867628Z",
     "shell.execute_reply.started": "2021-10-30T00:46:56.687105Z"
    },
    "papermill": {
     "duration": 0.024958,
     "end_time": "2021-10-30T01:08:26.867795",
     "exception": false,
     "start_time": "2021-10-30T01:08:26.842837",
     "status": "completed"
    },
    "tags": []
   },
   "outputs": [],
   "source": [
    "# Apply Image Augmentation\n",
    "\n",
    "train_datagen = ImageDataGenerator(\n",
    "    shear_range = 0.2, # random application of shearing\n",
    "    zoom_range = 0.2,\n",
    "    horizontal_flip = True) # randomly flipping half of the images horizontally\n",
    "\n",
    "test_datagen = ImageDataGenerator(\n",
    ")"
   ]
  },
  {
   "cell_type": "code",
   "execution_count": 9,
   "id": "cb8f9fd8",
   "metadata": {
    "execution": {
     "iopub.execute_input": "2021-10-30T01:08:26.907651Z",
     "iopub.status.busy": "2021-10-30T01:08:26.901777Z",
     "iopub.status.idle": "2021-10-30T01:08:26.909550Z",
     "shell.execute_reply": "2021-10-30T01:08:26.910056Z",
     "shell.execute_reply.started": "2021-10-30T00:47:03.468957Z"
    },
    "papermill": {
     "duration": 0.026611,
     "end_time": "2021-10-30T01:08:26.910239",
     "exception": false,
     "start_time": "2021-10-30T01:08:26.883628",
     "status": "completed"
    },
    "tags": []
   },
   "outputs": [],
   "source": [
    "from keras.callbacks import Callback, ReduceLROnPlateau, EarlyStopping\n",
    "from timeit import default_timer as timer\n",
    "\n",
    "class TimingCallback(Callback):\n",
    "    def __init__(self, logs={}):\n",
    "        self.logs=[]\n",
    "    def on_epoch_begin(self, epoch, logs={}):\n",
    "        self.starttime = timer()\n",
    "    def on_epoch_end(self, epoch, logs={}):\n",
    "        self.logs.append(timer()-self.starttime)\n",
    "\n",
    "early_stopping = EarlyStopping(\n",
    "                                patience=5, # wait for 5 epochs\n",
    "                                min_delta = 0.01, # if in 5 epochs the loss function doesn't inrease (for accuracy) \n",
    "                                               # or decrease (for val_loss) by 1%, then stop\n",
    "                                verbose=1, # print the training epoch on which training was stopped\n",
    "                                mode = 'min',\n",
    "                                monitor='val_loss')\n",
    "\n",
    "reduce_learning_rate = ReduceLROnPlateau(\n",
    "                                    monitor=\"val_loss\",\n",
    "                                    patience=3, # if val_loss plateaus for 3 epochs such that it doesn't see \n",
    "                                                # an improvement of size = epsilon\n",
    "                                    episilon= 0.01,\n",
    "                                    factor=0.1,  # then we reduce the learning rate by a factor of 0.1\n",
    "                                    cooldown = 4, # and we wait for 4 epochs before we restart again\n",
    "                                    verbose=1)\n",
    "\n",
    "time_callback = TimingCallback()\n",
    "\n",
    "        \n",
    "# hyperparameters\n",
    "lr = 0.01\n",
    "epochs = 30 # setting it to a low number since this is for Kaggle, ideally you should set this to a higher number ~ 100 so that the model overfits training data, and then apply the elbow methods to select the best params on validaion data\n",
    "batch_size = 128\n",
    "results = {}\n",
    "input_shape =[width,height]\n",
    "num_of_ages = 100"
   ]
  },
  {
   "cell_type": "code",
   "execution_count": 10,
   "id": "5f4b29ec",
   "metadata": {
    "execution": {
     "iopub.execute_input": "2021-10-30T01:08:26.945141Z",
     "iopub.status.busy": "2021-10-30T01:08:26.944244Z",
     "iopub.status.idle": "2021-10-30T01:08:26.950551Z",
     "shell.execute_reply": "2021-10-30T01:08:26.950100Z",
     "shell.execute_reply.started": "2021-10-30T00:47:11.008025Z"
    },
    "papermill": {
     "duration": 0.024563,
     "end_time": "2021-10-30T01:08:26.950685",
     "exception": false,
     "start_time": "2021-10-30T01:08:26.926122",
     "status": "completed"
    },
    "tags": []
   },
   "outputs": [],
   "source": [
    "def baseline_model():\n",
    "    model = Sequential()\n",
    "    model.add(Conv2D(filters=32,kernel_size=(3,3),activation=\"relu\",\n",
    "                   padding=\"valid\",\n",
    "                   kernel_regularizer=regularizers.l2(0.00001),\n",
    "                   input_shape=(input_shape[0], input_shape[1], 3)))\n",
    "    model.add(MaxPooling2D(pool_size=2, strides=2, padding='valid'))\n",
    "    model.add(Dropout(0.5))\n",
    "    model.add(Flatten())\n",
    "    model.add(Dense(1,activation=\"linear\")) \n",
    "    return model"
   ]
  },
  {
   "cell_type": "code",
   "execution_count": 11,
   "id": "0726e767",
   "metadata": {
    "execution": {
     "iopub.execute_input": "2021-10-30T01:08:26.987959Z",
     "iopub.status.busy": "2021-10-30T01:08:26.985708Z",
     "iopub.status.idle": "2021-10-30T01:08:27.573750Z",
     "shell.execute_reply": "2021-10-30T01:08:27.573128Z",
     "shell.execute_reply.started": "2021-10-30T00:47:59.483969Z"
    },
    "papermill": {
     "duration": 0.606994,
     "end_time": "2021-10-30T01:08:27.573963",
     "exception": false,
     "start_time": "2021-10-30T01:08:26.966969",
     "status": "completed"
    },
    "tags": []
   },
   "outputs": [],
   "source": [
    "from tensorflow import keras\n",
    "Adam= keras.optimizers.Adam(learning_rate=0.1,beta_1=0.9, beta_2=0.999, decay=0.0)"
   ]
  },
  {
   "cell_type": "code",
   "execution_count": 12,
   "id": "e427f4f5",
   "metadata": {
    "execution": {
     "iopub.execute_input": "2021-10-30T01:08:27.611363Z",
     "iopub.status.busy": "2021-10-30T01:08:27.610452Z",
     "iopub.status.idle": "2021-10-30T01:18:09.505003Z",
     "shell.execute_reply": "2021-10-30T01:18:09.504286Z",
     "shell.execute_reply.started": "2021-10-30T00:48:09.307779Z"
    },
    "papermill": {
     "duration": 581.914734,
     "end_time": "2021-10-30T01:18:09.505167",
     "exception": false,
     "start_time": "2021-10-30T01:08:27.590433",
     "status": "completed"
    },
    "tags": []
   },
   "outputs": [
    {
     "name": "stderr",
     "output_type": "stream",
     "text": [
      "\n",
      "User settings:\n",
      "\n",
      "   KMP_AFFINITY=granularity=fine,verbose,compact,1,0\n",
      "   KMP_BLOCKTIME=0\n",
      "   KMP_DUPLICATE_LIB_OK=True\n",
      "   KMP_INIT_AT_FORK=FALSE\n",
      "   KMP_SETTINGS=1\n",
      "   KMP_WARNINGS=0\n",
      "\n",
      "Effective settings:\n",
      "\n",
      "   KMP_ABORT_DELAY=0\n",
      "   KMP_ADAPTIVE_LOCK_PROPS='1,1024'\n",
      "   KMP_ALIGN_ALLOC=64\n",
      "   KMP_ALL_THREADPRIVATE=128\n",
      "   KMP_ATOMIC_MODE=2\n",
      "   KMP_BLOCKTIME=0\n",
      "   KMP_CPUINFO_FILE: value is not defined\n",
      "   KMP_DETERMINISTIC_REDUCTION=false\n",
      "   KMP_DEVICE_THREAD_LIMIT=2147483647\n",
      "   KMP_DISP_NUM_BUFFERS=7\n",
      "   KMP_DUPLICATE_LIB_OK=true\n",
      "   KMP_ENABLE_TASK_THROTTLING=true\n",
      "   KMP_FORCE_REDUCTION: value is not defined\n",
      "   KMP_FOREIGN_THREADS_THREADPRIVATE=true\n",
      "   KMP_FORKJOIN_BARRIER='2,2'\n",
      "   KMP_FORKJOIN_BARRIER_PATTERN='hyper,hyper'\n",
      "   KMP_GTID_MODE=3\n",
      "   KMP_HANDLE_SIGNALS=false\n",
      "   KMP_HOT_TEAMS_MAX_LEVEL=1\n",
      "   KMP_HOT_TEAMS_MODE=0\n",
      "   KMP_INIT_AT_FORK=true\n",
      "   KMP_LIBRARY=throughput\n",
      "   KMP_LOCK_KIND=queuing\n",
      "   KMP_MALLOC_POOL_INCR=1M\n",
      "   KMP_NUM_LOCKS_IN_BLOCK=1\n",
      "   KMP_PLAIN_BARRIER='2,2'\n",
      "   KMP_PLAIN_BARRIER_PATTERN='hyper,hyper'\n",
      "   KMP_REDUCTION_BARRIER='1,1'\n",
      "   KMP_REDUCTION_BARRIER_PATTERN='hyper,hyper'\n",
      "   KMP_SCHEDULE='static,balanced;guided,iterative'\n",
      "   KMP_SETTINGS=true\n",
      "   KMP_SPIN_BACKOFF_PARAMS='4096,100'\n",
      "   KMP_STACKOFFSET=64\n",
      "   KMP_STACKPAD=0\n",
      "   KMP_STACKSIZE=8M\n",
      "   KMP_STORAGE_MAP=false\n",
      "   KMP_TASKING=2\n",
      "   KMP_TASKLOOP_MIN_TASKS=0\n",
      "   KMP_TASK_STEALING_CONSTRAINT=1\n",
      "   KMP_TEAMS_THREAD_LIMIT=4\n",
      "   KMP_TOPOLOGY_METHOD=all\n",
      "   KMP_USE_YIELD=1\n",
      "   KMP_VERSION=false\n",
      "   KMP_WARNINGS=false\n",
      "   OMP_AFFINITY_FORMAT='OMP: pid %P tid %i thread %n bound to OS proc set {%A}'\n",
      "   OMP_ALLOCATOR=omp_default_mem_alloc\n",
      "   OMP_CANCELLATION=false\n",
      "   OMP_DEFAULT_DEVICE=0\n",
      "   OMP_DISPLAY_AFFINITY=false\n",
      "   OMP_DISPLAY_ENV=false\n",
      "   OMP_DYNAMIC=false\n",
      "   OMP_MAX_ACTIVE_LEVELS=1\n",
      "   OMP_MAX_TASK_PRIORITY=0\n",
      "   OMP_NESTED: deprecated; max-active-levels-var=1\n",
      "   OMP_NUM_THREADS: value is not defined\n",
      "   OMP_PLACES: value is not defined\n",
      "   OMP_PROC_BIND='intel'\n",
      "   OMP_SCHEDULE='static'\n",
      "   OMP_STACKSIZE=8M\n",
      "   OMP_TARGET_OFFLOAD=DEFAULT\n",
      "   OMP_THREAD_LIMIT=2147483647\n",
      "   OMP_WAIT_POLICY=PASSIVE\n",
      "   KMP_AFFINITY='verbose,warnings,respect,granularity=fine,compact,1,0'\n",
      "\n",
      "2021-10-30 01:08:27.640681: I tensorflow/core/common_runtime/process_util.cc:146] Creating new thread pool with default inter op setting: 2. Tune using inter_op_parallelism_threads for best performance.\n",
      "/opt/conda/lib/python3.7/site-packages/keras/engine/training.py:1972: UserWarning: `Model.fit_generator` is deprecated and will be removed in a future version. Please use `Model.fit`, which supports generators.\n",
      "  warnings.warn('`Model.fit_generator` is deprecated and '\n",
      "2021-10-30 01:08:28.126970: I tensorflow/compiler/mlir/mlir_graph_optimization_pass.cc:185] None of the MLIR Optimization Passes are enabled (registered 2)\n"
     ]
    },
    {
     "name": "stdout",
     "output_type": "stream",
     "text": [
      "Epoch 1/30\n",
      "54/54 [==============================] - 23s 403ms/step - loss: 17.7896 - mean_absolute_error: 17.7896 - val_loss: 15.4649 - val_mean_absolute_error: 15.4648\n",
      "Epoch 2/30\n",
      "54/54 [==============================] - 22s 407ms/step - loss: 15.3184 - mean_absolute_error: 15.3184 - val_loss: 15.0853 - val_mean_absolute_error: 15.0852\n",
      "Epoch 3/30\n",
      "54/54 [==============================] - 22s 405ms/step - loss: 15.0789 - mean_absolute_error: 15.0788 - val_loss: 15.0817 - val_mean_absolute_error: 15.0817\n",
      "Epoch 4/30\n",
      "54/54 [==============================] - 22s 400ms/step - loss: 15.0062 - mean_absolute_error: 15.0061 - val_loss: 15.0186 - val_mean_absolute_error: 15.0185\n",
      "Epoch 5/30\n",
      "54/54 [==============================] - 22s 414ms/step - loss: 15.0178 - mean_absolute_error: 15.0177 - val_loss: 14.9765 - val_mean_absolute_error: 14.9765\n",
      "Epoch 6/30\n",
      "54/54 [==============================] - 22s 407ms/step - loss: 15.0647 - mean_absolute_error: 15.0647 - val_loss: 14.9786 - val_mean_absolute_error: 14.9786\n",
      "Epoch 7/30\n",
      "54/54 [==============================] - 22s 408ms/step - loss: 14.9857 - mean_absolute_error: 14.9856 - val_loss: 15.2444 - val_mean_absolute_error: 15.2444\n",
      "Epoch 8/30\n",
      "54/54 [==============================] - 22s 412ms/step - loss: 15.0083 - mean_absolute_error: 15.0083 - val_loss: 14.9630 - val_mean_absolute_error: 14.9629\n",
      "Epoch 9/30\n",
      "54/54 [==============================] - 23s 416ms/step - loss: 14.9830 - mean_absolute_error: 14.9829 - val_loss: 15.4728 - val_mean_absolute_error: 15.4727\n",
      "Epoch 10/30\n",
      "54/54 [==============================] - 22s 410ms/step - loss: 15.0171 - mean_absolute_error: 15.0171 - val_loss: 14.9933 - val_mean_absolute_error: 14.9933\n",
      "Epoch 11/30\n",
      "54/54 [==============================] - 22s 411ms/step - loss: 14.8600 - mean_absolute_error: 14.8599 - val_loss: 14.9221 - val_mean_absolute_error: 14.9221\n",
      "Epoch 12/30\n",
      "54/54 [==============================] - 22s 401ms/step - loss: 15.0142 - mean_absolute_error: 15.0142 - val_loss: 15.5450 - val_mean_absolute_error: 15.5449\n",
      "Epoch 13/30\n",
      "54/54 [==============================] - 22s 409ms/step - loss: 15.0386 - mean_absolute_error: 15.0385 - val_loss: 15.8758 - val_mean_absolute_error: 15.8757\n",
      "Epoch 14/30\n",
      "54/54 [==============================] - 22s 410ms/step - loss: 14.9257 - mean_absolute_error: 14.9256 - val_loss: 15.0546 - val_mean_absolute_error: 15.0545\n",
      "\n",
      "Epoch 00014: ReduceLROnPlateau reducing learning rate to 0.00010000000474974513.\n",
      "Epoch 15/30\n",
      "54/54 [==============================] - 23s 417ms/step - loss: 14.7584 - mean_absolute_error: 14.7583 - val_loss: 14.9443 - val_mean_absolute_error: 14.9443\n",
      "Epoch 16/30\n",
      "54/54 [==============================] - 22s 409ms/step - loss: 14.7919 - mean_absolute_error: 14.7919 - val_loss: 14.9293 - val_mean_absolute_error: 14.9293\n",
      "Epoch 00016: early stopping\n"
     ]
    }
   ],
   "source": [
    "model = baseline_model()\n",
    "\n",
    "model.compile(optimizer=\"adam\",loss=\"mean_absolute_error\",metrics=['mean_absolute_error'])\n",
    "\n",
    "model_history = model.fit_generator(\n",
    "            train_datagen.flow(X_train,Y_train,\n",
    "                         batch_size = batch_size), # use augmented images\n",
    "            validation_data = (X_val,Y_val),\n",
    "            steps_per_epoch=X_train.shape[0] // batch_size,\n",
    "            epochs = epochs,\n",
    "            callbacks = [\n",
    "                         reduce_learning_rate,\n",
    "                         early_stopping,\n",
    "                         time_callback\n",
    "                        ],\n",
    "            verbose=True)"
   ]
  },
  {
   "cell_type": "code",
   "execution_count": 13,
   "id": "4ca061f6",
   "metadata": {
    "execution": {
     "iopub.execute_input": "2021-10-30T01:18:10.049294Z",
     "iopub.status.busy": "2021-10-30T01:18:10.048319Z",
     "iopub.status.idle": "2021-10-30T01:18:10.492499Z",
     "shell.execute_reply": "2021-10-30T01:18:10.493014Z",
     "shell.execute_reply.started": "2021-10-30T01:00:48.664741Z"
    },
    "papermill": {
     "duration": 0.762829,
     "end_time": "2021-10-30T01:18:10.493192",
     "exception": false,
     "start_time": "2021-10-30T01:18:09.730363",
     "status": "completed"
    },
    "tags": []
   },
   "outputs": [
    {
     "name": "stdout",
     "output_type": "stream",
     "text": [
      "12/12 [==============================] - 0s 31ms/step - loss: 14.8827 - mean_absolute_error: 14.8827\n",
      "{'loss': 14.882711410522461, 'mean_absolute_error': 14.882658958435059}\n"
     ]
    }
   ],
   "source": [
    "# Baseline model\n",
    "\n",
    "model_test_results = model.evaluate(X_test, Y_test, batch_size=128)\n",
    "print(dict(zip(model.metrics_names, model_test_results)))"
   ]
  },
  {
   "cell_type": "code",
   "execution_count": 14,
   "id": "8bbbcb65",
   "metadata": {
    "execution": {
     "iopub.execute_input": "2021-10-30T01:18:10.976734Z",
     "iopub.status.busy": "2021-10-30T01:18:10.976111Z",
     "iopub.status.idle": "2021-10-30T01:18:10.988989Z",
     "shell.execute_reply": "2021-10-30T01:18:10.989523Z",
     "shell.execute_reply.started": "2021-10-30T01:01:35.088088Z"
    },
    "papermill": {
     "duration": 0.263885,
     "end_time": "2021-10-30T01:18:10.989700",
     "exception": false,
     "start_time": "2021-10-30T01:18:10.725815",
     "status": "completed"
    },
    "tags": []
   },
   "outputs": [],
   "source": [
    "df_test = pd.read_csv(pawpularity_path+'/test.csv')\n",
    "Id = df_test[\"Id\"].copy()"
   ]
  },
  {
   "cell_type": "code",
   "execution_count": 15,
   "id": "70c601f6",
   "metadata": {
    "execution": {
     "iopub.execute_input": "2021-10-30T01:18:11.437284Z",
     "iopub.status.busy": "2021-10-30T01:18:11.436327Z",
     "iopub.status.idle": "2021-10-30T01:18:11.441492Z",
     "shell.execute_reply": "2021-10-30T01:18:11.442038Z",
     "shell.execute_reply.started": "2021-10-30T01:01:41.260559Z"
    },
    "papermill": {
     "duration": 0.228962,
     "end_time": "2021-10-30T01:18:11.442209",
     "exception": false,
     "start_time": "2021-10-30T01:18:11.213247",
     "status": "completed"
    },
    "tags": []
   },
   "outputs": [],
   "source": [
    "df_test[\"Id\"] = df_test[\"Id\"].apply(lambda x : x + \".jpg\")"
   ]
  },
  {
   "cell_type": "code",
   "execution_count": 16,
   "id": "be339b54",
   "metadata": {
    "execution": {
     "iopub.execute_input": "2021-10-30T01:18:11.888192Z",
     "iopub.status.busy": "2021-10-30T01:18:11.887563Z",
     "iopub.status.idle": "2021-10-30T01:18:11.901038Z",
     "shell.execute_reply": "2021-10-30T01:18:11.900421Z",
     "shell.execute_reply.started": "2021-10-30T01:01:44.999613Z"
    },
    "papermill": {
     "duration": 0.238157,
     "end_time": "2021-10-30T01:18:11.901182",
     "exception": false,
     "start_time": "2021-10-30T01:18:11.663025",
     "status": "completed"
    },
    "tags": []
   },
   "outputs": [
    {
     "data": {
      "text/html": [
       "<div>\n",
       "<style scoped>\n",
       "    .dataframe tbody tr th:only-of-type {\n",
       "        vertical-align: middle;\n",
       "    }\n",
       "\n",
       "    .dataframe tbody tr th {\n",
       "        vertical-align: top;\n",
       "    }\n",
       "\n",
       "    .dataframe thead th {\n",
       "        text-align: right;\n",
       "    }\n",
       "</style>\n",
       "<table border=\"1\" class=\"dataframe\">\n",
       "  <thead>\n",
       "    <tr style=\"text-align: right;\">\n",
       "      <th></th>\n",
       "      <th>Id</th>\n",
       "      <th>Subject Focus</th>\n",
       "      <th>Eyes</th>\n",
       "      <th>Face</th>\n",
       "      <th>Near</th>\n",
       "      <th>Action</th>\n",
       "      <th>Accessory</th>\n",
       "      <th>Group</th>\n",
       "      <th>Collage</th>\n",
       "      <th>Human</th>\n",
       "      <th>Occlusion</th>\n",
       "      <th>Info</th>\n",
       "      <th>Blur</th>\n",
       "    </tr>\n",
       "  </thead>\n",
       "  <tbody>\n",
       "    <tr>\n",
       "      <th>0</th>\n",
       "      <td>4128bae22183829d2b5fea10effdb0c3.jpg</td>\n",
       "      <td>1</td>\n",
       "      <td>0</td>\n",
       "      <td>1</td>\n",
       "      <td>0</td>\n",
       "      <td>0</td>\n",
       "      <td>1</td>\n",
       "      <td>1</td>\n",
       "      <td>0</td>\n",
       "      <td>0</td>\n",
       "      <td>1</td>\n",
       "      <td>0</td>\n",
       "      <td>1</td>\n",
       "    </tr>\n",
       "    <tr>\n",
       "      <th>1</th>\n",
       "      <td>43a2262d7738e3d420d453815151079e.jpg</td>\n",
       "      <td>0</td>\n",
       "      <td>1</td>\n",
       "      <td>0</td>\n",
       "      <td>0</td>\n",
       "      <td>0</td>\n",
       "      <td>0</td>\n",
       "      <td>1</td>\n",
       "      <td>1</td>\n",
       "      <td>0</td>\n",
       "      <td>0</td>\n",
       "      <td>0</td>\n",
       "      <td>0</td>\n",
       "    </tr>\n",
       "    <tr>\n",
       "      <th>2</th>\n",
       "      <td>4e429cead1848a298432a0acad014c9d.jpg</td>\n",
       "      <td>0</td>\n",
       "      <td>0</td>\n",
       "      <td>0</td>\n",
       "      <td>1</td>\n",
       "      <td>0</td>\n",
       "      <td>1</td>\n",
       "      <td>1</td>\n",
       "      <td>1</td>\n",
       "      <td>0</td>\n",
       "      <td>1</td>\n",
       "      <td>1</td>\n",
       "      <td>1</td>\n",
       "    </tr>\n",
       "    <tr>\n",
       "      <th>3</th>\n",
       "      <td>80bc3ccafcc51b66303c2c263aa38486.jpg</td>\n",
       "      <td>1</td>\n",
       "      <td>0</td>\n",
       "      <td>1</td>\n",
       "      <td>0</td>\n",
       "      <td>0</td>\n",
       "      <td>0</td>\n",
       "      <td>0</td>\n",
       "      <td>0</td>\n",
       "      <td>0</td>\n",
       "      <td>0</td>\n",
       "      <td>1</td>\n",
       "      <td>0</td>\n",
       "    </tr>\n",
       "    <tr>\n",
       "      <th>4</th>\n",
       "      <td>8f49844c382931444e68dffbe20228f4.jpg</td>\n",
       "      <td>1</td>\n",
       "      <td>1</td>\n",
       "      <td>1</td>\n",
       "      <td>0</td>\n",
       "      <td>1</td>\n",
       "      <td>1</td>\n",
       "      <td>0</td>\n",
       "      <td>1</td>\n",
       "      <td>0</td>\n",
       "      <td>1</td>\n",
       "      <td>1</td>\n",
       "      <td>0</td>\n",
       "    </tr>\n",
       "    <tr>\n",
       "      <th>5</th>\n",
       "      <td>b03f7041962238a7c9d6537e22f9b017.jpg</td>\n",
       "      <td>0</td>\n",
       "      <td>0</td>\n",
       "      <td>1</td>\n",
       "      <td>1</td>\n",
       "      <td>1</td>\n",
       "      <td>1</td>\n",
       "      <td>1</td>\n",
       "      <td>1</td>\n",
       "      <td>1</td>\n",
       "      <td>0</td>\n",
       "      <td>1</td>\n",
       "      <td>0</td>\n",
       "    </tr>\n",
       "    <tr>\n",
       "      <th>6</th>\n",
       "      <td>c978013571258ed6d4637f6e8cc9d6a3.jpg</td>\n",
       "      <td>1</td>\n",
       "      <td>0</td>\n",
       "      <td>0</td>\n",
       "      <td>0</td>\n",
       "      <td>1</td>\n",
       "      <td>1</td>\n",
       "      <td>0</td>\n",
       "      <td>1</td>\n",
       "      <td>0</td>\n",
       "      <td>1</td>\n",
       "      <td>1</td>\n",
       "      <td>1</td>\n",
       "    </tr>\n",
       "    <tr>\n",
       "      <th>7</th>\n",
       "      <td>e0de453c1bffc20c22b072b34b54e50f.jpg</td>\n",
       "      <td>1</td>\n",
       "      <td>0</td>\n",
       "      <td>1</td>\n",
       "      <td>0</td>\n",
       "      <td>0</td>\n",
       "      <td>0</td>\n",
       "      <td>0</td>\n",
       "      <td>0</td>\n",
       "      <td>1</td>\n",
       "      <td>0</td>\n",
       "      <td>0</td>\n",
       "      <td>1</td>\n",
       "    </tr>\n",
       "  </tbody>\n",
       "</table>\n",
       "</div>"
      ],
      "text/plain": [
       "                                     Id  Subject Focus  Eyes  Face  Near  \\\n",
       "0  4128bae22183829d2b5fea10effdb0c3.jpg              1     0     1     0   \n",
       "1  43a2262d7738e3d420d453815151079e.jpg              0     1     0     0   \n",
       "2  4e429cead1848a298432a0acad014c9d.jpg              0     0     0     1   \n",
       "3  80bc3ccafcc51b66303c2c263aa38486.jpg              1     0     1     0   \n",
       "4  8f49844c382931444e68dffbe20228f4.jpg              1     1     1     0   \n",
       "5  b03f7041962238a7c9d6537e22f9b017.jpg              0     0     1     1   \n",
       "6  c978013571258ed6d4637f6e8cc9d6a3.jpg              1     0     0     0   \n",
       "7  e0de453c1bffc20c22b072b34b54e50f.jpg              1     0     1     0   \n",
       "\n",
       "   Action  Accessory  Group  Collage  Human  Occlusion  Info  Blur  \n",
       "0       0          1      1        0      0          1     0     1  \n",
       "1       0          0      1        1      0          0     0     0  \n",
       "2       0          1      1        1      0          1     1     1  \n",
       "3       0          0      0        0      0          0     1     0  \n",
       "4       1          1      0        1      0          1     1     0  \n",
       "5       1          1      1        1      1          0     1     0  \n",
       "6       1          1      0        1      0          1     1     1  \n",
       "7       0          0      0        0      1          0     0     1  "
      ]
     },
     "execution_count": 16,
     "metadata": {},
     "output_type": "execute_result"
    }
   ],
   "source": [
    "df_test"
   ]
  },
  {
   "cell_type": "code",
   "execution_count": 17,
   "id": "0871ee4f",
   "metadata": {
    "execution": {
     "iopub.execute_input": "2021-10-30T01:18:12.353965Z",
     "iopub.status.busy": "2021-10-30T01:18:12.353101Z",
     "iopub.status.idle": "2021-10-30T01:18:12.405319Z",
     "shell.execute_reply": "2021-10-30T01:18:12.405754Z",
     "shell.execute_reply.started": "2021-10-30T01:02:31.019635Z"
    },
    "papermill": {
     "duration": 0.282735,
     "end_time": "2021-10-30T01:18:12.405960",
     "exception": false,
     "start_time": "2021-10-30T01:18:12.123225",
     "status": "completed"
    },
    "tags": []
   },
   "outputs": [],
   "source": [
    "X = []\n",
    "Y = []\n",
    "width = 100\n",
    "height = 100\n",
    "\n",
    "for index, row in df_test.iterrows():\n",
    "    file_path = pawpularity_path+'/test/'+ row.Id\n",
    "    image = Image.open(file_path)\n",
    "    image = image.convert('RGB')\n",
    "    image = image.resize((width, height))\n",
    "    X.append(np.array(image))\n",
    "#     Y.append(row.Pawpularity)\n"
   ]
  },
  {
   "cell_type": "code",
   "execution_count": 18,
   "id": "1d320dde",
   "metadata": {
    "execution": {
     "iopub.execute_input": "2021-10-30T01:18:12.853752Z",
     "iopub.status.busy": "2021-10-30T01:18:12.853189Z",
     "iopub.status.idle": "2021-10-30T01:18:12.857348Z",
     "shell.execute_reply": "2021-10-30T01:18:12.857885Z",
     "shell.execute_reply.started": "2021-10-30T01:02:41.948745Z"
    },
    "papermill": {
     "duration": 0.22789,
     "end_time": "2021-10-30T01:18:12.858056",
     "exception": false,
     "start_time": "2021-10-30T01:18:12.630166",
     "status": "completed"
    },
    "tags": []
   },
   "outputs": [
    {
     "data": {
      "text/plain": [
       "8"
      ]
     },
     "execution_count": 18,
     "metadata": {},
     "output_type": "execute_result"
    }
   ],
   "source": [
    "len(X)"
   ]
  },
  {
   "cell_type": "code",
   "execution_count": 19,
   "id": "fa75b42d",
   "metadata": {
    "execution": {
     "iopub.execute_input": "2021-10-30T01:18:13.303688Z",
     "iopub.status.busy": "2021-10-30T01:18:13.303102Z",
     "iopub.status.idle": "2021-10-30T01:18:13.309645Z",
     "shell.execute_reply": "2021-10-30T01:18:13.309129Z",
     "shell.execute_reply.started": "2021-10-30T01:03:00.487133Z"
    },
    "papermill": {
     "duration": 0.230828,
     "end_time": "2021-10-30T01:18:13.309790",
     "exception": false,
     "start_time": "2021-10-30T01:18:13.078962",
     "status": "completed"
    },
    "tags": []
   },
   "outputs": [
    {
     "name": "stdout",
     "output_type": "stream",
     "text": [
      "Min: 0.000, Max: 1.000\n"
     ]
    }
   ],
   "source": [
    "# Normalise input data to range [0,1]\n",
    "X = np.array(X)\n",
    "X = X.astype('float32')\n",
    "X /= 255.0\n",
    "# confirm the normalization\n",
    "print('Min: %.3f, Max: %.3f' % (X.min(), X.max()))\n",
    "\n",
    "# Y = np.array(Y)"
   ]
  },
  {
   "cell_type": "code",
   "execution_count": 20,
   "id": "6578a8e7",
   "metadata": {
    "execution": {
     "iopub.execute_input": "2021-10-30T01:18:13.761111Z",
     "iopub.status.busy": "2021-10-30T01:18:13.760278Z",
     "iopub.status.idle": "2021-10-30T01:18:13.894547Z",
     "shell.execute_reply": "2021-10-30T01:18:13.893755Z",
     "shell.execute_reply.started": "2021-10-30T01:03:10.391131Z"
    },
    "papermill": {
     "duration": 0.362156,
     "end_time": "2021-10-30T01:18:13.894732",
     "exception": false,
     "start_time": "2021-10-30T01:18:13.532576",
     "status": "completed"
    },
    "tags": []
   },
   "outputs": [],
   "source": [
    "predicted_ages = model.predict(X)"
   ]
  },
  {
   "cell_type": "code",
   "execution_count": 21,
   "id": "d20102ae",
   "metadata": {
    "execution": {
     "iopub.execute_input": "2021-10-30T01:18:14.344531Z",
     "iopub.status.busy": "2021-10-30T01:18:14.343961Z",
     "iopub.status.idle": "2021-10-30T01:18:14.348580Z",
     "shell.execute_reply": "2021-10-30T01:18:14.349154Z",
     "shell.execute_reply.started": "2021-10-30T01:03:13.651262Z"
    },
    "papermill": {
     "duration": 0.228879,
     "end_time": "2021-10-30T01:18:14.349311",
     "exception": false,
     "start_time": "2021-10-30T01:18:14.120432",
     "status": "completed"
    },
    "tags": []
   },
   "outputs": [
    {
     "data": {
      "text/plain": [
       "array([[40.476177],\n",
       "       [40.07733 ],\n",
       "       [40.18338 ],\n",
       "       [39.820297],\n",
       "       [40.01151 ],\n",
       "       [39.89741 ],\n",
       "       [40.587696],\n",
       "       [40.18212 ]], dtype=float32)"
      ]
     },
     "execution_count": 21,
     "metadata": {},
     "output_type": "execute_result"
    }
   ],
   "source": [
    "predicted_ages"
   ]
  },
  {
   "cell_type": "code",
   "execution_count": 22,
   "id": "962af213",
   "metadata": {
    "execution": {
     "iopub.execute_input": "2021-10-30T01:18:14.807799Z",
     "iopub.status.busy": "2021-10-30T01:18:14.805719Z",
     "iopub.status.idle": "2021-10-30T01:18:14.819769Z",
     "shell.execute_reply": "2021-10-30T01:18:14.820368Z",
     "shell.execute_reply.started": "2021-10-30T01:03:55.050823Z"
    },
    "papermill": {
     "duration": 0.247899,
     "end_time": "2021-10-30T01:18:14.820551",
     "exception": false,
     "start_time": "2021-10-30T01:18:14.572652",
     "status": "completed"
    },
    "tags": []
   },
   "outputs": [],
   "source": [
    "submission_file = pd.read_csv('../input/petfinder-pawpularity-score/sample_submission.csv')\n",
    "\n",
    "submission_file['Pawpularity'] = predicted_ages\n",
    "\n",
    "submission_file.to_csv(\"submission.csv\", index=False)"
   ]
  },
  {
   "cell_type": "code",
   "execution_count": null,
   "id": "77f82e14",
   "metadata": {
    "papermill": {
     "duration": 0.225216,
     "end_time": "2021-10-30T01:18:15.266809",
     "exception": false,
     "start_time": "2021-10-30T01:18:15.041593",
     "status": "completed"
    },
    "tags": []
   },
   "outputs": [],
   "source": []
  }
 ],
 "metadata": {
  "kernelspec": {
   "display_name": "Python 3",
   "language": "python",
   "name": "python3"
  },
  "language_info": {
   "codemirror_mode": {
    "name": "ipython",
    "version": 3
   },
   "file_extension": ".py",
   "mimetype": "text/x-python",
   "name": "python",
   "nbconvert_exporter": "python",
   "pygments_lexer": "ipython3",
   "version": "3.7.10"
  },
  "papermill": {
   "default_parameters": {},
   "duration": 831.004608,
   "end_time": "2021-10-30T01:18:18.661834",
   "environment_variables": {},
   "exception": null,
   "input_path": "__notebook__.ipynb",
   "output_path": "__notebook__.ipynb",
   "parameters": {},
   "start_time": "2021-10-30T01:04:27.657226",
   "version": "2.3.3"
  }
 },
 "nbformat": 4,
 "nbformat_minor": 5
}
