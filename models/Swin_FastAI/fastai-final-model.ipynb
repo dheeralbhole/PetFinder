{
 "cells": [
  {
   "cell_type": "markdown",
   "metadata": {},
   "source": [
    "## FASTAI + Swin Transformer + Stratified 10-Fold + Image Feature Normalization"
   ]
  },
  {
   "cell_type": "markdown",
   "metadata": {},
   "source": [
    "__Introduction__\n",
    "\n",
    "In this notebook we explore the using Swin Transformer with FastAI doing all the pre-processing tasks. This notebook also uses the timm library that helps with model creation and setting the weights for the pre-trained Swin model. Based on the analysis in the EDA notebook, we used stratified Kfold with bins instead of simple K-fold. \n",
    "\n",
    "__Kaggle_Score__ : 18.00088"
   ]
  },
  {
   "cell_type": "code",
   "execution_count": 1,
   "metadata": {
    "execution": {
     "iopub.execute_input": "2021-11-28T18:27:52.432027Z",
     "iopub.status.busy": "2021-11-28T18:27:52.431545Z",
     "iopub.status.idle": "2021-11-28T18:27:52.449464Z",
     "shell.execute_reply": "2021-11-28T18:27:52.448812Z",
     "shell.execute_reply.started": "2021-11-28T18:27:52.431938Z"
    }
   },
   "outputs": [],
   "source": [
    "# Required only if you are running the notebook on anaconda for the first time\n",
    "#pip install timm"
   ]
  },
  {
   "cell_type": "code",
   "execution_count": 2,
   "metadata": {
    "execution": {
     "iopub.execute_input": "2021-11-28T18:27:52.451270Z",
     "iopub.status.busy": "2021-11-28T18:27:52.451018Z",
     "iopub.status.idle": "2021-11-28T18:28:00.155077Z",
     "shell.execute_reply": "2021-11-28T18:28:00.154259Z",
     "shell.execute_reply.started": "2021-11-28T18:27:52.451237Z"
    }
   },
   "outputs": [],
   "source": [
    "import sys\n",
    "sys.path.append('../input/timm-pytorch-image-models/pytorch-image-models-master')\n",
    "from timm import create_model\n",
    "import gc\n",
    "from sklearn.model_selection import StratifiedKFold\n",
    "from fastai.vision.all import *\n"
   ]
  },
  {
   "cell_type": "code",
   "execution_count": 3,
   "metadata": {
    "execution": {
     "iopub.execute_input": "2021-11-28T18:28:00.158210Z",
     "iopub.status.busy": "2021-11-28T18:28:00.157710Z",
     "iopub.status.idle": "2021-11-28T18:28:00.163880Z",
     "shell.execute_reply": "2021-11-28T18:28:00.163038Z",
     "shell.execute_reply.started": "2021-11-28T18:28:00.158167Z"
    }
   },
   "outputs": [],
   "source": [
    "# To ensure results are reproducible\n",
    "seed=42\n",
    "set_seed(42, reproducible=True)\n",
    "BATCH_SIZE = 32\n",
    "N_FOLDS = 10\n",
    "torch.manual_seed(seed)\n",
    "torch.cuda.manual_seed(seed)\n",
    "torch.backends.cudnn.deterministic = True\n",
    "torch.use_deterministic_algorithms = True\n",
    "dataset_path = Path('../input/petfinder-pawpularity-score/')"
   ]
  },
  {
   "cell_type": "markdown",
   "metadata": {},
   "source": [
    "### Add file path to DF and normalize the output"
   ]
  },
  {
   "cell_type": "code",
   "execution_count": 4,
   "metadata": {
    "execution": {
     "iopub.execute_input": "2021-11-28T18:28:00.167260Z",
     "iopub.status.busy": "2021-11-28T18:28:00.166745Z",
     "iopub.status.idle": "2021-11-28T18:28:00.174640Z",
     "shell.execute_reply": "2021-11-28T18:28:00.173949Z",
     "shell.execute_reply.started": "2021-11-28T18:28:00.167223Z"
    }
   },
   "outputs": [],
   "source": [
    "def primary_preprocessing(data_type='train'):\n",
    "    df = pd.read_csv(dataset_path/f'{data_type}.csv')\n",
    "    df['path'] = df['Id'].map(lambda x:str(dataset_path/f'{data_type}'/x)+'.jpg')\n",
    "    df = df.drop(columns=['Id'])\n",
    "    if data_type=='train':\n",
    "        df = df.sample(frac=1).reset_index(drop=True)\n",
    "    return df\n",
    "        "
   ]
  },
  {
   "cell_type": "code",
   "execution_count": 5,
   "metadata": {
    "execution": {
     "iopub.execute_input": "2021-11-28T18:28:00.176761Z",
     "iopub.status.busy": "2021-11-28T18:28:00.175961Z",
     "iopub.status.idle": "2021-11-28T18:28:00.351452Z",
     "shell.execute_reply": "2021-11-28T18:28:00.350765Z",
     "shell.execute_reply.started": "2021-11-28T18:28:00.176726Z"
    }
   },
   "outputs": [],
   "source": [
    "train_df = primary_preprocessing()\n",
    "train_df['paw_norm'] = train_df['Pawpularity']/100\n",
    "train_df.head()"
   ]
  },
  {
   "cell_type": "code",
   "execution_count": 6,
   "metadata": {
    "execution": {
     "iopub.execute_input": "2021-11-28T18:28:00.353068Z",
     "iopub.status.busy": "2021-11-28T18:28:00.352674Z",
     "iopub.status.idle": "2021-11-28T18:28:00.375269Z",
     "shell.execute_reply": "2021-11-28T18:28:00.374659Z",
     "shell.execute_reply.started": "2021-11-28T18:28:00.353030Z"
    }
   },
   "outputs": [],
   "source": [
    "test_df = primary_preprocessing(data_type='test')\n",
    "test_df.head()"
   ]
  },
  {
   "cell_type": "code",
   "execution_count": 7,
   "metadata": {
    "execution": {
     "iopub.execute_input": "2021-11-28T18:28:00.377558Z",
     "iopub.status.busy": "2021-11-28T18:28:00.377113Z",
     "iopub.status.idle": "2021-11-28T18:28:09.530525Z",
     "shell.execute_reply": "2021-11-28T18:28:09.529551Z",
     "shell.execute_reply.started": "2021-11-28T18:28:00.377510Z"
    }
   },
   "outputs": [],
   "source": [
    "# Caching the model\n",
    "if not os.path.exists('/root/.cache/torch/hub/checkpoints/'):\n",
    "    os.makedirs('/root/.cache/torch/hub/checkpoints/')\n",
    "!cp '../input/swin-transformer/swin_large_patch4_window7_224_22kto1k.pth' '/root/.cache/torch/hub/checkpoints/swin_large_patch4_window7_224_22kto1k.pth'\n"
   ]
  },
  {
   "cell_type": "markdown",
   "metadata": {},
   "source": [
    "### Divide the data into bins based on Sturges' rule"
   ]
  },
  {
   "cell_type": "code",
   "execution_count": 8,
   "metadata": {
    "execution": {
     "iopub.execute_input": "2021-11-28T18:28:09.534451Z",
     "iopub.status.busy": "2021-11-28T18:28:09.534217Z",
     "iopub.status.idle": "2021-11-28T18:28:09.546193Z",
     "shell.execute_reply": "2021-11-28T18:28:09.545481Z",
     "shell.execute_reply.started": "2021-11-28T18:28:09.534423Z"
    }
   },
   "outputs": [],
   "source": [
    "num_bins = int(np.floor(1+np.log2(len(train_df))))\n",
    "print(f\"No. of bins: {num_bins}\")\n",
    "train_df['bins'] = pd.cut(train_df['paw_norm'], bins=num_bins, labels=False)"
   ]
  },
  {
   "cell_type": "markdown",
   "metadata": {},
   "source": [
    "### Do a StratifiedKFold not based on Pawpopularity value but based on bins"
   ]
  },
  {
   "cell_type": "code",
   "execution_count": 9,
   "metadata": {
    "execution": {
     "iopub.execute_input": "2021-11-28T18:28:09.549434Z",
     "iopub.status.busy": "2021-11-28T18:28:09.548881Z",
     "iopub.status.idle": "2021-11-28T18:28:09.804134Z",
     "shell.execute_reply": "2021-11-28T18:28:09.803276Z",
     "shell.execute_reply.started": "2021-11-28T18:28:09.549404Z"
    }
   },
   "outputs": [],
   "source": [
    "train_df['fold'] = -1\n",
    "strat_kfold = StratifiedKFold(n_splits=N_FOLDS, random_state=seed, shuffle=True)\n",
    "for i, (_, train_index) in enumerate(strat_kfold.split(train_df.index, train_df['bins'])):\n",
    "    train_df.iloc[train_index, -1] = i\n",
    "train_df['fold'] = train_df['fold'].astype('int')"
   ]
  },
  {
   "cell_type": "code",
   "execution_count": 10,
   "metadata": {
    "execution": {
     "iopub.execute_input": "2021-11-28T18:28:09.807440Z",
     "iopub.status.busy": "2021-11-28T18:28:09.806614Z",
     "iopub.status.idle": "2021-11-28T18:28:09.813751Z",
     "shell.execute_reply": "2021-11-28T18:28:09.811865Z",
     "shell.execute_reply.started": "2021-11-28T18:28:09.807403Z"
    }
   },
   "outputs": [],
   "source": [
    "def petfinder_rmse(input,target):\n",
    "    return 100*torch.sqrt(F.mse_loss(F.sigmoid(input.flatten()), target))"
   ]
  },
  {
   "cell_type": "markdown",
   "metadata": {},
   "source": [
    "### Resize Image to 224,224 and nomarlize all characteristics of image i.e.  Brightness,Contrast Hue and Saturation"
   ]
  },
  {
   "cell_type": "code",
   "execution_count": 11,
   "metadata": {
    "execution": {
     "iopub.execute_input": "2021-11-28T18:28:09.815741Z",
     "iopub.status.busy": "2021-11-28T18:28:09.815470Z",
     "iopub.status.idle": "2021-11-28T18:28:09.824161Z",
     "shell.execute_reply": "2021-11-28T18:28:09.823299Z",
     "shell.execute_reply.started": "2021-11-28T18:28:09.815707Z"
    }
   },
   "outputs": [],
   "source": [
    "def get_data(fold):\n",
    "    train_df_f = train_df.copy()\n",
    "    train_df_f['is_valid'] = (train_df_f['fold'] == fold)\n",
    "    \n",
    "    dls = ImageDataLoaders.from_df(train_df_f, \n",
    "                                   valid_col = 'is_valid', \n",
    "                                   seed = seed, \n",
    "                                   fn_col = 'path', #filename/path is in the second column of the DataFrame\n",
    "                                   label_col = 'paw_norm', #label is in the first column of the DataFrame\n",
    "                                   y_block = RegressionBlock, #The type of target\n",
    "                                   bs = BATCH_SIZE, #pass in batch size\n",
    "                                   num_workers = 8,\n",
    "                                   item_tfms = Resize(224), #pass in item_tfms\n",
    "                                   batch_tfms=setup_aug_tfms([Brightness(), Contrast(), Hue(), Saturation()])) #pass in batch_tfms\n",
    "    \n",
    "    return dls\n"
   ]
  },
  {
   "cell_type": "code",
   "execution_count": 12,
   "metadata": {
    "execution": {
     "iopub.execute_input": "2021-11-28T18:28:09.825924Z",
     "iopub.status.busy": "2021-11-28T18:28:09.825678Z",
     "iopub.status.idle": "2021-11-28T18:28:09.835545Z",
     "shell.execute_reply": "2021-11-28T18:28:09.834372Z",
     "shell.execute_reply.started": "2021-11-28T18:28:09.825892Z"
    }
   },
   "outputs": [],
   "source": [
    "def get_learner(fold_num):\n",
    "    data = get_data(fold_num)\n",
    "    model = create_model('swin_large_patch4_window7_224', pretrained=True, num_classes=data.c)\n",
    "    learn = Learner(data, model, loss_func=BCEWithLogitsLossFlat(), metrics=petfinder_rmse).to_fp16()\n",
    "    return learn"
   ]
  },
  {
   "cell_type": "code",
   "execution_count": 13,
   "metadata": {
    "execution": {
     "iopub.execute_input": "2021-11-28T18:28:09.837137Z",
     "iopub.status.busy": "2021-11-28T18:28:09.836901Z",
     "iopub.status.idle": "2021-11-29T00:16:18.457452Z",
     "shell.execute_reply": "2021-11-29T00:16:18.455819Z",
     "shell.execute_reply.started": "2021-11-28T18:28:09.837106Z"
    }
   },
   "outputs": [],
   "source": [
    "all_preds = []\n",
    "\n",
    "for i in range(N_FOLDS):\n",
    "    print(f'Fold {i} results')\n",
    "    learn = get_learner(fold_num=i)\n",
    "    learn.fit_one_cycle(5, 2e-5, cbs=[SaveModelCallback(), EarlyStoppingCallback(monitor='petfinder_rmse', comp=np.less, patience=2)]) \n",
    "    learn.recorder.plot_loss()\n",
    "    \n",
    "    dls = ImageDataLoaders.from_df(train_df, #pass in train DataFrame\n",
    "                               valid_pct=0.2, #80-20 train-validation random split\n",
    "                               seed=42, #seed\n",
    "                               fn_col='path', #filename/path is in the second column of the DataFrame\n",
    "                               label_col='paw_norm', #label is in the first column of the DataFrame\n",
    "                               y_block=RegressionBlock, #The type of target\n",
    "                               bs=BATCH_SIZE, #pass in batch size\n",
    "                               num_workers=8,\n",
    "                               item_tfms=Resize(224), #pass in item_tfms\n",
    "                               batch_tfms=setup_aug_tfms([Brightness(), Contrast(), Hue(), Saturation()])) \n",
    "    \n",
    "    test_dl = dls.test_dl(test_df)\n",
    "    preds, _ = learn.tta(dl=test_dl, n=5, beta=0)\n",
    "    all_preds.append(preds)\n",
    "    del learn\n",
    "    torch.cuda.empty_cache()\n",
    "    gc.collect()"
   ]
  },
  {
   "cell_type": "code",
   "execution_count": null,
   "metadata": {},
   "outputs": [],
   "source": [
    "sample_df = pd.read_csv(dataset_path/'sample_submission.csv')\n",
    "preds = np.mean(np.stack(all_preds), axis=0)\n",
    "sample_df['Pawpularity'] = preds*100\n",
    "sample_df.to_csv('submission.csv',index=False)"
   ]
  },
  {
   "cell_type": "markdown",
   "metadata": {},
   "source": [
    "__Final Observations__\n",
    "1. The model results in the highest kaggle score from the nothebooks we ran\n",
    "2. Use of stratified K-fold validation improves the accuracy of the model the most.\n",
    "3. FastAI provides easy access to functions that can do a lot of pre-processing with very little steps."
   ]
  }
 ],
 "metadata": {
  "kernelspec": {
   "display_name": "Python 3",
   "language": "python",
   "name": "python3"
  },
  "language_info": {
   "codemirror_mode": {
    "name": "ipython",
    "version": 3
   },
   "file_extension": ".py",
   "mimetype": "text/x-python",
   "name": "python",
   "nbconvert_exporter": "python",
   "pygments_lexer": "ipython3",
   "version": "3.8.3"
  }
 },
 "nbformat": 4,
 "nbformat_minor": 4
}
