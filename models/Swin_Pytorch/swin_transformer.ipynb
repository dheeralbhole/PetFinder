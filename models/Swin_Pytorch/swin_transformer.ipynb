{
 "cells": [
  {
   "cell_type": "markdown",
   "id": "d2618df7",
   "metadata": {
    "papermill": {
     "duration": 0.0113,
     "end_time": "2021-12-05T03:17:12.924626",
     "exception": false,
     "start_time": "2021-12-05T03:17:12.913326",
     "status": "completed"
    },
    "tags": []
   },
   "source": [
    "# Swin Transformer\n",
    "In this notebook, we use transfer learning to train a classification head on top of a pretrained Swin Transformer backbone over 5 folds (train one fold at a time because of Kaggle notebook time limitation). Through public discussions, it was found that Swin Transformers perform better than normal Convolutional Neural Networks for this competition. Public discussions further discovered that even though the initial problem statement is a regression problem, converting this regression problem into a classification problem yields better results. Therefore, the model is trained using the binary cross entropy (BCE) loss rather than the mean squared error (MSE) loss. We then convert the predictions back to the initial value range from 0 to 100 by applying the sigmoid function and multiplying by 100. We are building off of top-scoring public notebooks and discussions. Important custom modifications are noted in comments. This notebook is intended to be run on Kaggle with GPU enabled and with the necessary packages and datasets in the working directory."
   ]
  },
  {
   "cell_type": "markdown",
   "id": "5c58a092",
   "metadata": {
    "papermill": {
     "duration": 0.009833,
     "end_time": "2021-12-05T03:17:12.945079",
     "exception": false,
     "start_time": "2021-12-05T03:17:12.935246",
     "status": "completed"
    },
    "tags": []
   },
   "source": [
    "# Imports"
   ]
  },
  {
   "cell_type": "code",
   "execution_count": 1,
   "id": "d6b48825",
   "metadata": {
    "_cell_guid": "b1076dfc-b9ad-4769-8c92-a6c4dae69d19",
    "_kg_hide-output": true,
    "_uuid": "8f2839f25d086af736a60e9eeb907d3b93b6e0e5",
    "execution": {
     "iopub.execute_input": "2021-12-05T03:17:12.970392Z",
     "iopub.status.busy": "2021-12-05T03:17:12.968842Z",
     "iopub.status.idle": "2021-12-05T03:17:21.438689Z",
     "shell.execute_reply": "2021-12-05T03:17:21.438023Z",
     "shell.execute_reply.started": "2021-12-05T02:47:48.616175Z"
    },
    "papermill": {
     "duration": 8.483776,
     "end_time": "2021-12-05T03:17:21.438842",
     "exception": false,
     "start_time": "2021-12-05T03:17:12.955066",
     "status": "completed"
    },
    "tags": []
   },
   "outputs": [],
   "source": [
    "# Add tez and timm libraries to Kaggle\n",
    "import sys\n",
    "sys.path.append(\"../input/tez-lib/\")\n",
    "sys.path.append(\"../input/timmmaster/\")\n",
    "\n",
    "# Basics\n",
    "import numpy as np\n",
    "import pandas as pd\n",
    "\n",
    "# Image manipulation\n",
    "import cv2\n",
    "\n",
    "# Main neural network library\n",
    "import torch.nn as nn\n",
    "import torch\n",
    "\n",
    "# Easier PyTorch development\n",
    "import tez\n",
    "from tez.callbacks import EarlyStopping\n",
    "\n",
    "# Image augmentations\n",
    "import albumentations\n",
    "\n",
    "# Swin Transformer backbone\n",
    "import timm\n",
    "\n",
    "# Calculate MSE\n",
    "from sklearn.metrics import mean_squared_error"
   ]
  },
  {
   "cell_type": "markdown",
   "id": "fe76abbf",
   "metadata": {
    "papermill": {
     "duration": 0.010568,
     "end_time": "2021-12-05T03:17:21.460352",
     "exception": false,
     "start_time": "2021-12-05T03:17:21.449784",
     "status": "completed"
    },
    "tags": []
   },
   "source": [
    "# General"
   ]
  },
  {
   "cell_type": "code",
   "execution_count": 2,
   "id": "6ee1671f",
   "metadata": {
    "execution": {
     "iopub.execute_input": "2021-12-05T03:17:21.487676Z",
     "iopub.status.busy": "2021-12-05T03:17:21.486767Z",
     "iopub.status.idle": "2021-12-05T03:17:21.489546Z",
     "shell.execute_reply": "2021-12-05T03:17:21.489026Z",
     "shell.execute_reply.started": "2021-12-05T02:47:56.923441Z"
    },
    "papermill": {
     "duration": 0.018262,
     "end_time": "2021-12-05T03:17:21.489668",
     "exception": false,
     "start_time": "2021-12-05T03:17:21.471406",
     "status": "completed"
    },
    "tags": []
   },
   "outputs": [],
   "source": [
    "# Fold to train\n",
    "FOLD = 0\n",
    "\n",
    "# Input image size\n",
    "IMAGE_SIZE = 384"
   ]
  },
  {
   "cell_type": "code",
   "execution_count": 3,
   "id": "c62b111a",
   "metadata": {
    "execution": {
     "iopub.execute_input": "2021-12-05T03:17:21.516410Z",
     "iopub.status.busy": "2021-12-05T03:17:21.515592Z",
     "iopub.status.idle": "2021-12-05T03:17:21.518318Z",
     "shell.execute_reply": "2021-12-05T03:17:21.517815Z",
     "shell.execute_reply.started": "2021-12-05T02:47:56.929246Z"
    },
    "papermill": {
     "duration": 0.017569,
     "end_time": "2021-12-05T03:17:21.518447",
     "exception": false,
     "start_time": "2021-12-05T03:17:21.500878",
     "status": "completed"
    },
    "tags": []
   },
   "outputs": [],
   "source": [
    "# To denormalize predictions\n",
    "def sigmoid(x):\n",
    "    return 1 / (1 + np.exp(-x))"
   ]
  },
  {
   "cell_type": "markdown",
   "id": "cf3f24ff",
   "metadata": {
    "papermill": {
     "duration": 0.010583,
     "end_time": "2021-12-05T03:17:21.540074",
     "exception": false,
     "start_time": "2021-12-05T03:17:21.529491",
     "status": "completed"
    },
    "tags": []
   },
   "source": [
    "# Dataset"
   ]
  },
  {
   "cell_type": "code",
   "execution_count": 4,
   "id": "255cc28a",
   "metadata": {
    "execution": {
     "iopub.execute_input": "2021-12-05T03:17:21.570919Z",
     "iopub.status.busy": "2021-12-05T03:17:21.570027Z",
     "iopub.status.idle": "2021-12-05T03:17:21.575013Z",
     "shell.execute_reply": "2021-12-05T03:17:21.574562Z",
     "shell.execute_reply.started": "2021-12-05T02:47:56.941775Z"
    },
    "papermill": {
     "duration": 0.023773,
     "end_time": "2021-12-05T03:17:21.575131",
     "exception": false,
     "start_time": "2021-12-05T03:17:21.551358",
     "status": "completed"
    },
    "tags": []
   },
   "outputs": [],
   "source": [
    "class Dataset:\n",
    "    def __init__(self, image_paths, dense_features, targets, augmentations):\n",
    "        self.image_paths = image_paths\n",
    "        self.dense_features = dense_features\n",
    "        self.targets = targets\n",
    "        self.augmentations = augmentations\n",
    "        \n",
    "    def __len__(self):\n",
    "        return len(self.image_paths)\n",
    "    \n",
    "    def __getitem__(self, item):\n",
    "        # Read image and convert BGR to RGB\n",
    "        image = cv2.imread(self.image_paths[item])\n",
    "        image = cv2.cvtColor(image, cv2.COLOR_BGR2RGB)\n",
    "        \n",
    "        # Augmentations\n",
    "        if self.augmentations is not None:\n",
    "            augmented = self.augmentations(image=image)\n",
    "            image = augmented[\"image\"]\n",
    "            \n",
    "        # OpenCV is (height, width, channel)\n",
    "        # PyTorch wants (channel, height, width)\n",
    "        image = np.transpose(image, (2, 0, 1)).astype(np.float32)\n",
    "        \n",
    "        # Photo metadata\n",
    "        features = self.dense_features[item, :]\n",
    "        \n",
    "        # Important: divide by 100 to normalize targets for BCE loss\n",
    "        targets = self.targets[item] / 100.0\n",
    "        \n",
    "        return {\n",
    "            \"image\": torch.tensor(image, dtype=torch.float),\n",
    "            \"features\": torch.tensor(features, dtype=torch.float),\n",
    "            \"targets\": torch.tensor(targets, dtype=torch.float),\n",
    "        }"
   ]
  },
  {
   "cell_type": "code",
   "execution_count": 5,
   "id": "38fa5269",
   "metadata": {
    "execution": {
     "iopub.execute_input": "2021-12-05T03:17:21.611086Z",
     "iopub.status.busy": "2021-12-05T03:17:21.610373Z",
     "iopub.status.idle": "2021-12-05T03:17:21.674991Z",
     "shell.execute_reply": "2021-12-05T03:17:21.675490Z",
     "shell.execute_reply.started": "2021-12-05T02:47:56.95489Z"
    },
    "papermill": {
     "duration": 0.089097,
     "end_time": "2021-12-05T03:17:21.675648",
     "exception": false,
     "start_time": "2021-12-05T03:17:21.586551",
     "status": "completed"
    },
    "tags": []
   },
   "outputs": [],
   "source": [
    "# Load community-provided 5-fold preprocessed CSV file to dataframe\n",
    "df = pd.read_csv(\"../input/same-old-creating-folds/train_5folds.csv\")\n",
    "\n",
    "# Dataframes\n",
    "df_train = df[df.kfold != FOLD].reset_index(drop=True)\n",
    "df_valid = df[df.kfold == FOLD].reset_index(drop=True)\n",
    "\n",
    "# Image paths\n",
    "train_image_paths = [f\"../input/petfinder-pawpularity-score/train/{x}.jpg\" for x in df_train[\"Id\"].values]\n",
    "valid_image_paths = [f\"../input/petfinder-pawpularity-score/train/{x}.jpg\" for x in df_valid[\"Id\"].values]\n",
    "\n",
    "# Dense features (photo metadata)\n",
    "photo_metadata = ['Subject Focus', 'Eyes', 'Face', 'Near', 'Action', 'Accessory', 'Group', 'Collage', 'Human', 'Occlusion', 'Info', 'Blur']\n",
    "train_dense_features = df_train[photo_metadata].values\n",
    "valid_dense_features = df_valid[photo_metadata].values\n",
    "\n",
    "# Targets (Pawpularity scores)\n",
    "train_targets = df_train[\"Pawpularity\"].values\n",
    "valid_targets = df_valid[\"Pawpularity\"].values\n",
    "\n",
    "# Augmentations: always resize and normalize, others for train set only\n",
    "train_aug = albumentations.Compose(\n",
    "    [\n",
    "        albumentations.Resize(IMAGE_SIZE, IMAGE_SIZE, p=1),\n",
    "        albumentations.HueSaturationValue(hue_shift_limit=0.2, sat_shift_limit=0.2, val_shift_limit=0.2, p=0.5),\n",
    "        albumentations.RandomBrightnessContrast(brightness_limit=(-0.1, 0.1), contrast_limit=(-0.1, 0.1), p=0.5),\n",
    "        albumentations.RGBShift(r_shift_limit=15, g_shift_limit=15, b_shift_limit=15, p=0.5),\n",
    "        albumentations.Normalize(\n",
    "            mean=[0.485, 0.456, 0.406],\n",
    "            std=[0.229, 0.224, 0.225],\n",
    "            max_pixel_value=255.0,\n",
    "            p=1.0,\n",
    "        ),\n",
    "    ],\n",
    "    p=1.0,\n",
    ")\n",
    "valid_aug = albumentations.Compose(\n",
    "    [\n",
    "        albumentations.Resize(IMAGE_SIZE, IMAGE_SIZE, p=1),\n",
    "        albumentations.Normalize(\n",
    "            mean=[0.485, 0.456, 0.406],\n",
    "            std=[0.229, 0.224, 0.225],\n",
    "            max_pixel_value=255.0,\n",
    "            p=1.0,\n",
    "        ),\n",
    "    ],\n",
    "    p=1.0,\n",
    ")\n",
    "\n",
    "# Create datasets\n",
    "train_dataset = Dataset(\n",
    "    image_paths=train_image_paths,\n",
    "    dense_features=train_dense_features,\n",
    "    targets=train_targets,\n",
    "    augmentations=train_aug,\n",
    ")\n",
    "valid_dataset = Dataset(\n",
    "    image_paths=valid_image_paths,\n",
    "    dense_features=valid_dense_features,\n",
    "    targets=valid_targets,\n",
    "    augmentations=valid_aug,\n",
    ")"
   ]
  },
  {
   "cell_type": "markdown",
   "id": "96276c9c",
   "metadata": {
    "papermill": {
     "duration": 0.011736,
     "end_time": "2021-12-05T03:17:21.699765",
     "exception": false,
     "start_time": "2021-12-05T03:17:21.688029",
     "status": "completed"
    },
    "tags": []
   },
   "source": [
    "# Swin Model"
   ]
  },
  {
   "cell_type": "code",
   "execution_count": 6,
   "id": "c8864da9",
   "metadata": {
    "execution": {
     "iopub.execute_input": "2021-12-05T03:17:21.739300Z",
     "iopub.status.busy": "2021-12-05T03:17:21.737469Z",
     "iopub.status.idle": "2021-12-05T03:17:21.739968Z",
     "shell.execute_reply": "2021-12-05T03:17:21.740464Z",
     "shell.execute_reply.started": "2021-12-05T02:47:59.203881Z"
    },
    "papermill": {
     "duration": 0.02923,
     "end_time": "2021-12-05T03:17:21.740609",
     "exception": false,
     "start_time": "2021-12-05T03:17:21.711379",
     "status": "completed"
    },
    "tags": []
   },
   "outputs": [],
   "source": [
    "class Swin(tez.Model):\n",
    "    def __init__(self):\n",
    "        super().__init__()\n",
    "\n",
    "        # Swin Transformer backbone\n",
    "        self.model = timm.create_model(\"swin_large_patch4_window12_384\", pretrained=True, in_chans=3)\n",
    "        \n",
    "        # Classification head\n",
    "        self.model.head = nn.Linear(self.model.head.in_features, 128)\n",
    "        self.dropout = nn.Dropout(0.1)\n",
    "        self.dense1 = nn.Linear(140, 64)\n",
    "        \n",
    "        # Important: add ReLU activation function for dense head layer to introduce non-linearity\n",
    "        self.relu1 = nn.ReLU()\n",
    "        \n",
    "        # Single output without sigmoid, BCE loss will apply sigmoid automatically\n",
    "        self.dense2 = nn.Linear(64, 1)\n",
    "        \n",
    "        # Step the schedule after each epoch\n",
    "        self.step_scheduler_after = \"epoch\"\n",
    "\n",
    "    def monitor_metrics(self, outputs, targets):\n",
    "        # Important: apply sigmoid function to output predictions and multiply by 100 to denormalize\n",
    "        outputs = sigmoid(outputs.cpu().detach().numpy()) * 100\n",
    "        \n",
    "        # Important: multiply targets by 100 to denormalize\n",
    "        targets = targets.cpu().detach().numpy() * 100\n",
    "        \n",
    "        # Calculate RMSE\n",
    "        rmse = mean_squared_error(targets, outputs, squared=False)\n",
    "        return {\"rmse\": rmse}\n",
    "\n",
    "    def fetch_scheduler(self):\n",
    "        # Cosine annealing scheduler\n",
    "        scheduler = torch.optim.lr_scheduler.CosineAnnealingWarmRestarts(\n",
    "            self.optimizer, T_0=10, T_mult=1, eta_min=1e-6, last_epoch=-1\n",
    "        )\n",
    "        return scheduler\n",
    "\n",
    "    def fetch_optimizer(self):\n",
    "        # Adam optimizer\n",
    "        optimizer = torch.optim.Adam(self.parameters(), lr=1e-4)\n",
    "        return optimizer\n",
    "\n",
    "    def forward(self, image, features, targets=None):\n",
    "        # Forward pass through model\n",
    "        x = self.model(image)\n",
    "        x = self.dropout(x)\n",
    "        x = torch.cat([x, features], dim=1)\n",
    "        x = self.dense1(x)\n",
    "        \n",
    "        # Important: pass through ReLU activation\n",
    "        x = self.relu1(x)\n",
    "        \n",
    "        # Output node\n",
    "        x = self.dense2(x)\n",
    "\n",
    "        if targets is not None:\n",
    "            # Important: use binary cross entropy loss instead of mean squared error loss\n",
    "            loss = nn.BCEWithLogitsLoss()(x, targets.view(-1, 1))\n",
    "            \n",
    "            metrics = self.monitor_metrics(x, targets)\n",
    "            return x, loss, metrics\n",
    "        return x, 0, {}"
   ]
  },
  {
   "cell_type": "markdown",
   "id": "85f61612",
   "metadata": {
    "papermill": {
     "duration": 0.011228,
     "end_time": "2021-12-05T03:17:21.763483",
     "exception": false,
     "start_time": "2021-12-05T03:17:21.752255",
     "status": "completed"
    },
    "tags": []
   },
   "source": [
    "# Swin Training"
   ]
  },
  {
   "cell_type": "code",
   "execution_count": 7,
   "id": "ac951af1",
   "metadata": {
    "execution": {
     "iopub.execute_input": "2021-12-05T03:17:21.793873Z",
     "iopub.status.busy": "2021-12-05T03:17:21.793148Z",
     "iopub.status.idle": "2021-12-05T03:39:30.810450Z",
     "shell.execute_reply": "2021-12-05T03:39:30.809936Z",
     "shell.execute_reply.started": "2021-12-05T02:48:04.640436Z"
    },
    "papermill": {
     "duration": 1329.035771,
     "end_time": "2021-12-05T03:39:30.810599",
     "exception": false,
     "start_time": "2021-12-05T03:17:21.774828",
     "status": "completed"
    },
    "tags": []
   },
   "outputs": [
    {
     "name": "stderr",
     "output_type": "stream",
     "text": [
      "Downloading: \"https://github.com/SwinTransformer/storage/releases/download/v1.0.0/swin_large_patch4_window12_384_22kto1k.pth\" to /root/.cache/torch/hub/checkpoints/swin_large_patch4_window12_384_22kto1k.pth\n",
      "100%|██████████| 992/992 [19:37<00:00,  1.19s/it, loss=0.655, rmse=18.4, stage=train]\n",
      "100%|██████████| 124/124 [01:45<00:00,  1.17it/s, loss=0.65, rmse=18.5, stage=valid]\n"
     ]
    },
    {
     "name": "stdout",
     "output_type": "stream",
     "text": [
      "Validation score improved (inf --> 18.469728808249197). Saving model!\n"
     ]
    }
   ],
   "source": [
    "# Create Swin model\n",
    "swin = Swin()\n",
    "\n",
    "# Early stopping after 3 epochs of no validation RMSE improvement\n",
    "es = EarlyStopping(\n",
    "    monitor=\"valid_rmse\",\n",
    "    model_path=f\"model_f{FOLD}.bin\",\n",
    "    patience=3,\n",
    "    mode=\"min\",\n",
    "    save_weights_only=True,\n",
    ")\n",
    "\n",
    "# Train Swin\n",
    "swin.fit(\n",
    "    train_dataset,\n",
    "    valid_dataset=valid_dataset,\n",
    "    train_bs=8,\n",
    "    valid_bs=16,\n",
    "    device=\"cuda\",\n",
    "    epochs=1,\n",
    "    callbacks=[es],\n",
    "    fp16=True,\n",
    ")"
   ]
  },
  {
   "cell_type": "markdown",
   "id": "110a9dbe",
   "metadata": {
    "papermill": {
     "duration": 0.575199,
     "end_time": "2021-12-05T03:39:31.998277",
     "exception": false,
     "start_time": "2021-12-05T03:39:31.423078",
     "status": "completed"
    },
    "tags": []
   },
   "source": [
    "# Swin Inference"
   ]
  },
  {
   "cell_type": "code",
   "execution_count": 8,
   "id": "5cf6fd78",
   "metadata": {
    "execution": {
     "iopub.execute_input": "2021-12-05T03:39:33.147149Z",
     "iopub.status.busy": "2021-12-05T03:39:33.146479Z",
     "iopub.status.idle": "2021-12-05T03:40:29.117631Z",
     "shell.execute_reply": "2021-12-05T03:40:29.118110Z",
     "shell.execute_reply.started": "2021-12-05T00:50:32.951166Z"
    },
    "papermill": {
     "duration": 56.551486,
     "end_time": "2021-12-05T03:40:29.118310",
     "exception": false,
     "start_time": "2021-12-05T03:39:32.566824",
     "status": "completed"
    },
    "tags": []
   },
   "outputs": [
    {
     "name": "stderr",
     "output_type": "stream",
     "text": [
      "100%|██████████| 1/1 [00:00<00:00,  1.51it/s, stage=test]\n",
      "100%|██████████| 1/1 [00:00<00:00,  1.68it/s, stage=test]\n",
      "100%|██████████| 1/1 [00:00<00:00,  1.14it/s, stage=test]\n",
      "100%|██████████| 1/1 [00:00<00:00,  1.74it/s, stage=test]\n",
      "100%|██████████| 1/1 [00:00<00:00,  1.68it/s, stage=test]\n"
     ]
    }
   ],
   "source": [
    "# Create test dataset\n",
    "df_test = pd.read_csv(\"../input/petfinder-pawpularity-score/test.csv\")\n",
    "test_image_paths = [f\"../input/petfinder-pawpularity-score/test/{x}.jpg\" for x in df_test[\"Id\"].values]\n",
    "test_dense_features = df_test[photo_metadata].values\n",
    "test_targets = np.ones(len(test_image_paths))\n",
    "test_aug = albumentations.Compose(\n",
    "    [\n",
    "        albumentations.Resize(IMAGE_SIZE, IMAGE_SIZE, p=1),\n",
    "        albumentations.Normalize(\n",
    "            mean=[0.485, 0.456, 0.406],\n",
    "            std=[0.229, 0.224, 0.225],\n",
    "            max_pixel_value=255.0,\n",
    "            p=1.0,\n",
    "        ),\n",
    "    ],\n",
    "    p=1.0,\n",
    ")\n",
    "test_dataset = Dataset(\n",
    "    image_paths=test_image_paths,\n",
    "    dense_features=test_dense_features,\n",
    "    targets=test_targets,\n",
    "    augmentations=test_aug,\n",
    ")\n",
    "\n",
    "# Get predictions for all 5 folds\n",
    "all_swin_preds = []\n",
    "for fold in range(5):\n",
    "    # Load Swin for current fold\n",
    "    cur_swin = Swin()\n",
    "    cur_swin.load(f\"../input/bce-20-epochs/model_f{fold}.bin\", device=\"cuda\", weights_only=True)\n",
    "\n",
    "    # Predict test set\n",
    "    test_preds = cur_swin.predict(test_dataset, batch_size=16, n_jobs=-1)\n",
    "\n",
    "    cur_swin_preds = []\n",
    "    for preds in test_preds:\n",
    "        # Denormalize\n",
    "        preds = sigmoid(preds) * 100    \n",
    "        \n",
    "        # Convert to list\n",
    "        preds = preds.ravel().tolist()\n",
    "        \n",
    "        # Add to current fold list\n",
    "        cur_swin_preds.extend(preds)\n",
    "    \n",
    "    # Add current fold list to all folds list\n",
    "    all_swin_preds.append(cur_swin_preds)\n",
    "\n",
    "# Final prediction is the average of all folds\n",
    "df_test[\"Pawpularity\"] = np.mean(np.column_stack(all_swin_preds), axis=1)\n",
    "df_test = df_test[[\"Id\", \"Pawpularity\"]]\n",
    "df_test.to_csv(\"submission.csv\", index=False)"
   ]
  },
  {
   "cell_type": "code",
   "execution_count": 9,
   "id": "b80c4c20",
   "metadata": {
    "execution": {
     "iopub.execute_input": "2021-12-05T03:40:30.293252Z",
     "iopub.status.busy": "2021-12-05T03:40:30.292552Z",
     "iopub.status.idle": "2021-12-05T03:40:30.308412Z",
     "shell.execute_reply": "2021-12-05T03:40:30.308853Z",
     "shell.execute_reply.started": "2021-12-05T00:52:05.3649Z"
    },
    "papermill": {
     "duration": 0.601372,
     "end_time": "2021-12-05T03:40:30.309009",
     "exception": false,
     "start_time": "2021-12-05T03:40:29.707637",
     "status": "completed"
    },
    "tags": []
   },
   "outputs": [
    {
     "data": {
      "text/html": [
       "<div>\n",
       "<style scoped>\n",
       "    .dataframe tbody tr th:only-of-type {\n",
       "        vertical-align: middle;\n",
       "    }\n",
       "\n",
       "    .dataframe tbody tr th {\n",
       "        vertical-align: top;\n",
       "    }\n",
       "\n",
       "    .dataframe thead th {\n",
       "        text-align: right;\n",
       "    }\n",
       "</style>\n",
       "<table border=\"1\" class=\"dataframe\">\n",
       "  <thead>\n",
       "    <tr style=\"text-align: right;\">\n",
       "      <th></th>\n",
       "      <th>Id</th>\n",
       "      <th>Pawpularity</th>\n",
       "    </tr>\n",
       "  </thead>\n",
       "  <tbody>\n",
       "    <tr>\n",
       "      <th>0</th>\n",
       "      <td>4128bae22183829d2b5fea10effdb0c3</td>\n",
       "      <td>40.683147</td>\n",
       "    </tr>\n",
       "    <tr>\n",
       "      <th>1</th>\n",
       "      <td>43a2262d7738e3d420d453815151079e</td>\n",
       "      <td>41.558900</td>\n",
       "    </tr>\n",
       "    <tr>\n",
       "      <th>2</th>\n",
       "      <td>4e429cead1848a298432a0acad014c9d</td>\n",
       "      <td>40.380956</td>\n",
       "    </tr>\n",
       "    <tr>\n",
       "      <th>3</th>\n",
       "      <td>80bc3ccafcc51b66303c2c263aa38486</td>\n",
       "      <td>40.515140</td>\n",
       "    </tr>\n",
       "    <tr>\n",
       "      <th>4</th>\n",
       "      <td>8f49844c382931444e68dffbe20228f4</td>\n",
       "      <td>40.567381</td>\n",
       "    </tr>\n",
       "  </tbody>\n",
       "</table>\n",
       "</div>"
      ],
      "text/plain": [
       "                                 Id  Pawpularity\n",
       "0  4128bae22183829d2b5fea10effdb0c3    40.683147\n",
       "1  43a2262d7738e3d420d453815151079e    41.558900\n",
       "2  4e429cead1848a298432a0acad014c9d    40.380956\n",
       "3  80bc3ccafcc51b66303c2c263aa38486    40.515140\n",
       "4  8f49844c382931444e68dffbe20228f4    40.567381"
      ]
     },
     "execution_count": 9,
     "metadata": {},
     "output_type": "execute_result"
    }
   ],
   "source": [
    "df_test.head()"
   ]
  }
 ],
 "metadata": {
  "kernelspec": {
   "display_name": "Python 3",
   "language": "python",
   "name": "python3"
  },
  "language_info": {
   "codemirror_mode": {
    "name": "ipython",
    "version": 3
   },
   "file_extension": ".py",
   "mimetype": "text/x-python",
   "name": "python",
   "nbconvert_exporter": "python",
   "pygments_lexer": "ipython3",
   "version": "3.7.10"
  },
  "papermill": {
   "default_parameters": {},
   "duration": 1406.310564,
   "end_time": "2021-12-05T03:40:32.388339",
   "environment_variables": {},
   "exception": null,
   "input_path": "__notebook__.ipynb",
   "output_path": "__notebook__.ipynb",
   "parameters": {},
   "start_time": "2021-12-05T03:17:06.077775",
   "version": "2.3.3"
  }
 },
 "nbformat": 4,
 "nbformat_minor": 5
}
