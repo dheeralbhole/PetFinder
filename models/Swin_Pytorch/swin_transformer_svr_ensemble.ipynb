{
 "cells": [
  {
   "cell_type": "markdown",
   "id": "25ca8332",
   "metadata": {
    "papermill": {
     "duration": 0.01411,
     "end_time": "2021-12-05T03:16:05.405009",
     "exception": false,
     "start_time": "2021-12-05T03:16:05.390899",
     "status": "completed"
    },
    "tags": []
   },
   "source": [
    "# Swin Transformer and Support Vector Regression Ensemble\n",
    "After training the Swin Transformer, we try to ensemble it with a Support Vector Regression model to see if it improves our performance. We train an SVR model for each of the 5 Swin Transformer folds using the output embeddings from the Swin Transformer and the photo metadata. We take the weighted average between the Swin Transformer and its respective SVR to make the final predictions. The ensemble performed marginally better than the Swin Transformer alone."
   ]
  },
  {
   "cell_type": "markdown",
   "id": "4a9b9580",
   "metadata": {
    "papermill": {
     "duration": 0.012514,
     "end_time": "2021-12-05T03:16:05.430615",
     "exception": false,
     "start_time": "2021-12-05T03:16:05.418101",
     "status": "completed"
    },
    "tags": []
   },
   "source": [
    "# Imports"
   ]
  },
  {
   "cell_type": "code",
   "execution_count": 1,
   "id": "c287d259",
   "metadata": {
    "_cell_guid": "b1076dfc-b9ad-4769-8c92-a6c4dae69d19",
    "_kg_hide-output": true,
    "_uuid": "8f2839f25d086af736a60e9eeb907d3b93b6e0e5",
    "execution": {
     "iopub.execute_input": "2021-12-05T03:16:05.537936Z",
     "iopub.status.busy": "2021-12-05T03:16:05.537110Z",
     "iopub.status.idle": "2021-12-05T03:16:16.874733Z",
     "shell.execute_reply": "2021-12-05T03:16:16.873751Z",
     "shell.execute_reply.started": "2021-12-05T03:05:00.498688Z"
    },
    "papermill": {
     "duration": 11.431216,
     "end_time": "2021-12-05T03:16:16.874921",
     "exception": false,
     "start_time": "2021-12-05T03:16:05.443705",
     "status": "completed"
    },
    "tags": []
   },
   "outputs": [],
   "source": [
    "# Add tez and timm libraries to Kaggle\n",
    "import sys\n",
    "sys.path.append(\"../input/tez-lib/\")\n",
    "sys.path.append(\"../input/timmmaster/\")\n",
    "\n",
    "# Basics\n",
    "import numpy as np\n",
    "import pandas as pd\n",
    "\n",
    "# Image manipulation\n",
    "import cv2\n",
    "\n",
    "# Main neural network library\n",
    "import torch.nn as nn\n",
    "import torch\n",
    "\n",
    "# Easier PyTorch development\n",
    "import tez\n",
    "from tez.callbacks import EarlyStopping\n",
    "\n",
    "# Image augmentations\n",
    "import albumentations\n",
    "\n",
    "# Swin Transformer backbone\n",
    "import timm\n",
    "\n",
    "# Calculate MSE\n",
    "from sklearn.metrics import mean_squared_error\n",
    "\n",
    "# Support Vector Regression\n",
    "import cuml\n",
    "from cuml.svm import SVR\n",
    "\n",
    "# Model serialization\n",
    "import pickle"
   ]
  },
  {
   "cell_type": "markdown",
   "id": "39436639",
   "metadata": {
    "papermill": {
     "duration": 0.012732,
     "end_time": "2021-12-05T03:16:16.900573",
     "exception": false,
     "start_time": "2021-12-05T03:16:16.887841",
     "status": "completed"
    },
    "tags": []
   },
   "source": [
    "# General"
   ]
  },
  {
   "cell_type": "code",
   "execution_count": 2,
   "id": "9750f078",
   "metadata": {
    "execution": {
     "iopub.execute_input": "2021-12-05T03:16:16.930402Z",
     "iopub.status.busy": "2021-12-05T03:16:16.929646Z",
     "iopub.status.idle": "2021-12-05T03:16:16.932456Z",
     "shell.execute_reply": "2021-12-05T03:16:16.932067Z",
     "shell.execute_reply.started": "2021-12-05T03:05:00.507442Z"
    },
    "papermill": {
     "duration": 0.018948,
     "end_time": "2021-12-05T03:16:16.932560",
     "exception": false,
     "start_time": "2021-12-05T03:16:16.913612",
     "status": "completed"
    },
    "tags": []
   },
   "outputs": [],
   "source": [
    "# Fold to train\n",
    "FOLD = 0\n",
    "\n",
    "# Input image size\n",
    "IMAGE_SIZE = 384\n",
    "\n",
    "# Weighted average weight for Swin Transformer\n",
    "SWIN_WEIGHT = 0.5"
   ]
  },
  {
   "cell_type": "code",
   "execution_count": 3,
   "id": "ca2597db",
   "metadata": {
    "execution": {
     "iopub.execute_input": "2021-12-05T03:16:16.962233Z",
     "iopub.status.busy": "2021-12-05T03:16:16.961503Z",
     "iopub.status.idle": "2021-12-05T03:16:16.963798Z",
     "shell.execute_reply": "2021-12-05T03:16:16.963412Z",
     "shell.execute_reply.started": "2021-12-05T03:05:00.520804Z"
    },
    "papermill": {
     "duration": 0.018836,
     "end_time": "2021-12-05T03:16:16.963924",
     "exception": false,
     "start_time": "2021-12-05T03:16:16.945088",
     "status": "completed"
    },
    "tags": []
   },
   "outputs": [],
   "source": [
    "# To denormalize predictions\n",
    "def sigmoid(x):\n",
    "    return 1 / (1 + np.exp(-x))"
   ]
  },
  {
   "cell_type": "markdown",
   "id": "cab52886",
   "metadata": {
    "papermill": {
     "duration": 0.012483,
     "end_time": "2021-12-05T03:16:16.990377",
     "exception": false,
     "start_time": "2021-12-05T03:16:16.977894",
     "status": "completed"
    },
    "tags": []
   },
   "source": [
    "# Dataset"
   ]
  },
  {
   "cell_type": "code",
   "execution_count": 4,
   "id": "350003b6",
   "metadata": {
    "execution": {
     "iopub.execute_input": "2021-12-05T03:16:17.023735Z",
     "iopub.status.busy": "2021-12-05T03:16:17.022769Z",
     "iopub.status.idle": "2021-12-05T03:16:17.025643Z",
     "shell.execute_reply": "2021-12-05T03:16:17.026030Z",
     "shell.execute_reply.started": "2021-12-05T03:05:00.530140Z"
    },
    "papermill": {
     "duration": 0.023304,
     "end_time": "2021-12-05T03:16:17.026149",
     "exception": false,
     "start_time": "2021-12-05T03:16:17.002845",
     "status": "completed"
    },
    "tags": []
   },
   "outputs": [],
   "source": [
    "class Dataset:\n",
    "    def __init__(self, image_paths, dense_features, targets, augmentations):\n",
    "        self.image_paths = image_paths\n",
    "        self.dense_features = dense_features\n",
    "        self.targets = targets\n",
    "        self.augmentations = augmentations\n",
    "        \n",
    "    def __len__(self):\n",
    "        return len(self.image_paths)\n",
    "    \n",
    "    def __getitem__(self, item):\n",
    "        # Read image and convert BGR to RGB\n",
    "        image = cv2.imread(self.image_paths[item])\n",
    "        image = cv2.cvtColor(image, cv2.COLOR_BGR2RGB)\n",
    "        \n",
    "        # Augmentations\n",
    "        if self.augmentations is not None:\n",
    "            augmented = self.augmentations(image=image)\n",
    "            image = augmented[\"image\"]\n",
    "            \n",
    "        # OpenCV is (height, width, channel)\n",
    "        # PyTorch wants (channel, height, width)\n",
    "        image = np.transpose(image, (2, 0, 1)).astype(np.float32)\n",
    "        \n",
    "        # Photo metadata\n",
    "        features = self.dense_features[item, :]\n",
    "        \n",
    "        # Important: divide by 100 to normalize targets for BCE loss\n",
    "        targets = self.targets[item] / 100.0\n",
    "        \n",
    "        return {\n",
    "            \"image\": torch.tensor(image, dtype=torch.float),\n",
    "            \"features\": torch.tensor(features, dtype=torch.float),\n",
    "            \"targets\": torch.tensor(targets, dtype=torch.float),\n",
    "        }"
   ]
  },
  {
   "cell_type": "code",
   "execution_count": 5,
   "id": "b37b5d5a",
   "metadata": {
    "execution": {
     "iopub.execute_input": "2021-12-05T03:16:17.055085Z",
     "iopub.status.busy": "2021-12-05T03:16:17.054298Z",
     "iopub.status.idle": "2021-12-05T03:16:17.129018Z",
     "shell.execute_reply": "2021-12-05T03:16:17.128575Z",
     "shell.execute_reply.started": "2021-12-05T03:05:00.544936Z"
    },
    "papermill": {
     "duration": 0.089775,
     "end_time": "2021-12-05T03:16:17.129135",
     "exception": false,
     "start_time": "2021-12-05T03:16:17.039360",
     "status": "completed"
    },
    "tags": []
   },
   "outputs": [],
   "source": [
    "# Load community-provided 5-fold preprocessed CSV file to dataframe\n",
    "df = pd.read_csv(\"../input/same-old-creating-folds/train_5folds.csv\")\n",
    "\n",
    "# Dataframes\n",
    "df_train = df[df.kfold != FOLD].reset_index(drop=True)\n",
    "df_valid = df[df.kfold == FOLD].reset_index(drop=True)\n",
    "\n",
    "# Image paths\n",
    "train_image_paths = [f\"../input/petfinder-pawpularity-score/train/{x}.jpg\" for x in df_train[\"Id\"].values]\n",
    "valid_image_paths = [f\"../input/petfinder-pawpularity-score/train/{x}.jpg\" for x in df_valid[\"Id\"].values]\n",
    "\n",
    "# Dense features (photo metadata)\n",
    "photo_metadata = ['Subject Focus', 'Eyes', 'Face', 'Near', 'Action', 'Accessory', 'Group', 'Collage', 'Human', 'Occlusion', 'Info', 'Blur']\n",
    "train_dense_features = df_train[photo_metadata].values\n",
    "valid_dense_features = df_valid[photo_metadata].values\n",
    "\n",
    "# Targets (Pawpularity scores)\n",
    "train_targets = df_train[\"Pawpularity\"].values\n",
    "valid_targets = df_valid[\"Pawpularity\"].values\n",
    "\n",
    "# Augmentations: always resize and normalize, others for train set only\n",
    "train_aug = albumentations.Compose(\n",
    "    [\n",
    "        albumentations.Resize(IMAGE_SIZE, IMAGE_SIZE, p=1),\n",
    "        albumentations.HueSaturationValue(hue_shift_limit=0.2, sat_shift_limit=0.2, val_shift_limit=0.2, p=0.5),\n",
    "        albumentations.RandomBrightnessContrast(brightness_limit=(-0.1, 0.1), contrast_limit=(-0.1, 0.1), p=0.5),\n",
    "        albumentations.RGBShift(r_shift_limit=15, g_shift_limit=15, b_shift_limit=15, p=0.5),\n",
    "        albumentations.Normalize(\n",
    "            mean=[0.485, 0.456, 0.406],\n",
    "            std=[0.229, 0.224, 0.225],\n",
    "            max_pixel_value=255.0,\n",
    "            p=1.0,\n",
    "        ),\n",
    "    ],\n",
    "    p=1.0,\n",
    ")\n",
    "valid_aug = albumentations.Compose(\n",
    "    [\n",
    "        albumentations.Resize(IMAGE_SIZE, IMAGE_SIZE, p=1),\n",
    "        albumentations.Normalize(\n",
    "            mean=[0.485, 0.456, 0.406],\n",
    "            std=[0.229, 0.224, 0.225],\n",
    "            max_pixel_value=255.0,\n",
    "            p=1.0,\n",
    "        ),\n",
    "    ],\n",
    "    p=1.0,\n",
    ")\n",
    "\n",
    "# Create datasets\n",
    "train_dataset = Dataset(\n",
    "    image_paths=train_image_paths,\n",
    "    dense_features=train_dense_features,\n",
    "    targets=train_targets,\n",
    "    augmentations=train_aug,\n",
    ")\n",
    "valid_dataset = Dataset(\n",
    "    image_paths=valid_image_paths,\n",
    "    dense_features=valid_dense_features,\n",
    "    targets=valid_targets,\n",
    "    augmentations=valid_aug,\n",
    ")"
   ]
  },
  {
   "cell_type": "markdown",
   "id": "2d6d5c7b",
   "metadata": {
    "papermill": {
     "duration": 0.012655,
     "end_time": "2021-12-05T03:16:17.154731",
     "exception": false,
     "start_time": "2021-12-05T03:16:17.142076",
     "status": "completed"
    },
    "tags": []
   },
   "source": [
    "# Swin Model"
   ]
  },
  {
   "cell_type": "code",
   "execution_count": 6,
   "id": "72ccd140",
   "metadata": {
    "execution": {
     "iopub.execute_input": "2021-12-05T03:16:17.192722Z",
     "iopub.status.busy": "2021-12-05T03:16:17.191963Z",
     "iopub.status.idle": "2021-12-05T03:16:17.194379Z",
     "shell.execute_reply": "2021-12-05T03:16:17.193984Z",
     "shell.execute_reply.started": "2021-12-05T03:05:00.593993Z"
    },
    "papermill": {
     "duration": 0.027294,
     "end_time": "2021-12-05T03:16:17.194481",
     "exception": false,
     "start_time": "2021-12-05T03:16:17.167187",
     "status": "completed"
    },
    "tags": []
   },
   "outputs": [],
   "source": [
    "class Swin(tez.Model):\n",
    "    def __init__(self):\n",
    "        super().__init__()\n",
    "\n",
    "        # Swin Transformer backbone\n",
    "        self.model = timm.create_model(\"swin_large_patch4_window12_384\", pretrained=True, in_chans=3)\n",
    "        \n",
    "        # Classification head\n",
    "        self.model.head = nn.Linear(self.model.head.in_features, 128)\n",
    "        self.dropout = nn.Dropout(0.1)\n",
    "        self.dense1 = nn.Linear(140, 64)\n",
    "        \n",
    "        # Important: add ReLU activation function for dense head layer to introduce non-linearity\n",
    "        self.relu1 = nn.ReLU()\n",
    "        \n",
    "        # Single output without sigmoid, BCE loss will apply sigmoid automatically\n",
    "        self.dense2 = nn.Linear(64, 1)\n",
    "        \n",
    "        # Step the schedule after each epoch\n",
    "        self.step_scheduler_after = \"epoch\"\n",
    "\n",
    "    def monitor_metrics(self, outputs, targets):\n",
    "        # Important: apply sigmoid function to output predictions and multiply by 100 to denormalize\n",
    "        outputs = sigmoid(outputs.cpu().detach().numpy()) * 100\n",
    "        \n",
    "        # Important: multiply targets by 100 to denormalize\n",
    "        targets = targets.cpu().detach().numpy() * 100\n",
    "        \n",
    "        # Calculate RMSE\n",
    "        rmse = mean_squared_error(targets, outputs, squared=False)\n",
    "        return {\"rmse\": rmse}\n",
    "\n",
    "    def fetch_scheduler(self):\n",
    "        # Cosine annealing scheduler\n",
    "        scheduler = torch.optim.lr_scheduler.CosineAnnealingWarmRestarts(\n",
    "            self.optimizer, T_0=10, T_mult=1, eta_min=1e-6, last_epoch=-1\n",
    "        )\n",
    "        return scheduler\n",
    "\n",
    "    def fetch_optimizer(self):\n",
    "        # Adam optimizer\n",
    "        optimizer = torch.optim.Adam(self.parameters(), lr=1e-4)\n",
    "        return optimizer\n",
    "\n",
    "    def forward(self, image, features, targets=None):\n",
    "        # Forward pass through model\n",
    "        x = self.model(image)\n",
    "        x = self.dropout(x)\n",
    "        x = torch.cat([x, features], dim=1)\n",
    "        x = self.dense1(x)\n",
    "        \n",
    "        # Important: pass through ReLU activation\n",
    "        x = self.relu1(x)\n",
    "        \n",
    "        # Output node\n",
    "        x = self.dense2(x)\n",
    "\n",
    "        if targets is not None:\n",
    "            # Important: use binary cross entropy loss instead of mean squared error loss\n",
    "            loss = nn.BCEWithLogitsLoss()(x, targets.view(-1, 1))\n",
    "            \n",
    "            metrics = self.monitor_metrics(x, targets)\n",
    "            return x, loss, metrics\n",
    "        return x, 0, {}"
   ]
  },
  {
   "cell_type": "markdown",
   "id": "bbe386b7",
   "metadata": {
    "papermill": {
     "duration": 0.012582,
     "end_time": "2021-12-05T03:16:17.219848",
     "exception": false,
     "start_time": "2021-12-05T03:16:17.207266",
     "status": "completed"
    },
    "tags": []
   },
   "source": [
    "# Swin Inference"
   ]
  },
  {
   "cell_type": "code",
   "execution_count": 7,
   "id": "86e82de5",
   "metadata": {
    "execution": {
     "iopub.execute_input": "2021-12-05T03:16:17.254435Z",
     "iopub.status.busy": "2021-12-05T03:16:17.253910Z",
     "iopub.status.idle": "2021-12-05T03:17:49.687419Z",
     "shell.execute_reply": "2021-12-05T03:17:49.686682Z",
     "shell.execute_reply.started": "2021-12-05T03:05:00.607991Z"
    },
    "papermill": {
     "duration": 92.454983,
     "end_time": "2021-12-05T03:17:49.687543",
     "exception": false,
     "start_time": "2021-12-05T03:16:17.232560",
     "status": "completed"
    },
    "tags": []
   },
   "outputs": [
    {
     "name": "stderr",
     "output_type": "stream",
     "text": [
      "Downloading: \"https://github.com/SwinTransformer/storage/releases/download/v1.0.0/swin_large_patch4_window12_384_22kto1k.pth\" to /root/.cache/torch/hub/checkpoints/swin_large_patch4_window12_384_22kto1k.pth\n",
      "100%|██████████| 1/1 [00:00<00:00,  1.24it/s, stage=test]\n",
      "100%|██████████| 1/1 [00:00<00:00,  1.63it/s, stage=test]\n",
      "100%|██████████| 1/1 [00:00<00:00,  1.70it/s, stage=test]\n",
      "100%|██████████| 1/1 [00:00<00:00,  1.32it/s, stage=test]\n",
      "100%|██████████| 1/1 [00:00<00:00,  1.60it/s, stage=test]\n"
     ]
    }
   ],
   "source": [
    "# Create test dataset\n",
    "df_test = pd.read_csv(\"../input/petfinder-pawpularity-score/test.csv\")\n",
    "test_image_paths = [f\"../input/petfinder-pawpularity-score/test/{x}.jpg\" for x in df_test[\"Id\"].values]\n",
    "test_dense_features = df_test[photo_metadata].values\n",
    "test_targets = np.ones(len(test_image_paths))\n",
    "test_aug = albumentations.Compose(\n",
    "    [\n",
    "        albumentations.Resize(IMAGE_SIZE, IMAGE_SIZE, p=1),\n",
    "        albumentations.Normalize(\n",
    "            mean=[0.485, 0.456, 0.406],\n",
    "            std=[0.229, 0.224, 0.225],\n",
    "            max_pixel_value=255.0,\n",
    "            p=1.0,\n",
    "        ),\n",
    "    ],\n",
    "    p=1.0,\n",
    ")\n",
    "test_dataset = Dataset(\n",
    "    image_paths=test_image_paths,\n",
    "    dense_features=test_dense_features,\n",
    "    targets=test_targets,\n",
    "    augmentations=test_aug,\n",
    ")\n",
    "\n",
    "# Get predictions for all 5 folds\n",
    "all_swin_preds = []\n",
    "for fold in range(5):\n",
    "    # Load Swin for current fold\n",
    "    cur_swin = Swin()\n",
    "    cur_swin.load(f\"../input/bce-20-epochs/model_f{fold}.bin\", device=\"cuda\", weights_only=True)\n",
    "\n",
    "    # Predict test set\n",
    "    test_preds = cur_swin.predict(test_dataset, batch_size=16, n_jobs=-1)\n",
    "\n",
    "    cur_swin_preds = []\n",
    "    for preds in test_preds:\n",
    "        # Denormalize\n",
    "        preds = sigmoid(preds) * 100    \n",
    "        \n",
    "        # Convert to list\n",
    "        preds = preds.ravel().tolist()\n",
    "        \n",
    "        # Add to current fold list\n",
    "        cur_swin_preds.extend(preds)\n",
    "    \n",
    "    # Add current fold list to all folds list\n",
    "    all_swin_preds.append(cur_swin_preds)\n",
    "\n",
    "# Final prediction is the average of all folds\n",
    "df_test[\"Pawpularity\"] = np.mean(np.column_stack(all_swin_preds), axis=1)\n",
    "df_test = df_test[[\"Id\", \"Pawpularity\"]]\n",
    "df_test.to_csv(\"submission.csv\", index=False)"
   ]
  },
  {
   "cell_type": "code",
   "execution_count": 8,
   "id": "f0468d52",
   "metadata": {
    "execution": {
     "iopub.execute_input": "2021-12-05T03:17:49.733218Z",
     "iopub.status.busy": "2021-12-05T03:17:49.732392Z",
     "iopub.status.idle": "2021-12-05T03:17:49.745474Z",
     "shell.execute_reply": "2021-12-05T03:17:49.745910Z",
     "shell.execute_reply.started": "2021-12-05T03:06:24.670919Z"
    },
    "papermill": {
     "duration": 0.038888,
     "end_time": "2021-12-05T03:17:49.746044",
     "exception": false,
     "start_time": "2021-12-05T03:17:49.707156",
     "status": "completed"
    },
    "tags": []
   },
   "outputs": [
    {
     "data": {
      "text/html": [
       "<div>\n",
       "<style scoped>\n",
       "    .dataframe tbody tr th:only-of-type {\n",
       "        vertical-align: middle;\n",
       "    }\n",
       "\n",
       "    .dataframe tbody tr th {\n",
       "        vertical-align: top;\n",
       "    }\n",
       "\n",
       "    .dataframe thead th {\n",
       "        text-align: right;\n",
       "    }\n",
       "</style>\n",
       "<table border=\"1\" class=\"dataframe\">\n",
       "  <thead>\n",
       "    <tr style=\"text-align: right;\">\n",
       "      <th></th>\n",
       "      <th>Id</th>\n",
       "      <th>Pawpularity</th>\n",
       "    </tr>\n",
       "  </thead>\n",
       "  <tbody>\n",
       "    <tr>\n",
       "      <th>0</th>\n",
       "      <td>4128bae22183829d2b5fea10effdb0c3</td>\n",
       "      <td>40.683147</td>\n",
       "    </tr>\n",
       "    <tr>\n",
       "      <th>1</th>\n",
       "      <td>43a2262d7738e3d420d453815151079e</td>\n",
       "      <td>41.558900</td>\n",
       "    </tr>\n",
       "    <tr>\n",
       "      <th>2</th>\n",
       "      <td>4e429cead1848a298432a0acad014c9d</td>\n",
       "      <td>40.380956</td>\n",
       "    </tr>\n",
       "    <tr>\n",
       "      <th>3</th>\n",
       "      <td>80bc3ccafcc51b66303c2c263aa38486</td>\n",
       "      <td>40.515140</td>\n",
       "    </tr>\n",
       "    <tr>\n",
       "      <th>4</th>\n",
       "      <td>8f49844c382931444e68dffbe20228f4</td>\n",
       "      <td>40.567381</td>\n",
       "    </tr>\n",
       "  </tbody>\n",
       "</table>\n",
       "</div>"
      ],
      "text/plain": [
       "                                 Id  Pawpularity\n",
       "0  4128bae22183829d2b5fea10effdb0c3    40.683147\n",
       "1  43a2262d7738e3d420d453815151079e    41.558900\n",
       "2  4e429cead1848a298432a0acad014c9d    40.380956\n",
       "3  80bc3ccafcc51b66303c2c263aa38486    40.515140\n",
       "4  8f49844c382931444e68dffbe20228f4    40.567381"
      ]
     },
     "execution_count": 8,
     "metadata": {},
     "output_type": "execute_result"
    }
   ],
   "source": [
    "df_test.head()"
   ]
  },
  {
   "cell_type": "markdown",
   "id": "36e1a1cc",
   "metadata": {
    "papermill": {
     "duration": 0.019657,
     "end_time": "2021-12-05T03:17:49.785232",
     "exception": false,
     "start_time": "2021-12-05T03:17:49.765575",
     "status": "completed"
    },
    "tags": []
   },
   "source": [
    "# Swin SVR Model"
   ]
  },
  {
   "cell_type": "code",
   "execution_count": 9,
   "id": "f016aace",
   "metadata": {
    "execution": {
     "iopub.execute_input": "2021-12-05T03:17:49.833315Z",
     "iopub.status.busy": "2021-12-05T03:17:49.832664Z",
     "iopub.status.idle": "2021-12-05T03:17:49.835361Z",
     "shell.execute_reply": "2021-12-05T03:17:49.834956Z",
     "shell.execute_reply.started": "2021-12-05T03:06:24.692176Z"
    },
    "papermill": {
     "duration": 0.03003,
     "end_time": "2021-12-05T03:17:49.835463",
     "exception": false,
     "start_time": "2021-12-05T03:17:49.805433",
     "status": "completed"
    },
    "tags": []
   },
   "outputs": [],
   "source": [
    "class SwinSvr(tez.Model):\n",
    "    def __init__(self):\n",
    "        super().__init__()\n",
    "        self.model = timm.create_model(\"swin_large_patch4_window12_384\", pretrained=False, in_chans=3)\n",
    "        self.model.head = nn.Linear(self.model.head.in_features, 128)\n",
    "        self.dropout = nn.Dropout(0.1)\n",
    "        self.dense1 = nn.Linear(140, 64)\n",
    "        self.relu1 = nn.ReLU()\n",
    "        self.dense2 = nn.Linear(64, 1)\n",
    "\n",
    "    def forward(self, image, features, targets=None):\n",
    "        embeddings = self.model(image)\n",
    "        x = self.dropout(embeddings)\n",
    "        x = torch.cat([x, features], dim=1)\n",
    "        x = self.dense1(x)\n",
    "        x = self.relu1(x)\n",
    "        x = self.dense2(x)\n",
    "        \n",
    "        # Important: include embeddings and features\n",
    "        x = torch.cat([x, embeddings, features], dim=1)\n",
    "        \n",
    "        return x, 0, {}"
   ]
  },
  {
   "cell_type": "markdown",
   "id": "3b9371c6",
   "metadata": {
    "papermill": {
     "duration": 0.019457,
     "end_time": "2021-12-05T03:17:49.874404",
     "exception": false,
     "start_time": "2021-12-05T03:17:49.854947",
     "status": "completed"
    },
    "tags": []
   },
   "source": [
    "# SVR Training"
   ]
  },
  {
   "cell_type": "code",
   "execution_count": 10,
   "id": "99041bef",
   "metadata": {
    "execution": {
     "iopub.execute_input": "2021-12-05T03:17:49.923018Z",
     "iopub.status.busy": "2021-12-05T03:17:49.922220Z",
     "iopub.status.idle": "2021-12-05T03:25:10.014221Z",
     "shell.execute_reply": "2021-12-05T03:25:10.014622Z",
     "shell.execute_reply.started": "2021-12-05T03:14:13.066471Z"
    },
    "papermill": {
     "duration": 440.120705,
     "end_time": "2021-12-05T03:25:10.014785",
     "exception": false,
     "start_time": "2021-12-05T03:17:49.894080",
     "status": "completed"
    },
    "tags": []
   },
   "outputs": [
    {
     "name": "stderr",
     "output_type": "stream",
     "text": [
      "100%|██████████| 496/496 [05:46<00:00,  1.43it/s, stage=test]\n",
      "100%|██████████| 124/124 [01:27<00:00,  1.42it/s, stage=test]"
     ]
    },
    {
     "name": "stdout",
     "output_type": "stream",
     "text": [
      "Validation MSE: 18.170138826483203\n"
     ]
    },
    {
     "name": "stderr",
     "output_type": "stream",
     "text": [
      "\n"
     ]
    }
   ],
   "source": [
    "# Use Swin to get embeddings\n",
    "swin_svr = SwinSvr()\n",
    "swin_svr.load(f\"../input/bce-20-epochs/model_f{FOLD}.bin\", device=\"cuda\", weights_only=True)\n",
    "swin_train_preds = swin_svr.predict(train_dataset, batch_size=16, n_jobs=-1)\n",
    "train_embeddings = np.array([]).reshape((0, 140))\n",
    "for preds in swin_train_preds:\n",
    "    train_embeddings = np.concatenate([train_embeddings, preds[:, 1:]], axis=0)\n",
    "\n",
    "# Train SVR on embeddings\n",
    "svr = SVR(C=20.0)\n",
    "svr.fit(train_embeddings, train_targets)\n",
    "pickle.dump(svr, open(f\"SVR_fold_{FOLD}.pkl\", \"wb\"))\n",
    "\n",
    "# Validation MSE\n",
    "swin_valid_preds = swin_svr.predict(valid_dataset, batch_size=16, n_jobs=-1)\n",
    "valid_embeddings = np.array([]).reshape((0, 140))\n",
    "denormalized_swin_valid_preds = []\n",
    "for preds in swin_valid_preds:\n",
    "    valid_embeddings = np.concatenate([valid_embeddings, preds[:, 1:]], axis=0)\n",
    "    preds = sigmoid(preds[:, 0]) * 100    \n",
    "    preds = preds.ravel().tolist()\n",
    "    denormalized_swin_valid_preds.extend(preds)\n",
    "svr_valid_preds = svr.predict(valid_embeddings)\n",
    "ensemble_preds = SWIN_WEIGHT * np.array(denormalized_swin_valid_preds) + (1 - SWIN_WEIGHT) * svr_valid_preds\n",
    "valid_mse = mean_squared_error(valid_targets, ensemble_preds, squared=False)\n",
    "print(\"Validation MSE:\", valid_mse)"
   ]
  },
  {
   "cell_type": "markdown",
   "id": "686af22d",
   "metadata": {
    "papermill": {
     "duration": 0.335431,
     "end_time": "2021-12-05T03:25:10.691775",
     "exception": false,
     "start_time": "2021-12-05T03:25:10.356344",
     "status": "completed"
    },
    "tags": []
   },
   "source": [
    "# Ensemble Inference"
   ]
  },
  {
   "cell_type": "code",
   "execution_count": 11,
   "id": "33953897",
   "metadata": {
    "execution": {
     "iopub.execute_input": "2021-12-05T03:25:11.746641Z",
     "iopub.status.busy": "2021-12-05T03:25:11.745802Z",
     "iopub.status.idle": "2021-12-05T03:25:42.490575Z",
     "shell.execute_reply": "2021-12-05T03:25:42.488012Z",
     "shell.execute_reply.started": "2021-12-05T03:12:17.246444Z"
    },
    "papermill": {
     "duration": 31.303835,
     "end_time": "2021-12-05T03:25:42.490733",
     "exception": false,
     "start_time": "2021-12-05T03:25:11.186898",
     "status": "completed"
    },
    "tags": []
   },
   "outputs": [
    {
     "name": "stderr",
     "output_type": "stream",
     "text": [
      "100%|██████████| 1/1 [00:00<00:00,  1.54it/s, stage=test]\n",
      "100%|██████████| 1/1 [00:00<00:00,  1.61it/s, stage=test]\n",
      "100%|██████████| 1/1 [00:00<00:00,  1.65it/s, stage=test]\n",
      "100%|██████████| 1/1 [00:00<00:00,  1.63it/s, stage=test]\n",
      "100%|██████████| 1/1 [00:00<00:00,  1.48it/s, stage=test]\n"
     ]
    }
   ],
   "source": [
    "all_svr_preds = []\n",
    "for fold in range(5):\n",
    "    # Use Swin to get embeddings\n",
    "    swin = SwinSvr()\n",
    "    swin.load(f\"../input/bce-20-epochs/model_f{fold}.bin\", device=\"cuda\", weights_only=True)\n",
    "    swin_test_preds = swin.predict(test_dataset, batch_size=16, n_jobs=-1)\n",
    "    embeddings = np.array([]).reshape((0, 140))\n",
    "    for preds in swin_test_preds:\n",
    "        embeddings = np.concatenate([embeddings, preds[:, 1:]], axis=0)\n",
    "    \n",
    "    # Load SVR and predict using embeddings\n",
    "    svr = pickle.load(open(f\"../input/svr-bce-20-epochs-5-folds/SVR_fold_{fold}.pkl\", \"rb\"))\n",
    "    svr_preds = svr.predict(embeddings)\n",
    "    all_svr_preds.append(svr_preds)\n",
    "\n",
    "# Final prediction is the weighted average of Swin Transformer and SVR predictions\n",
    "all_swin_preds = np.mean(np.column_stack(all_swin_preds), axis=1)\n",
    "all_svr_preds = np.mean(np.column_stack(all_svr_preds), axis=1)\n",
    "df_test[\"Pawpularity\"] = SWIN_WEIGHT * all_swin_preds + (1 - SWIN_WEIGHT) * all_svr_preds\n",
    "df_test = df_test[[\"Id\", \"Pawpularity\"]]\n",
    "df_test.to_csv(\"submission.csv\", index=False)"
   ]
  },
  {
   "cell_type": "code",
   "execution_count": 12,
   "id": "b818c831",
   "metadata": {
    "execution": {
     "iopub.execute_input": "2021-12-05T03:25:43.473883Z",
     "iopub.status.busy": "2021-12-05T03:25:43.472983Z",
     "iopub.status.idle": "2021-12-05T03:25:43.477888Z",
     "shell.execute_reply": "2021-12-05T03:25:43.478488Z",
     "shell.execute_reply.started": "2021-12-05T03:12:17.248296Z"
    },
    "papermill": {
     "duration": 0.61575,
     "end_time": "2021-12-05T03:25:43.478689",
     "exception": false,
     "start_time": "2021-12-05T03:25:42.862939",
     "status": "completed"
    },
    "tags": []
   },
   "outputs": [
    {
     "data": {
      "text/html": [
       "<div>\n",
       "<style scoped>\n",
       "    .dataframe tbody tr th:only-of-type {\n",
       "        vertical-align: middle;\n",
       "    }\n",
       "\n",
       "    .dataframe tbody tr th {\n",
       "        vertical-align: top;\n",
       "    }\n",
       "\n",
       "    .dataframe thead th {\n",
       "        text-align: right;\n",
       "    }\n",
       "</style>\n",
       "<table border=\"1\" class=\"dataframe\">\n",
       "  <thead>\n",
       "    <tr style=\"text-align: right;\">\n",
       "      <th></th>\n",
       "      <th>Id</th>\n",
       "      <th>Pawpularity</th>\n",
       "    </tr>\n",
       "  </thead>\n",
       "  <tbody>\n",
       "    <tr>\n",
       "      <th>0</th>\n",
       "      <td>4128bae22183829d2b5fea10effdb0c3</td>\n",
       "      <td>41.071823</td>\n",
       "    </tr>\n",
       "    <tr>\n",
       "      <th>1</th>\n",
       "      <td>43a2262d7738e3d420d453815151079e</td>\n",
       "      <td>42.346951</td>\n",
       "    </tr>\n",
       "    <tr>\n",
       "      <th>2</th>\n",
       "      <td>4e429cead1848a298432a0acad014c9d</td>\n",
       "      <td>40.599312</td>\n",
       "    </tr>\n",
       "    <tr>\n",
       "      <th>3</th>\n",
       "      <td>80bc3ccafcc51b66303c2c263aa38486</td>\n",
       "      <td>40.497409</td>\n",
       "    </tr>\n",
       "    <tr>\n",
       "      <th>4</th>\n",
       "      <td>8f49844c382931444e68dffbe20228f4</td>\n",
       "      <td>40.870295</td>\n",
       "    </tr>\n",
       "  </tbody>\n",
       "</table>\n",
       "</div>"
      ],
      "text/plain": [
       "                                 Id  Pawpularity\n",
       "0  4128bae22183829d2b5fea10effdb0c3    41.071823\n",
       "1  43a2262d7738e3d420d453815151079e    42.346951\n",
       "2  4e429cead1848a298432a0acad014c9d    40.599312\n",
       "3  80bc3ccafcc51b66303c2c263aa38486    40.497409\n",
       "4  8f49844c382931444e68dffbe20228f4    40.870295"
      ]
     },
     "execution_count": 12,
     "metadata": {},
     "output_type": "execute_result"
    }
   ],
   "source": [
    "df_test.head()"
   ]
  }
 ],
 "metadata": {
  "kernelspec": {
   "display_name": "Python 3",
   "language": "python",
   "name": "python3"
  },
  "language_info": {
   "codemirror_mode": {
    "name": "ipython",
    "version": 3
   },
   "file_extension": ".py",
   "mimetype": "text/x-python",
   "name": "python",
   "nbconvert_exporter": "python",
   "pygments_lexer": "ipython3",
   "version": "3.7.10"
  },
  "papermill": {
   "default_parameters": {},
   "duration": 587.853243,
   "end_time": "2021-12-05T03:25:46.669518",
   "environment_variables": {},
   "exception": null,
   "input_path": "__notebook__.ipynb",
   "output_path": "__notebook__.ipynb",
   "parameters": {},
   "start_time": "2021-12-05T03:15:58.816275",
   "version": "2.3.3"
  }
 },
 "nbformat": 4,
 "nbformat_minor": 5
}
