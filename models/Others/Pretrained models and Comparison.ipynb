{
 "cells": [
  {
   "cell_type": "code",
   "execution_count": 1,
   "metadata": {},
   "outputs": [],
   "source": [
    "import tensorflow as tf\n",
    "# tf.logging.set_verbosity(tf.logging.ERROR)\n",
    "\n",
    "import numpy as np\n",
    "import keras\n",
    "from PIL import Image\n",
    "# from IPython.display import display, HTML\n",
    "import numpy as np\n",
    "import pandas as pd\n",
    "\n",
    "from keras.models import Sequential\n",
    "from keras.layers import Conv2D, MaxPooling2D,GlobalAveragePooling2D,Dropout, Flatten, Dense\n",
    "from keras import regularizers\n",
    "from keras.optimizers import SGD\n",
    "from keras.preprocessing.image import ImageDataGenerator\n",
    "from sklearn.metrics import roc_auc_score\n",
    "from sklearn.preprocessing import LabelEncoder # one-hot encoding for age\n",
    "from keras.utils.np_utils import to_categorical\n",
    "\n",
    "\n",
    "import matplotlib.image as mpimg\n",
    "import matplotlib.pyplot as plt\n",
    "from PIL import Image\n",
    "from sklearn.model_selection import train_test_split\n",
    "import cv2\n",
    "import os"
   ]
  },
  {
   "cell_type": "code",
   "execution_count": 2,
   "metadata": {},
   "outputs": [],
   "source": [
    "import glob"
   ]
  },
  {
   "cell_type": "code",
   "execution_count": 3,
   "metadata": {},
   "outputs": [
    {
     "data": {
      "text/html": [
       "<div>\n",
       "<style scoped>\n",
       "    .dataframe tbody tr th:only-of-type {\n",
       "        vertical-align: middle;\n",
       "    }\n",
       "\n",
       "    .dataframe tbody tr th {\n",
       "        vertical-align: top;\n",
       "    }\n",
       "\n",
       "    .dataframe thead th {\n",
       "        text-align: right;\n",
       "    }\n",
       "</style>\n",
       "<table border=\"1\" class=\"dataframe\">\n",
       "  <thead>\n",
       "    <tr style=\"text-align: right;\">\n",
       "      <th></th>\n",
       "      <th>Id</th>\n",
       "      <th>Subject Focus</th>\n",
       "      <th>Eyes</th>\n",
       "      <th>Face</th>\n",
       "      <th>Near</th>\n",
       "      <th>Action</th>\n",
       "      <th>Accessory</th>\n",
       "      <th>Group</th>\n",
       "      <th>Collage</th>\n",
       "      <th>Human</th>\n",
       "      <th>Occlusion</th>\n",
       "      <th>Info</th>\n",
       "      <th>Blur</th>\n",
       "      <th>Pawpularity</th>\n",
       "    </tr>\n",
       "  </thead>\n",
       "  <tbody>\n",
       "    <tr>\n",
       "      <th>0</th>\n",
       "      <td>0007de18844b0dbbb5e1f607da0606e0</td>\n",
       "      <td>0</td>\n",
       "      <td>1</td>\n",
       "      <td>1</td>\n",
       "      <td>1</td>\n",
       "      <td>0</td>\n",
       "      <td>0</td>\n",
       "      <td>1</td>\n",
       "      <td>0</td>\n",
       "      <td>0</td>\n",
       "      <td>0</td>\n",
       "      <td>0</td>\n",
       "      <td>0</td>\n",
       "      <td>63</td>\n",
       "    </tr>\n",
       "    <tr>\n",
       "      <th>1</th>\n",
       "      <td>0009c66b9439883ba2750fb825e1d7db</td>\n",
       "      <td>0</td>\n",
       "      <td>1</td>\n",
       "      <td>1</td>\n",
       "      <td>0</td>\n",
       "      <td>0</td>\n",
       "      <td>0</td>\n",
       "      <td>0</td>\n",
       "      <td>0</td>\n",
       "      <td>0</td>\n",
       "      <td>0</td>\n",
       "      <td>0</td>\n",
       "      <td>0</td>\n",
       "      <td>42</td>\n",
       "    </tr>\n",
       "    <tr>\n",
       "      <th>2</th>\n",
       "      <td>0013fd999caf9a3efe1352ca1b0d937e</td>\n",
       "      <td>0</td>\n",
       "      <td>1</td>\n",
       "      <td>1</td>\n",
       "      <td>1</td>\n",
       "      <td>0</td>\n",
       "      <td>0</td>\n",
       "      <td>0</td>\n",
       "      <td>0</td>\n",
       "      <td>1</td>\n",
       "      <td>1</td>\n",
       "      <td>0</td>\n",
       "      <td>0</td>\n",
       "      <td>28</td>\n",
       "    </tr>\n",
       "    <tr>\n",
       "      <th>3</th>\n",
       "      <td>0018df346ac9c1d8413cfcc888ca8246</td>\n",
       "      <td>0</td>\n",
       "      <td>1</td>\n",
       "      <td>1</td>\n",
       "      <td>1</td>\n",
       "      <td>0</td>\n",
       "      <td>0</td>\n",
       "      <td>0</td>\n",
       "      <td>0</td>\n",
       "      <td>0</td>\n",
       "      <td>0</td>\n",
       "      <td>0</td>\n",
       "      <td>0</td>\n",
       "      <td>15</td>\n",
       "    </tr>\n",
       "    <tr>\n",
       "      <th>4</th>\n",
       "      <td>001dc955e10590d3ca4673f034feeef2</td>\n",
       "      <td>0</td>\n",
       "      <td>0</td>\n",
       "      <td>0</td>\n",
       "      <td>1</td>\n",
       "      <td>0</td>\n",
       "      <td>0</td>\n",
       "      <td>1</td>\n",
       "      <td>0</td>\n",
       "      <td>0</td>\n",
       "      <td>0</td>\n",
       "      <td>0</td>\n",
       "      <td>0</td>\n",
       "      <td>72</td>\n",
       "    </tr>\n",
       "  </tbody>\n",
       "</table>\n",
       "</div>"
      ],
      "text/plain": [
       "                                 Id  Subject Focus  Eyes  Face  Near  Action  \\\n",
       "0  0007de18844b0dbbb5e1f607da0606e0              0     1     1     1       0   \n",
       "1  0009c66b9439883ba2750fb825e1d7db              0     1     1     0       0   \n",
       "2  0013fd999caf9a3efe1352ca1b0d937e              0     1     1     1       0   \n",
       "3  0018df346ac9c1d8413cfcc888ca8246              0     1     1     1       0   \n",
       "4  001dc955e10590d3ca4673f034feeef2              0     0     0     1       0   \n",
       "\n",
       "   Accessory  Group  Collage  Human  Occlusion  Info  Blur  Pawpularity  \n",
       "0          0      1        0      0          0     0     0           63  \n",
       "1          0      0        0      0          0     0     0           42  \n",
       "2          0      0        0      1          1     0     0           28  \n",
       "3          0      0        0      0          0     0     0           15  \n",
       "4          0      1        0      0          0     0     0           72  "
      ]
     },
     "execution_count": 3,
     "metadata": {},
     "output_type": "execute_result"
    }
   ],
   "source": [
    "df = pd.read_csv('train.csv')\n",
    "df.head()"
   ]
  },
  {
   "cell_type": "code",
   "execution_count": 4,
   "metadata": {},
   "outputs": [
    {
     "data": {
      "text/plain": [
       "0       0007de18844b0dbbb5e1f607da0606e0.jpg\n",
       "1       0009c66b9439883ba2750fb825e1d7db.jpg\n",
       "2       0013fd999caf9a3efe1352ca1b0d937e.jpg\n",
       "3       0018df346ac9c1d8413cfcc888ca8246.jpg\n",
       "4       001dc955e10590d3ca4673f034feeef2.jpg\n",
       "                        ...                 \n",
       "9907    ffbfa0383c34dc513c95560d6e1fdb57.jpg\n",
       "9908    ffcc8532d76436fc79e50eb2e5238e45.jpg\n",
       "9909    ffdf2e8673a1da6fb80342fa3b119a20.jpg\n",
       "9910    fff19e2ce11718548fa1c5d039a5192a.jpg\n",
       "9911    fff8e47c766799c9e12f3cb3d66ad228.jpg\n",
       "Name: Id, Length: 9912, dtype: object"
      ]
     },
     "execution_count": 4,
     "metadata": {},
     "output_type": "execute_result"
    }
   ],
   "source": [
    "df['Id'] = df['Id'] + '.jpg';\n",
    "df['Id']"
   ]
  },
  {
   "cell_type": "code",
   "execution_count": 5,
   "metadata": {},
   "outputs": [],
   "source": [
    "df.drop([ 'Subject Focus', 'Eyes', 'Face', 'Near', 'Action', 'Accessory',\n",
    "       'Group', 'Collage', 'Human', 'Occlusion', 'Info', 'Blur'],axis = 1,inplace = True)"
   ]
  },
  {
   "cell_type": "code",
   "execution_count": 6,
   "metadata": {},
   "outputs": [
    {
     "data": {
      "text/html": [
       "<div>\n",
       "<style scoped>\n",
       "    .dataframe tbody tr th:only-of-type {\n",
       "        vertical-align: middle;\n",
       "    }\n",
       "\n",
       "    .dataframe tbody tr th {\n",
       "        vertical-align: top;\n",
       "    }\n",
       "\n",
       "    .dataframe thead th {\n",
       "        text-align: right;\n",
       "    }\n",
       "</style>\n",
       "<table border=\"1\" class=\"dataframe\">\n",
       "  <thead>\n",
       "    <tr style=\"text-align: right;\">\n",
       "      <th></th>\n",
       "      <th>Id</th>\n",
       "      <th>Pawpularity</th>\n",
       "    </tr>\n",
       "  </thead>\n",
       "  <tbody>\n",
       "    <tr>\n",
       "      <th>0</th>\n",
       "      <td>0007de18844b0dbbb5e1f607da0606e0.jpg</td>\n",
       "      <td>63</td>\n",
       "    </tr>\n",
       "    <tr>\n",
       "      <th>1</th>\n",
       "      <td>0009c66b9439883ba2750fb825e1d7db.jpg</td>\n",
       "      <td>42</td>\n",
       "    </tr>\n",
       "    <tr>\n",
       "      <th>2</th>\n",
       "      <td>0013fd999caf9a3efe1352ca1b0d937e.jpg</td>\n",
       "      <td>28</td>\n",
       "    </tr>\n",
       "    <tr>\n",
       "      <th>3</th>\n",
       "      <td>0018df346ac9c1d8413cfcc888ca8246.jpg</td>\n",
       "      <td>15</td>\n",
       "    </tr>\n",
       "    <tr>\n",
       "      <th>4</th>\n",
       "      <td>001dc955e10590d3ca4673f034feeef2.jpg</td>\n",
       "      <td>72</td>\n",
       "    </tr>\n",
       "    <tr>\n",
       "      <th>...</th>\n",
       "      <td>...</td>\n",
       "      <td>...</td>\n",
       "    </tr>\n",
       "    <tr>\n",
       "      <th>9907</th>\n",
       "      <td>ffbfa0383c34dc513c95560d6e1fdb57.jpg</td>\n",
       "      <td>15</td>\n",
       "    </tr>\n",
       "    <tr>\n",
       "      <th>9908</th>\n",
       "      <td>ffcc8532d76436fc79e50eb2e5238e45.jpg</td>\n",
       "      <td>70</td>\n",
       "    </tr>\n",
       "    <tr>\n",
       "      <th>9909</th>\n",
       "      <td>ffdf2e8673a1da6fb80342fa3b119a20.jpg</td>\n",
       "      <td>20</td>\n",
       "    </tr>\n",
       "    <tr>\n",
       "      <th>9910</th>\n",
       "      <td>fff19e2ce11718548fa1c5d039a5192a.jpg</td>\n",
       "      <td>20</td>\n",
       "    </tr>\n",
       "    <tr>\n",
       "      <th>9911</th>\n",
       "      <td>fff8e47c766799c9e12f3cb3d66ad228.jpg</td>\n",
       "      <td>30</td>\n",
       "    </tr>\n",
       "  </tbody>\n",
       "</table>\n",
       "<p>9912 rows × 2 columns</p>\n",
       "</div>"
      ],
      "text/plain": [
       "                                        Id  Pawpularity\n",
       "0     0007de18844b0dbbb5e1f607da0606e0.jpg           63\n",
       "1     0009c66b9439883ba2750fb825e1d7db.jpg           42\n",
       "2     0013fd999caf9a3efe1352ca1b0d937e.jpg           28\n",
       "3     0018df346ac9c1d8413cfcc888ca8246.jpg           15\n",
       "4     001dc955e10590d3ca4673f034feeef2.jpg           72\n",
       "...                                    ...          ...\n",
       "9907  ffbfa0383c34dc513c95560d6e1fdb57.jpg           15\n",
       "9908  ffcc8532d76436fc79e50eb2e5238e45.jpg           70\n",
       "9909  ffdf2e8673a1da6fb80342fa3b119a20.jpg           20\n",
       "9910  fff19e2ce11718548fa1c5d039a5192a.jpg           20\n",
       "9911  fff8e47c766799c9e12f3cb3d66ad228.jpg           30\n",
       "\n",
       "[9912 rows x 2 columns]"
      ]
     },
     "execution_count": 6,
     "metadata": {},
     "output_type": "execute_result"
    }
   ],
   "source": [
    "df"
   ]
  },
  {
   "cell_type": "code",
   "execution_count": 7,
   "metadata": {},
   "outputs": [
    {
     "data": {
      "text/plain": [
       "'0007de18844b0dbbb5e1f607da0606e0.jpg'"
      ]
     },
     "execution_count": 7,
     "metadata": {},
     "output_type": "execute_result"
    }
   ],
   "source": [
    "df.Id[0]"
   ]
  },
  {
   "cell_type": "code",
   "execution_count": 8,
   "metadata": {},
   "outputs": [],
   "source": [
    "X = []\n",
    "Y = []\n",
    "width = 100\n",
    "height = 100\n",
    "\n",
    "for index, row in df.iterrows():\n",
    "    file_path = \"train\" +\"/\"+ row.Id\n",
    "    image = Image.open(file_path)\n",
    "    image = image.convert('RGB')\n",
    "    image = image.resize((width, height))\n",
    "    X.append(np.array(image))\n",
    "    Y.append(row.Pawpularity)"
   ]
  },
  {
   "cell_type": "code",
   "execution_count": 13,
   "metadata": {},
   "outputs": [
    {
     "name": "stdout",
     "output_type": "stream",
     "text": [
      "Min: 0.000, Max: 1.000\n"
     ]
    }
   ],
   "source": [
    "# Normalise input data to range [0,1]\n",
    "X = np.array(X)\n",
    "X = X.astype('float32')\n",
    "X /= 255.0\n",
    "# confirm the normalization\n",
    "print('Min: %.3f, Max: %.3f' % (X.min(), X.max()))\n",
    "\n",
    "Y = np.array(Y)"
   ]
  },
  {
   "cell_type": "code",
   "execution_count": 14,
   "metadata": {},
   "outputs": [],
   "source": [
    "\n",
    "test_size = 0.3\n",
    "seed = 42\n",
    "X_train, X_test, Y_train, Y_test = train_test_split(X, \n",
    "                                                    Y,\n",
    "                                                    test_size=test_size, \n",
    "                                                    random_state=seed,\n",
    "                                                    shuffle=True,\n",
    "                                                    stratify=Y)\n",
    "\n",
    "X_test, X_val, Y_test, Y_val = train_test_split(X_test, Y_test, test_size=0.5)\n",
    "\n",
    "\n"
   ]
  },
  {
   "cell_type": "code",
   "execution_count": 15,
   "metadata": {},
   "outputs": [],
   "source": [
    "\n",
    "# Apply Image Augmentation\n",
    "\n",
    "train_datagen = ImageDataGenerator(\n",
    "    shear_range = 0.2, # random application of shearing\n",
    "    zoom_range = 0.2,\n",
    "    horizontal_flip = True) # randomly flipping half of the images horizontally\n",
    "\n",
    "test_datagen = ImageDataGenerator(\n",
    ")"
   ]
  },
  {
   "cell_type": "code",
   "execution_count": 16,
   "metadata": {},
   "outputs": [],
   "source": [
    "from keras.callbacks import Callback, ReduceLROnPlateau, EarlyStopping\n",
    "from timeit import default_timer as timer\n",
    "\n",
    "class TimingCallback(Callback):\n",
    "    def __init__(self, logs={}):\n",
    "        self.logs=[]\n",
    "    def on_epoch_begin(self, epoch, logs={}):\n",
    "        self.starttime = timer()\n",
    "    def on_epoch_end(self, epoch, logs={}):\n",
    "        self.logs.append(timer()-self.starttime)\n",
    "\n",
    "early_stopping = EarlyStopping(\n",
    "                                patience=5, # wait for 5 epochs\n",
    "                                min_delta = 0.01, # if in 5 epochs the loss function doesn't inrease (for accuracy) \n",
    "                                               # or decrease (for val_loss) by 1%, then stop\n",
    "                                verbose=1, # print the training epoch on which training was stopped\n",
    "                                mode = 'min',\n",
    "                                monitor='val_loss')\n",
    "\n",
    "reduce_learning_rate = ReduceLROnPlateau(\n",
    "                                    monitor=\"val_loss\",\n",
    "                                    patience=3, # if val_loss plateaus for 3 epochs such that it doesn't see \n",
    "                                                # an improvement of size = epsilon\n",
    "                                    episilon= 0.01,\n",
    "                                    factor=0.1,  # then we reduce the learning rate by a factor of 0.1\n",
    "                                    cooldown = 4, # and we wait for 4 epochs before we restart again\n",
    "                                    verbose=1)\n",
    "\n",
    "time_callback = TimingCallback()\n",
    "\n",
    "        \n",
    "# hyperparameters\n",
    "lr = 0.01\n",
    "epochs = 30 # setting it to a low number since this is for Kaggle, ideally you should set this to a higher number ~ 100 so that the model overfits training data, and then apply the elbow methods to select the best params on validaion data\n",
    "batch_size = 128\n",
    "results = {}\n",
    "input_shape =[width,height]\n",
    "num_of_ages = 100"
   ]
  },
  {
   "cell_type": "code",
   "execution_count": 17,
   "metadata": {},
   "outputs": [],
   "source": [
    "def baseline_model():\n",
    "    model = Sequential()\n",
    "    model.add(Conv2D(filters=32,kernel_size=(3,3),activation=\"relu\",\n",
    "                   padding=\"valid\",\n",
    "                   kernel_regularizer=regularizers.l2(0.00001),\n",
    "                   input_shape=(input_shape[0], input_shape[1], 3)))\n",
    "    model.add(MaxPooling2D(pool_size=2, strides=2, padding='valid'))\n",
    "    model.add(Dropout(0.5))\n",
    "    model.add(Flatten())\n",
    "    model.add(Dense(1,activation=\"linear\")) \n",
    "    return model"
   ]
  },
  {
   "cell_type": "code",
   "execution_count": 18,
   "metadata": {},
   "outputs": [],
   "source": [
    "Adam= keras.optimizers.Adam(lr=0.1,beta_1=0.9, beta_2=0.999, decay=0.0)"
   ]
  },
  {
   "cell_type": "code",
   "execution_count": 19,
   "metadata": {},
   "outputs": [
    {
     "name": "stdout",
     "output_type": "stream",
     "text": [
      "WARNING:tensorflow:From <ipython-input-19-70879aee4858>:16: Model.fit_generator (from tensorflow.python.keras.engine.training) is deprecated and will be removed in a future version.\n",
      "Instructions for updating:\n",
      "Please use Model.fit, which supports generators.\n",
      "Epoch 1/30\n",
      "54/54 [==============================] - 42s 778ms/step - loss: 17.6375 - mean_absolute_error: 17.6374 - val_loss: 15.4504 - val_mean_absolute_error: 15.4504\n",
      "Epoch 2/30\n",
      "54/54 [==============================] - 48s 884ms/step - loss: 15.6170 - mean_absolute_error: 15.6169 - val_loss: 14.8002 - val_mean_absolute_error: 14.8002\n",
      "Epoch 3/30\n",
      "54/54 [==============================] - 44s 808ms/step - loss: 15.1281 - mean_absolute_error: 15.1281 - val_loss: 14.7976 - val_mean_absolute_error: 14.7975\n",
      "Epoch 4/30\n",
      "54/54 [==============================] - 52s 964ms/step - loss: 15.0873 - mean_absolute_error: 15.0872 - val_loss: 14.7643 - val_mean_absolute_error: 14.7642\n",
      "Epoch 5/30\n",
      "54/54 [==============================] - 44s 811ms/step - loss: 15.0680 - mean_absolute_error: 15.0680 - val_loss: 15.0796 - val_mean_absolute_error: 15.0796\n",
      "Epoch 6/30\n",
      "54/54 [==============================] - 39s 728ms/step - loss: 14.9945 - mean_absolute_error: 14.9944 - val_loss: 15.0223 - val_mean_absolute_error: 15.0223\n",
      "Epoch 7/30\n",
      "54/54 [==============================] - 39s 722ms/step - loss: 15.0121 - mean_absolute_error: 15.0120 - val_loss: 14.7282 - val_mean_absolute_error: 14.7281\n",
      "Epoch 8/30\n",
      "54/54 [==============================] - 39s 718ms/step - loss: 14.9310 - mean_absolute_error: 14.9309 - val_loss: 14.7133 - val_mean_absolute_error: 14.7133\n",
      "Epoch 9/30\n",
      "54/54 [==============================] - 39s 731ms/step - loss: 14.9292 - mean_absolute_error: 14.9292 - val_loss: 14.6812 - val_mean_absolute_error: 14.6811\n",
      "Epoch 10/30\n",
      "54/54 [==============================] - 42s 787ms/step - loss: 15.0068 - mean_absolute_error: 15.0067 - val_loss: 14.8364 - val_mean_absolute_error: 14.8364\n",
      "Epoch 11/30\n",
      "54/54 [==============================] - 43s 805ms/step - loss: 14.9681 - mean_absolute_error: 14.9681 - val_loss: 14.8140 - val_mean_absolute_error: 14.8140\n",
      "Epoch 12/30\n",
      "54/54 [==============================] - 41s 766ms/step - loss: 14.8992 - mean_absolute_error: 14.8992 - val_loss: 14.6550 - val_mean_absolute_error: 14.6550\n",
      "Epoch 13/30\n",
      "54/54 [==============================] - 42s 781ms/step - loss: 15.1304 - mean_absolute_error: 15.1303 - val_loss: 14.6409 - val_mean_absolute_error: 14.6408\n",
      "Epoch 14/30\n",
      "54/54 [==============================] - 46s 852ms/step - loss: 14.8920 - mean_absolute_error: 14.8919 - val_loss: 14.8114 - val_mean_absolute_error: 14.8114\n",
      "Epoch 15/30\n",
      "54/54 [==============================] - 42s 786ms/step - loss: 14.9187 - mean_absolute_error: 14.9187 - val_loss: 15.0032 - val_mean_absolute_error: 15.0032\n",
      "Epoch 16/30\n",
      "54/54 [==============================] - ETA: 0s - loss: 14.9514 - mean_absolute_error: 14.9514\n",
      "Epoch 00016: ReduceLROnPlateau reducing learning rate to 0.00010000000474974513.\n",
      "54/54 [==============================] - 42s 775ms/step - loss: 14.9514 - mean_absolute_error: 14.9514 - val_loss: 14.7368 - val_mean_absolute_error: 14.7367\n",
      "Epoch 17/30\n",
      "54/54 [==============================] - 45s 830ms/step - loss: 14.7874 - mean_absolute_error: 14.7874 - val_loss: 14.6604 - val_mean_absolute_error: 14.6604\n",
      "Epoch 18/30\n",
      "54/54 [==============================] - 49s 909ms/step - loss: 14.8442 - mean_absolute_error: 14.8441 - val_loss: 14.6512 - val_mean_absolute_error: 14.6511\n",
      "Epoch 00018: early stopping\n"
     ]
    }
   ],
   "source": [
    "model = baseline_model()\n",
    "\n",
    "model.compile(optimizer=\"adam\",loss=\"mean_absolute_error\",metrics=['mean_absolute_error'])\n",
    "\n",
    "model_history = model.fit_generator(\n",
    "            train_datagen.flow(X_train,Y_train,\n",
    "                         batch_size = batch_size), # use augmented images\n",
    "            validation_data = (X_val,Y_val),\n",
    "            steps_per_epoch=X_train.shape[0] // batch_size,\n",
    "            epochs = epochs,\n",
    "            callbacks = [\n",
    "                         reduce_learning_rate,\n",
    "                         early_stopping,\n",
    "                         time_callback\n",
    "                        ],\n",
    "            verbose=True)"
   ]
  },
  {
   "cell_type": "code",
   "execution_count": 20,
   "metadata": {},
   "outputs": [],
   "source": [
    "baseline_adam_train_loss = model_history.history[\"loss\"]\n",
    "baseline_adam_val_loss = model_history.history[\"val_loss\"]\n",
    "baseline_adam_train_acc = model_history.history[\"mean_absolute_error\"]\n",
    "baseline_adam_val_acc = model_history.history[\"val_mean_absolute_error\"]\n",
    "\n",
    "\n",
    "results[\"baseline_adam\"] = {'train-loss': baseline_adam_train_loss,\n",
    "                             'val-loss': baseline_adam_val_loss,\n",
    "                             'train-mae': baseline_adam_train_acc,\n",
    "                             'val-mae': baseline_adam_val_acc}"
   ]
  },
  {
   "cell_type": "code",
   "execution_count": 21,
   "metadata": {},
   "outputs": [
    {
     "name": "stdout",
     "output_type": "stream",
     "text": [
      "Epoch 1/30\n",
      "55/55 [==============================] - 371s 7s/step - loss: 36.6635 - mean_absolute_error: 36.6635 - val_loss: 34.1185 - val_mean_absolute_error: 34.1185\n",
      "Epoch 2/30\n",
      "55/55 [==============================] - 345s 6s/step - loss: 29.7129 - mean_absolute_error: 29.7129 - val_loss: 23.4895 - val_mean_absolute_error: 23.4895\n",
      "Epoch 3/30\n",
      "55/55 [==============================] - 351s 6s/step - loss: 17.9497 - mean_absolute_error: 17.9497 - val_loss: 14.5825 - val_mean_absolute_error: 14.5825\n",
      "Epoch 4/30\n",
      "55/55 [==============================] - 344s 6s/step - loss: 15.2241 - mean_absolute_error: 15.2241 - val_loss: 14.5287 - val_mean_absolute_error: 14.5287\n",
      "Epoch 5/30\n",
      "55/55 [==============================] - 344s 6s/step - loss: 14.9838 - mean_absolute_error: 14.9838 - val_loss: 14.5333 - val_mean_absolute_error: 14.5333\n",
      "Epoch 6/30\n",
      "55/55 [==============================] - 340s 6s/step - loss: 14.9333 - mean_absolute_error: 14.9333 - val_loss: 14.5537 - val_mean_absolute_error: 14.5537\n",
      "Epoch 7/30\n",
      "55/55 [==============================] - ETA: 0s - loss: 14.8789 - mean_absolute_error: 14.8789\n",
      "Epoch 00007: ReduceLROnPlateau reducing learning rate to 0.00010000000474974513.\n",
      "55/55 [==============================] - 336s 6s/step - loss: 14.8789 - mean_absolute_error: 14.8789 - val_loss: 14.5555 - val_mean_absolute_error: 14.5555\n",
      "Epoch 8/30\n",
      "55/55 [==============================] - 350s 6s/step - loss: 14.8687 - mean_absolute_error: 14.8687 - val_loss: 14.5437 - val_mean_absolute_error: 14.5437\n",
      "Epoch 9/30\n",
      "55/55 [==============================] - 352s 6s/step - loss: 14.8371 - mean_absolute_error: 14.8371 - val_loss: 14.5377 - val_mean_absolute_error: 14.5377\n",
      "Epoch 00009: early stopping\n"
     ]
    }
   ],
   "source": [
    "from keras.applications.mobilenet import MobileNet\n",
    "from keras.layers import GlobalAveragePooling2D, Dense, Dropout, Flatten, BatchNormalization\n",
    "from keras.models import Sequential\n",
    "base_mobilenet_model = MobileNet(input_shape =  (input_shape[0],input_shape[1], 3), \n",
    "                                 include_top = False, \n",
    "                                 weights = None)\n",
    "mobilenet_model = Sequential()\n",
    "mobilenet_model.add(BatchNormalization(input_shape = (input_shape[0],input_shape[1], 3)))\n",
    "mobilenet_model.add(base_mobilenet_model)\n",
    "mobilenet_model.add(BatchNormalization())\n",
    "mobilenet_model.add(GlobalAveragePooling2D())\n",
    "mobilenet_model.add(Dropout(0.5))\n",
    "mobilenet_model.add(Dense(1,activation='linear')) \n",
    "\n",
    "\n",
    "\n",
    "mobilenet_model.compile(optimizer = 'adam', loss = 'mean_absolute_error',\n",
    "                           metrics = [\"mean_absolute_error\"])\n",
    "\n",
    "# mobilenet_model.summary()\n",
    "\n",
    "# Fit model on training data\n",
    "mobilenet_model_history = mobilenet_model.fit_generator(\n",
    "            train_datagen.flow(X_train,Y_train,\n",
    "                         batch_size = batch_size), \n",
    "            validation_data = (X_val,Y_val),\n",
    "            epochs = epochs,\n",
    "            callbacks = [\n",
    "                         reduce_learning_rate,\n",
    "                         early_stopping,\n",
    "                         time_callback\n",
    "                        ],\n",
    "            verbose=True)"
   ]
  },
  {
   "cell_type": "code",
   "execution_count": 22,
   "metadata": {},
   "outputs": [
    {
     "name": "stdout",
     "output_type": "stream",
     "text": [
      "12/12 [==============================] - 2s 144ms/step - loss: 15.1552 - mean_absolute_error: 15.1551\n",
      "{'loss': 15.155174255371094, 'mean_absolute_error': 15.155120849609375}\n"
     ]
    }
   ],
   "source": [
    "# Baseline model\n",
    "\n",
    "model_test_results = model.evaluate(X_test, Y_test, batch_size=128)\n",
    "print(dict(zip(model.metrics_names, model_test_results)))"
   ]
  },
  {
   "cell_type": "code",
   "execution_count": 23,
   "metadata": {},
   "outputs": [
    {
     "name": "stdout",
     "output_type": "stream",
     "text": [
      "12/12 [==============================] - 7s 557ms/step - loss: 15.1101 - mean_absolute_error: 15.1101\n",
      "{'loss': 15.11011028289795, 'mean_absolute_error': 15.11011028289795}\n"
     ]
    }
   ],
   "source": [
    "# MobileNet\n",
    "\n",
    "mobilenet_model_test_results = mobilenet_model.evaluate(X_test, Y_test, batch_size=128)\n",
    "print(dict(zip(mobilenet_model.metrics_names, mobilenet_model_test_results)))"
   ]
  },
  {
   "cell_type": "code",
   "execution_count": 24,
   "metadata": {},
   "outputs": [],
   "source": [
    "df_test = pd.read_csv(\"test.csv\")\n",
    "Id = df_test[\"Id\"].copy()"
   ]
  },
  {
   "cell_type": "code",
   "execution_count": 25,
   "metadata": {},
   "outputs": [],
   "source": [
    "df_test[\"Id\"] = df_test[\"Id\"].apply(lambda x : x + \".jpg\")"
   ]
  },
  {
   "cell_type": "code",
   "execution_count": 26,
   "metadata": {},
   "outputs": [
    {
     "data": {
      "text/html": [
       "<div>\n",
       "<style scoped>\n",
       "    .dataframe tbody tr th:only-of-type {\n",
       "        vertical-align: middle;\n",
       "    }\n",
       "\n",
       "    .dataframe tbody tr th {\n",
       "        vertical-align: top;\n",
       "    }\n",
       "\n",
       "    .dataframe thead th {\n",
       "        text-align: right;\n",
       "    }\n",
       "</style>\n",
       "<table border=\"1\" class=\"dataframe\">\n",
       "  <thead>\n",
       "    <tr style=\"text-align: right;\">\n",
       "      <th></th>\n",
       "      <th>Id</th>\n",
       "      <th>Subject Focus</th>\n",
       "      <th>Eyes</th>\n",
       "      <th>Face</th>\n",
       "      <th>Near</th>\n",
       "      <th>Action</th>\n",
       "      <th>Accessory</th>\n",
       "      <th>Group</th>\n",
       "      <th>Collage</th>\n",
       "      <th>Human</th>\n",
       "      <th>Occlusion</th>\n",
       "      <th>Info</th>\n",
       "      <th>Blur</th>\n",
       "    </tr>\n",
       "  </thead>\n",
       "  <tbody>\n",
       "    <tr>\n",
       "      <th>0</th>\n",
       "      <td>4128bae22183829d2b5fea10effdb0c3.jpg</td>\n",
       "      <td>1</td>\n",
       "      <td>0</td>\n",
       "      <td>1</td>\n",
       "      <td>0</td>\n",
       "      <td>0</td>\n",
       "      <td>1</td>\n",
       "      <td>1</td>\n",
       "      <td>0</td>\n",
       "      <td>0</td>\n",
       "      <td>1</td>\n",
       "      <td>0</td>\n",
       "      <td>1</td>\n",
       "    </tr>\n",
       "    <tr>\n",
       "      <th>1</th>\n",
       "      <td>43a2262d7738e3d420d453815151079e.jpg</td>\n",
       "      <td>0</td>\n",
       "      <td>1</td>\n",
       "      <td>0</td>\n",
       "      <td>0</td>\n",
       "      <td>0</td>\n",
       "      <td>0</td>\n",
       "      <td>1</td>\n",
       "      <td>1</td>\n",
       "      <td>0</td>\n",
       "      <td>0</td>\n",
       "      <td>0</td>\n",
       "      <td>0</td>\n",
       "    </tr>\n",
       "    <tr>\n",
       "      <th>2</th>\n",
       "      <td>4e429cead1848a298432a0acad014c9d.jpg</td>\n",
       "      <td>0</td>\n",
       "      <td>0</td>\n",
       "      <td>0</td>\n",
       "      <td>1</td>\n",
       "      <td>0</td>\n",
       "      <td>1</td>\n",
       "      <td>1</td>\n",
       "      <td>1</td>\n",
       "      <td>0</td>\n",
       "      <td>1</td>\n",
       "      <td>1</td>\n",
       "      <td>1</td>\n",
       "    </tr>\n",
       "    <tr>\n",
       "      <th>3</th>\n",
       "      <td>80bc3ccafcc51b66303c2c263aa38486.jpg</td>\n",
       "      <td>1</td>\n",
       "      <td>0</td>\n",
       "      <td>1</td>\n",
       "      <td>0</td>\n",
       "      <td>0</td>\n",
       "      <td>0</td>\n",
       "      <td>0</td>\n",
       "      <td>0</td>\n",
       "      <td>0</td>\n",
       "      <td>0</td>\n",
       "      <td>1</td>\n",
       "      <td>0</td>\n",
       "    </tr>\n",
       "    <tr>\n",
       "      <th>4</th>\n",
       "      <td>8f49844c382931444e68dffbe20228f4.jpg</td>\n",
       "      <td>1</td>\n",
       "      <td>1</td>\n",
       "      <td>1</td>\n",
       "      <td>0</td>\n",
       "      <td>1</td>\n",
       "      <td>1</td>\n",
       "      <td>0</td>\n",
       "      <td>1</td>\n",
       "      <td>0</td>\n",
       "      <td>1</td>\n",
       "      <td>1</td>\n",
       "      <td>0</td>\n",
       "    </tr>\n",
       "    <tr>\n",
       "      <th>5</th>\n",
       "      <td>b03f7041962238a7c9d6537e22f9b017.jpg</td>\n",
       "      <td>0</td>\n",
       "      <td>0</td>\n",
       "      <td>1</td>\n",
       "      <td>1</td>\n",
       "      <td>1</td>\n",
       "      <td>1</td>\n",
       "      <td>1</td>\n",
       "      <td>1</td>\n",
       "      <td>1</td>\n",
       "      <td>0</td>\n",
       "      <td>1</td>\n",
       "      <td>0</td>\n",
       "    </tr>\n",
       "    <tr>\n",
       "      <th>6</th>\n",
       "      <td>c978013571258ed6d4637f6e8cc9d6a3.jpg</td>\n",
       "      <td>1</td>\n",
       "      <td>0</td>\n",
       "      <td>0</td>\n",
       "      <td>0</td>\n",
       "      <td>1</td>\n",
       "      <td>1</td>\n",
       "      <td>0</td>\n",
       "      <td>1</td>\n",
       "      <td>0</td>\n",
       "      <td>1</td>\n",
       "      <td>1</td>\n",
       "      <td>1</td>\n",
       "    </tr>\n",
       "    <tr>\n",
       "      <th>7</th>\n",
       "      <td>e0de453c1bffc20c22b072b34b54e50f.jpg</td>\n",
       "      <td>1</td>\n",
       "      <td>0</td>\n",
       "      <td>1</td>\n",
       "      <td>0</td>\n",
       "      <td>0</td>\n",
       "      <td>0</td>\n",
       "      <td>0</td>\n",
       "      <td>0</td>\n",
       "      <td>1</td>\n",
       "      <td>0</td>\n",
       "      <td>0</td>\n",
       "      <td>1</td>\n",
       "    </tr>\n",
       "  </tbody>\n",
       "</table>\n",
       "</div>"
      ],
      "text/plain": [
       "                                     Id  Subject Focus  Eyes  Face  Near  \\\n",
       "0  4128bae22183829d2b5fea10effdb0c3.jpg              1     0     1     0   \n",
       "1  43a2262d7738e3d420d453815151079e.jpg              0     1     0     0   \n",
       "2  4e429cead1848a298432a0acad014c9d.jpg              0     0     0     1   \n",
       "3  80bc3ccafcc51b66303c2c263aa38486.jpg              1     0     1     0   \n",
       "4  8f49844c382931444e68dffbe20228f4.jpg              1     1     1     0   \n",
       "5  b03f7041962238a7c9d6537e22f9b017.jpg              0     0     1     1   \n",
       "6  c978013571258ed6d4637f6e8cc9d6a3.jpg              1     0     0     0   \n",
       "7  e0de453c1bffc20c22b072b34b54e50f.jpg              1     0     1     0   \n",
       "\n",
       "   Action  Accessory  Group  Collage  Human  Occlusion  Info  Blur  \n",
       "0       0          1      1        0      0          1     0     1  \n",
       "1       0          0      1        1      0          0     0     0  \n",
       "2       0          1      1        1      0          1     1     1  \n",
       "3       0          0      0        0      0          0     1     0  \n",
       "4       1          1      0        1      0          1     1     0  \n",
       "5       1          1      1        1      1          0     1     0  \n",
       "6       1          1      0        1      0          1     1     1  \n",
       "7       0          0      0        0      1          0     0     1  "
      ]
     },
     "execution_count": 26,
     "metadata": {},
     "output_type": "execute_result"
    }
   ],
   "source": [
    "df_test"
   ]
  },
  {
   "cell_type": "code",
   "execution_count": 27,
   "metadata": {},
   "outputs": [],
   "source": [
    "X = []\n",
    "Y = []\n",
    "width = 100\n",
    "height = 100\n",
    "\n",
    "for index, row in df_test.iterrows():\n",
    "    file_path = \"test\" +\"/\"+ row.Id\n",
    "    image = Image.open(file_path)\n",
    "    image = image.convert('RGB')\n",
    "    image = image.resize((width, height))\n",
    "    X.append(np.array(image))\n",
    "#     Y.append(row.Pawpularity)"
   ]
  },
  {
   "cell_type": "code",
   "execution_count": 33,
   "metadata": {},
   "outputs": [],
   "source": [
    "# X"
   ]
  },
  {
   "cell_type": "code",
   "execution_count": 29,
   "metadata": {},
   "outputs": [
    {
     "name": "stdout",
     "output_type": "stream",
     "text": [
      "Min: 0.000, Max: 1.000\n"
     ]
    }
   ],
   "source": [
    "# Normalise input data to range [0,1]\n",
    "X = np.array(X)\n",
    "X = X.astype('float32')\n",
    "X /= 255.0\n",
    "# confirm the normalization\n",
    "print('Min: %.3f, Max: %.3f' % (X.min(), X.max()))\n",
    "\n",
    "# Y = np.array(Y)"
   ]
  },
  {
   "cell_type": "code",
   "execution_count": 30,
   "metadata": {},
   "outputs": [],
   "source": [
    "predicted_ages = model.predict(X)"
   ]
  },
  {
   "cell_type": "code",
   "execution_count": 31,
   "metadata": {},
   "outputs": [
    {
     "data": {
      "text/plain": [
       "array([[42.772358],\n",
       "       [42.74786 ],\n",
       "       [42.90917 ],\n",
       "       [43.00191 ],\n",
       "       [42.76608 ],\n",
       "       [43.037506],\n",
       "       [42.882668],\n",
       "       [43.17278 ]], dtype=float32)"
      ]
     },
     "execution_count": 31,
     "metadata": {},
     "output_type": "execute_result"
    }
   ],
   "source": [
    "predicted_ages"
   ]
  },
  {
   "cell_type": "code",
   "execution_count": 32,
   "metadata": {},
   "outputs": [
    {
     "data": {
      "text/plain": [
       "array([[33.65443 ],\n",
       "       [33.65647 ],\n",
       "       [33.65442 ],\n",
       "       [33.64621 ],\n",
       "       [33.655827],\n",
       "       [33.646152],\n",
       "       [33.643513],\n",
       "       [33.64892 ]], dtype=float32)"
      ]
     },
     "execution_count": 32,
     "metadata": {},
     "output_type": "execute_result"
    }
   ],
   "source": [
    "pred_mobile_pop= mobilenet_model.predict(X)\n",
    "pred_mobile_pop"
   ]
  },
  {
   "cell_type": "markdown",
   "metadata": {},
   "source": [
    "## Model 3: VGG16"
   ]
  },
  {
   "cell_type": "code",
   "execution_count": 34,
   "metadata": {},
   "outputs": [
    {
     "name": "stdout",
     "output_type": "stream",
     "text": [
      "Downloading data from https://storage.googleapis.com/tensorflow/keras-applications/vgg16/vgg16_weights_tf_dim_ordering_tf_kernels_notop.h5\n",
      "58892288/58889256 [==============================] - 15s 0us/step\n"
     ]
    }
   ],
   "source": [
    "from keras.applications import VGG16\n",
    "\n",
    "\n",
    "conv_base = VGG16(weights='imagenet',                \n",
    "                  include_top=False,              \n",
    "                  input_shape=(input_shape[0],input_shape[1], 3))\n",
    "\n",
    "for layer in conv_base.layers: # make VGG16 weights untrainable\n",
    "    layer.trainable = False"
   ]
  },
  {
   "cell_type": "code",
   "execution_count": 35,
   "metadata": {},
   "outputs": [],
   "source": [
    "import keras\n",
    "\n",
    "vgg_adam = Sequential() \n",
    "vgg_adam.add(conv_base) \n",
    "vgg_adam.add(MaxPooling2D())\n",
    "vgg_adam.add(Dense(1024,activation='relu',kernel_regularizer=regularizers.l2(0.00001)))\n",
    "vgg_adam.add(Dropout(0.5))\n",
    "vgg_adam.add(Flatten())\n",
    "vgg_adam.add(Dense(1,activation=\"linear\"))\n",
    "\n",
    "vgg_adam.compile(optimizer = \"adam\",loss=\"mean_absolute_error\", metrics=[\"mean_absolute_error\"])"
   ]
  },
  {
   "cell_type": "code",
   "execution_count": 36,
   "metadata": {},
   "outputs": [
    {
     "name": "stdout",
     "output_type": "stream",
     "text": [
      "Epoch 1/30\n",
      "54/54 [==============================] - 428s 8s/step - loss: 17.3113 - mean_absolute_error: 17.3046 - val_loss: 14.7592 - val_mean_absolute_error: 14.7526\n",
      "Epoch 2/30\n",
      "54/54 [==============================] - 406s 8s/step - loss: 15.0072 - mean_absolute_error: 15.0008 - val_loss: 14.4990 - val_mean_absolute_error: 14.4926\n",
      "Epoch 3/30\n",
      "54/54 [==============================] - 418s 8s/step - loss: 14.8515 - mean_absolute_error: 14.8451 - val_loss: 14.5219 - val_mean_absolute_error: 14.5155\n",
      "Epoch 4/30\n",
      "54/54 [==============================] - 410s 8s/step - loss: 14.8351 - mean_absolute_error: 14.8286 - val_loss: 14.7424 - val_mean_absolute_error: 14.7359\n",
      "Epoch 5/30\n",
      "54/54 [==============================] - 438s 8s/step - loss: 14.7804 - mean_absolute_error: 14.7739 - val_loss: 14.3516 - val_mean_absolute_error: 14.3451\n",
      "Epoch 6/30\n",
      "54/54 [==============================] - 430s 8s/step - loss: 14.7499 - mean_absolute_error: 14.7433 - val_loss: 14.3542 - val_mean_absolute_error: 14.3476\n",
      "Epoch 7/30\n",
      "54/54 [==============================] - 418s 8s/step - loss: 14.6733 - mean_absolute_error: 14.6667 - val_loss: 14.3633 - val_mean_absolute_error: 14.3566\n",
      "Epoch 8/30\n",
      "54/54 [==============================] - ETA: 0s - loss: 14.7081 - mean_absolute_error: 14.7013\n",
      "Epoch 00008: ReduceLROnPlateau reducing learning rate to 0.00010000000474974513.\n",
      "54/54 [==============================] - 402s 7s/step - loss: 14.7081 - mean_absolute_error: 14.7013 - val_loss: 14.6850 - val_mean_absolute_error: 14.6782\n",
      "Epoch 9/30\n",
      "54/54 [==============================] - 1511s 28s/step - loss: 14.5439 - mean_absolute_error: 14.5371 - val_loss: 14.3870 - val_mean_absolute_error: 14.3803\n",
      "Epoch 10/30\n",
      "54/54 [==============================] - 428s 8s/step - loss: 14.5894 - mean_absolute_error: 14.5826 - val_loss: 14.3883 - val_mean_absolute_error: 14.3815\n",
      "Epoch 00010: early stopping\n"
     ]
    }
   ],
   "source": [
    "vgg_adam_history = vgg_adam.fit_generator(\n",
    "            train_datagen.flow(X_train,Y_train,\n",
    "                         batch_size = batch_size), # use augmented images\n",
    "            validation_data = (X_val,Y_val),\n",
    "            steps_per_epoch=X_train.shape[0] // batch_size,\n",
    "            epochs = epochs,\n",
    "            callbacks = [\n",
    "                         reduce_learning_rate,\n",
    "                         early_stopping,\n",
    "                         time_callback\n",
    "                        ],\n",
    "            verbose=True)"
   ]
  },
  {
   "cell_type": "code",
   "execution_count": 37,
   "metadata": {},
   "outputs": [],
   "source": [
    "vgg_adam_train_loss = vgg_adam_history.history[\"loss\"]\n",
    "vgg_adam_val_loss = vgg_adam_history.history[\"val_loss\"]\n",
    "vgg_adam_train_acc = vgg_adam_history.history[\"mean_absolute_error\"]\n",
    "vgg_adam_val_acc = vgg_adam_history.history[\"val_mean_absolute_error\"]\n",
    "\n",
    "\n",
    "results[\"vgg_adam\"] = {'train-loss': vgg_adam_train_loss,\n",
    "                             'val-loss': vgg_adam_val_loss,\n",
    "                             'train-mae': vgg_adam_train_acc,\n",
    "                             'val-mae': vgg_adam_val_acc}"
   ]
  },
  {
   "cell_type": "code",
   "execution_count": 39,
   "metadata": {},
   "outputs": [],
   "source": [
    "mobilenet_train_loss = mobilenet_model_history.history[\"loss\"]\n",
    "mobilenet_val_loss = mobilenet_model_history.history[\"val_loss\"]\n",
    "mobilenet_train_acc = mobilenet_model_history.history[\"mean_absolute_error\"]\n",
    "mobilenet_val_acc = mobilenet_model_history.history[\"val_mean_absolute_error\"]\n",
    "\n",
    "\n",
    "results[\"mobilenet_adam\"] = {'train-loss': mobilenet_train_loss,\n",
    "                             'val-loss': mobilenet_val_loss,\n",
    "                             'train-mae': mobilenet_train_acc,\n",
    "                             'val-mae': mobilenet_val_acc}"
   ]
  },
  {
   "cell_type": "code",
   "execution_count": 43,
   "metadata": {},
   "outputs": [
    {
     "data": {
      "image/png": "[encoded data removed]",
      "text/plain": [
       "<Figure size 1080x720 with 1 Axes>"
      ]
     },
     "metadata": {
      "needs_background": "light"
     },
     "output_type": "display_data"
    }
   ],
   "source": [
    "color_bar = [\"r\", \"g\", \"b\", \"y\", \"m\", \"k\"]\n",
    "\n",
    "plt.figure(figsize=(15,10))\n",
    "for i, cond in enumerate(results.keys()):\n",
    "    plt.plot(range(len(results[cond]['train-mae'])),results[cond]['train-mae'], '-', label=cond+\"_train\")\n",
    "    plt.plot(range(len(results[cond]['val-mae'])),results[cond]['val-mae'], '--', label=cond+\"_val\")\n",
    "plt.title(\"Mean Absolute Error\")\n",
    "plt.legend()\n",
    "plt.show()"
   ]
  },
  {
   "cell_type": "code",
   "execution_count": 44,
   "metadata": {},
   "outputs": [
    {
     "data": {
      "text/plain": [
       "array([[30.544806],\n",
       "       [29.323105],\n",
       "       [27.641794],\n",
       "       [28.651056],\n",
       "       [29.364468],\n",
       "       [26.702648],\n",
       "       [28.260298],\n",
       "       [29.203066]], dtype=float32)"
      ]
     },
     "execution_count": 44,
     "metadata": {},
     "output_type": "execute_result"
    }
   ],
   "source": [
    "pred__vgg= vgg_adam.predict(X)\n",
    "pred__vgg"
   ]
  },
  {
   "cell_type": "code",
   "execution_count": null,
   "metadata": {},
   "outputs": [],
   "source": []
  }
 ],
 "metadata": {
  "kernelspec": {
   "display_name": "Python 3",
   "language": "python",
   "name": "python3"
  },
  "language_info": {
   "codemirror_mode": {
    "name": "ipython",
    "version": 3
   },
   "file_extension": ".py",
   "mimetype": "text/x-python",
   "name": "python",
   "nbconvert_exporter": "python",
   "pygments_lexer": "ipython3",
   "version": "3.8.3"
  }
 },
 "nbformat": 4,
 "nbformat_minor": 5
}
